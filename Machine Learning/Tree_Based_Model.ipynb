{
  "nbformat": 4,
  "nbformat_minor": 0,
  "metadata": {
    "colab": {
      "provenance": [],
      "collapsed_sections": [
        "YvnaoGLE_f1l"
      ],
      "toc_visible": true
    },
    "kernelspec": {
      "name": "python3",
      "display_name": "Python 3"
    },
    "language_info": {
      "name": "python"
    }
  },
  "cells": [
    {
      "cell_type": "markdown",
      "source": [
        "<img align=\"right\" src=\"https://ds-cs-images.s3.ap-northeast-2.amazonaws.com/Codestates_Fulllogo_Color.png\" width=100>\n",
        "\n",
        "## *AIB / SECTION 2 / SPRINT 2 / NOTE 1*\n",
        "\n",
        "# 📝 Assignment\n",
        "---"
      ],
      "metadata": {
        "id": "skgeg3LE73Sq"
      }
    },
    {
      "cell_type": "markdown",
      "source": [
        "# 🌱 **기본 과제**\n",
        "[캐글](https://www.kaggle.com/) 계정을 만든 후, 공유된 인클래스 대회 url을 통해 대회에 참여하세요. \n",
        "\n",
        "오늘 과제에서 사용하는 데이터셋의 Description을 확인해 보세요. "
      ],
      "metadata": {
        "id": "hvSMseum8Gse"
      }
    },
    {
      "cell_type": "markdown",
      "source": [
        "##### **Data Description**"
      ],
      "metadata": {
        "id": "YvnaoGLE_f1l"
      }
    },
    {
      "cell_type": "markdown",
      "source": [
        "> 모든 binary binary 변수는 다음과 같은 규칙을 따릅니다. <br>\n",
        "`0 : No / 1 : Yes`\n",
        "\n",
        "- **targets**\n",
        "  - `vacc_h1n1_f` - H1N1독감 백신 반응 (이 문제의 label)\n",
        "  - `vacc_ease_f` - 계절성 독감 백신 반응\n",
        "- **features**\n",
        "  - `h1n1_concern` - H1N1백신에 대한 우려 정도\n",
        "    - 0 : 전혀 우려되지 않음\n",
        "    - 1 : 그다지 우려되지 않음\n",
        "    - 2 : 다소 우려됨\n",
        "    - 3 : 매우 걱정됨\n",
        "  - `h1n1_knowledge` - H1N1백신에 대해 얼마나 잘 알고 있는가?\n",
        "    - 0 : 아는 것이 전혀 없다\n",
        "    - 1 : 조금 알고 있다.\n",
        "    - 2 : 매우 잘 알고 있다.\n",
        "  - `behavioral_antiviral_meds` - 항생제 복용 여부 (binary)\n",
        "  - `behavioral_avoidance` - 독감 유증상자와의 접촉을 피해왔는가?\n",
        "  - `behavioral_face_mask` - 마스크를 착용 하였는가?\n",
        "  - `behavioral_wash_hands` - 손을 자주 씻거나 세정제를 사용하였는가? \n",
        "  - `behavioral_large_gatherings` - 대규모 집단 모임 참석을 줄였는가? \n",
        "  - `behavioral_outside_home` - 동거인 외의 사람들과의 접촉을 피하였는가?\n",
        "  - `behavioral_touch_face` - 눈, 코, 입 등을 만지지 않았는가?\n",
        "  - `doctor_recc_h1n1` - 의사에게 H1N1독감 백신 투여를 권유받았는가? \n",
        "  - `doctor_recc_seasonal` - 의사에게 계절성 독감 백신 투여를 권유받았는가?\n",
        "  - `chronic_med_condition` - 다음의 만성질환으로 인해 약물을 복용하고 있는가? : 천식 또는 기타 폐 질환, 당뇨병, 심장 질환, 신장 질환, 겸상 적혈구 빈혈 또는 기타 빈혈, 신경학적 또는 신경근 질환, 간 질환 또는 만성 질환 또는 약물 복용으로 인한 면역 체계 약화 만성 질환\n",
        "  - `child_under_6_months` - 6개월 미만 영아와 정기적으로 긴밀히 접촉을 한 적이 있는가?\n",
        "  - `health_insurance` - 건강 보험에 가입되어 있는가?\n",
        "  - `health_worker` - 의료계 종사자인가?\n",
        "  - `opinion_h1n1_vacc_effective` - H1N1백신의 효과에 대한 응답자의 생각\n",
        "    - Not at all effective\n",
        "    - Not very effective\n",
        "    - Don't know\n",
        "    - Somewhat effective\n",
        "    - Very effective\n",
        "  - `opinion_h1n1_risk` - H1N1백신의 위험에 대한 응답자의 생각\n",
        "    - Very Low\n",
        "    - Somewhat low\n",
        "    - Don't know\n",
        "    - Somewhat high\n",
        "    - Very high\n",
        "  - `opinion_h1n1_sick_from_vacc` - H1N1백신 투여 후 질병에 걸릴 수도 있는 위험에 대한 응답자의 생각 \n",
        "    - Not at all worried\n",
        "    - Not very worried\n",
        "    - Don't know\n",
        "    - Somewhat worried\n",
        "    - Very worried\n",
        "  - `opinion_seas_vacc_effective` - 계절성 백신의 효과에 대한 응답자의 생각\n",
        "    - Not very effective\n",
        "    - Don't know\n",
        "    - Somewhat effective\n",
        "    - Very effective\n",
        "  - `opinion_seas_risk` - 계절성 백신의 위험에 대한 응답자의 생각\n",
        "    - Very Low\n",
        "    - Somewhat low\n",
        "    - Don't know\n",
        "    - Somewhat high\n",
        "    - Very high\n",
        "  - `opinion_seas_sick_from_vacc` - 계절성 백신 투여 후 질병에 걸릴 수도 있는 위험에 대한 응답자의 생각\n",
        "    - Not at all worried\n",
        "    - Not very worried\n",
        "    - Don't know\n",
        "    - Somewhat worried\n",
        "    - Very worried\n",
        "  - `agegrp` - 응답자의 연령별 그룹\n",
        "    - 6 Months - 9 Years\n",
        "    - 10 - 17 Years\n",
        "    - 18 - 34 Years\n",
        "    - 35 - 44 Years\n",
        "    - 45 - 54 Years\n",
        "    - 55 - 64 Years\n",
        "    - 65+ Years\n",
        "  - `education_comp` - 응답자 스스로가 답한 교육 이수 수준\n",
        "    - 1 = < 12 Years\n",
        "    - 2 = 12 Years\n",
        "    - 3 = Some College\n",
        "    - 4 = College Graduate\n",
        "  - `raceeth4_i` - 응답자의 인종\n",
        "    - 1 = Hispanic\n",
        "    - 2 = Non-Hispanic, Black Only\n",
        "    - 3 = Non-Hispanic, White Only\n",
        "    - 4 = Non-Hispanic, Other or Multiple Races\n",
        "  - `sex_i` - 응답자의 성별\n",
        "    - 1 = Male\n",
        "    - 2 = Female\n",
        "  - `inc_pov` - 2008 년 인구 조사 빈곤 기준과 관련하여 응답자의 가구 연간 소득\n",
        "    - 1 = > $75,000\n",
        "    - 2 = <= $75,000\n",
        "    - 3 = Below Poverty\n",
        "    - 4 = Unknown\n",
        "  - `marital` - 응답자의 결혼 여부\n",
        "    - 1 = Married\n",
        "    - 2 = Not Married\n",
        "  - `rent_own_r` - 응답자의 거주 현황\n",
        "    - 1 = Home is Owned\n",
        "    - 2 = Home is Rented or Other Arrangement\n",
        "  - `employment_status` - 응답자의 근로 현황\n",
        "    - Employed\n",
        "    - Not in Labor Force\n",
        "    - Unemployed\n",
        "  - `census_region` - 실제 인구 조사 거주 지역\n",
        "    - 1=northeast\n",
        "    - 2=midwest\n",
        "    - 3=south\n",
        "    - 4=west\n",
        "  - `census_msa` -미국 인구 조사에서 정의한 대도시 통계 지역 (MSA) 내 응답자의 거주지.\n",
        "  - `n_adult_r` - 거주 구성원 중 어른 인원 수\n",
        "  - `household_children` - 거주 구성원 중 어린이 인원 수\n",
        "  - `n_people_r` - 거주 구성원의 총 인원 수\n",
        "  - `employment_industry` - 응답자가 종사하는 산업 구분\n",
        "  - `employment_occupation` - 응답자의 직업 유형 (짧은 임의의 문자열로 표시)\n",
        "  - `hhs_region` - HHS 감시 지역 번호\n",
        "    - Region 1: CT,ME,MA,NH,RI,VT\n",
        "    - Region 2: NJ,NY\n",
        "    - Region 3: DE,DC,MD,PA,VA,WV\n",
        "    - Region 4: AL,FL,GA,KY,MS,NC,SC,TN\n",
        "    - Region 5: IL,IN,MI,MN,OH,WI\n",
        "    - Region 6: AR,LA,NM,OK,TX\n",
        "    - Region 7: IA,KS,MO,NE\n",
        "    - Region 8: CO,MT,ND,SD,UT,WY\n",
        "    - Region 9: AZ,CA,HI,NV\n",
        "    - Region 10: AK,ID,OR,WA\n",
        "  - `state` - 거주하는 주(州)"
      ],
      "metadata": {
        "id": "qPlp9KIKAfpi"
      }
    },
    {
      "cell_type": "markdown",
      "source": [
        "## **Part 1. \bEDA 및 Feature Engineering**\n",
        "- H1N1 데이터를 불러오세요.\n",
        "- profiling을 사용하여 데이터를 살펴보고, missing value, zeros, cardinality 등을 확인하여 처리하세요.\n",
        "- 본인만의 특성공학을 수행하세요. \n",
        "- 모든 작업을 완료한 후, H1N1 데이터를 훈련/검증/테스트 셋으로 나누세요. "
      ],
      "metadata": {
        "id": "SaXRg1YuVuSE"
      }
    },
    {
      "cell_type": "code",
      "source": [
        "!pip install category_encoders"
      ],
      "metadata": {
        "id": "FL6EjgRf996I"
      },
      "execution_count": null,
      "outputs": []
    },
    {
      "cell_type": "code",
      "execution_count": null,
      "metadata": {
        "id": "ztF-suDv70Hp"
      },
      "outputs": [],
      "source": [
        "import numpy as np\n",
        "import pandas as pd\n",
        "import matplotlib.pyplot as plt\n",
        "import seaborn as sns\n",
        "\n",
        "from sklearn.model_selection import train_test_split\n",
        "from category_encoders import OneHotEncoder\n",
        "from category_encoders import OrdinalEncoder\n",
        "from sklearn.impute import SimpleImputer\n",
        "from sklearn.preprocessing import StandardScaler\n",
        "from sklearn.pipeline import make_pipeline\n",
        "\n",
        "from sklearn.linear_model import LogisticRegression\n",
        "from sklearn.tree import DecisionTreeClassifier\n",
        "from sklearn.ensemble import RandomForestClassifier\n",
        "from sklearn.metrics import accuracy_score\n",
        "from sklearn.metrics import f1_score\n",
        "\n",
        "import graphviz\n",
        "from sklearn.tree import export_graphviz"
      ]
    },
    {
      "cell_type": "code",
      "source": [
        "# 데이터셋 불러오기 \n",
        "\n",
        "target = 'vacc_h1n1_f'\n",
        "\n",
        "train = pd.merge(pd.read_csv('https://ds-lecture-data.s3.ap-northeast-2.amazonaws.com/vacc_flu/train.csv'), \n",
        "                 pd.read_csv('https://ds-lecture-data.s3.ap-northeast-2.amazonaws.com/vacc_flu/train_labels.csv')[target], left_index=True, right_index=True)\n",
        "test = pd.read_csv('https://ds-lecture-data.s3.ap-northeast-2.amazonaws.com/vacc_flu/test.csv')\n",
        "sample_submission = pd.read_csv('https://ds-lecture-data.s3.ap-northeast-2.amazonaws.com/vacc_flu/submission.csv')"
      ],
      "metadata": {
        "id": "cLgknpde92Zr"
      },
      "execution_count": null,
      "outputs": []
    },
    {
      "cell_type": "code",
      "execution_count": null,
      "metadata": {
        "id": "8RiGzu8vI08-",
        "outputId": "f2f4c1ca-9945-47e9-e5ea-9972e168e0ce",
        "colab": {
          "base_uri": "https://localhost:8080/"
        }
      },
      "outputs": [
        {
          "output_type": "execute_result",
          "data": {
            "text/plain": [
              "((42154, 39), (28104, 38))"
            ]
          },
          "metadata": {},
          "execution_count": 4
        }
      ],
      "source": [
        "# 데이터 사이즈 및 컬럼 수 확인 (test가 1개 더 적다.)\n",
        "train.shape, test.shape"
      ]
    },
    {
      "cell_type": "code",
      "execution_count": null,
      "metadata": {
        "id": "PEVNJZw6I08_",
        "outputId": "61c6c491-47bd-4285-e0d5-5bc3c53e250a",
        "colab": {
          "base_uri": "https://localhost:8080/"
        }
      },
      "outputs": [
        {
          "output_type": "execute_result",
          "data": {
            "text/plain": [
              "Index(['h1n1_concern', 'h1n1_knowledge', 'behavioral_antiviral_meds',\n",
              "       'behavioral_avoidance', 'behavioral_face_mask', 'behavioral_wash_hands',\n",
              "       'behavioral_large_gatherings', 'behavioral_outside_home',\n",
              "       'behavioral_touch_face', 'doctor_recc_h1n1', 'doctor_recc_seasonal',\n",
              "       'chronic_med_condition', 'child_under_6_months', 'health_insurance',\n",
              "       'health_worker', 'opinion_h1n1_vacc_effective', 'opinion_h1n1_risk',\n",
              "       'opinion_h1n1_sick_from_vacc', 'opinion_seas_vacc_effective',\n",
              "       'opinion_seas_risk', 'opinion_seas_sick_from_vacc', 'agegrp',\n",
              "       'education_comp', 'raceeth4_i', 'sex_i', 'inc_pov', 'marital',\n",
              "       'rent_own_r', 'employment_status', 'census_region', 'census_msa',\n",
              "       'n_adult_r', 'household_children', 'n_people_r', 'employment_industry',\n",
              "       'employment_occupation', 'hhs_region', 'state', 'vacc_h1n1_f'],\n",
              "      dtype='object')"
            ]
          },
          "metadata": {},
          "execution_count": 5
        }
      ],
      "source": [
        "# train 컬럼 확인\n",
        "train.columns"
      ]
    },
    {
      "cell_type": "code",
      "source": [
        "train.head(3)"
      ],
      "metadata": {
        "colab": {
          "base_uri": "https://localhost:8080/",
          "height": 289
        },
        "id": "rf7Ftb52ECJL",
        "outputId": "eb35a817-17d0-4a67-e86b-d4fcc89acd37"
      },
      "execution_count": null,
      "outputs": [
        {
          "output_type": "execute_result",
          "data": {
            "text/plain": [
              "   h1n1_concern  h1n1_knowledge  behavioral_antiviral_meds  \\\n",
              "0           NaN             NaN                        NaN   \n",
              "1           3.0             1.0                        0.0   \n",
              "2           2.0             1.0                        0.0   \n",
              "\n",
              "   behavioral_avoidance  behavioral_face_mask  behavioral_wash_hands  \\\n",
              "0                   NaN                   NaN                    NaN   \n",
              "1                   0.0                   0.0                    1.0   \n",
              "2                   1.0                   0.0                    1.0   \n",
              "\n",
              "   behavioral_large_gatherings  behavioral_outside_home  \\\n",
              "0                          NaN                      NaN   \n",
              "1                          0.0                      0.0   \n",
              "2                          1.0                      0.0   \n",
              "\n",
              "   behavioral_touch_face  doctor_recc_h1n1  ...  census_region  \\\n",
              "0                    NaN               0.0  ...              4   \n",
              "1                    1.0               0.0  ...              2   \n",
              "2                    1.0               0.0  ...              1   \n",
              "\n",
              "                census_msa  n_adult_r  household_children  n_people_r  \\\n",
              "0  MSA, Not Principle City        2.0                 3.0         5.0   \n",
              "1      MSA, Principle City        1.0                 0.0         1.0   \n",
              "2  MSA, Not Principle City        1.0                 2.0         3.0   \n",
              "\n",
              "                          employment_industry  \\\n",
              "0                                         NaN   \n",
              "1  Accommodation and Food Services Industries   \n",
              "2   Transportation and Warehousing Industries   \n",
              "\n",
              "                              employment_occupation hhs_region          state  \\\n",
              "0                                               NaN          9     CALIFORNIA   \n",
              "1  Food Preparation and Serving Related Occupations          7       NEBRASKA   \n",
              "2    Transportation and Material Moving Occupations          1  MASSACHUSETTS   \n",
              "\n",
              "  vacc_h1n1_f  \n",
              "0           0  \n",
              "1           0  \n",
              "2           0  \n",
              "\n",
              "[3 rows x 39 columns]"
            ],
            "text/html": [
              "\n",
              "  <div id=\"df-a397b2d1-b006-439b-9316-07ac9a116bb5\">\n",
              "    <div class=\"colab-df-container\">\n",
              "      <div>\n",
              "<style scoped>\n",
              "    .dataframe tbody tr th:only-of-type {\n",
              "        vertical-align: middle;\n",
              "    }\n",
              "\n",
              "    .dataframe tbody tr th {\n",
              "        vertical-align: top;\n",
              "    }\n",
              "\n",
              "    .dataframe thead th {\n",
              "        text-align: right;\n",
              "    }\n",
              "</style>\n",
              "<table border=\"1\" class=\"dataframe\">\n",
              "  <thead>\n",
              "    <tr style=\"text-align: right;\">\n",
              "      <th></th>\n",
              "      <th>h1n1_concern</th>\n",
              "      <th>h1n1_knowledge</th>\n",
              "      <th>behavioral_antiviral_meds</th>\n",
              "      <th>behavioral_avoidance</th>\n",
              "      <th>behavioral_face_mask</th>\n",
              "      <th>behavioral_wash_hands</th>\n",
              "      <th>behavioral_large_gatherings</th>\n",
              "      <th>behavioral_outside_home</th>\n",
              "      <th>behavioral_touch_face</th>\n",
              "      <th>doctor_recc_h1n1</th>\n",
              "      <th>...</th>\n",
              "      <th>census_region</th>\n",
              "      <th>census_msa</th>\n",
              "      <th>n_adult_r</th>\n",
              "      <th>household_children</th>\n",
              "      <th>n_people_r</th>\n",
              "      <th>employment_industry</th>\n",
              "      <th>employment_occupation</th>\n",
              "      <th>hhs_region</th>\n",
              "      <th>state</th>\n",
              "      <th>vacc_h1n1_f</th>\n",
              "    </tr>\n",
              "  </thead>\n",
              "  <tbody>\n",
              "    <tr>\n",
              "      <th>0</th>\n",
              "      <td>NaN</td>\n",
              "      <td>NaN</td>\n",
              "      <td>NaN</td>\n",
              "      <td>NaN</td>\n",
              "      <td>NaN</td>\n",
              "      <td>NaN</td>\n",
              "      <td>NaN</td>\n",
              "      <td>NaN</td>\n",
              "      <td>NaN</td>\n",
              "      <td>0.0</td>\n",
              "      <td>...</td>\n",
              "      <td>4</td>\n",
              "      <td>MSA, Not Principle City</td>\n",
              "      <td>2.0</td>\n",
              "      <td>3.0</td>\n",
              "      <td>5.0</td>\n",
              "      <td>NaN</td>\n",
              "      <td>NaN</td>\n",
              "      <td>9</td>\n",
              "      <td>CALIFORNIA</td>\n",
              "      <td>0</td>\n",
              "    </tr>\n",
              "    <tr>\n",
              "      <th>1</th>\n",
              "      <td>3.0</td>\n",
              "      <td>1.0</td>\n",
              "      <td>0.0</td>\n",
              "      <td>0.0</td>\n",
              "      <td>0.0</td>\n",
              "      <td>1.0</td>\n",
              "      <td>0.0</td>\n",
              "      <td>0.0</td>\n",
              "      <td>1.0</td>\n",
              "      <td>0.0</td>\n",
              "      <td>...</td>\n",
              "      <td>2</td>\n",
              "      <td>MSA, Principle City</td>\n",
              "      <td>1.0</td>\n",
              "      <td>0.0</td>\n",
              "      <td>1.0</td>\n",
              "      <td>Accommodation and Food Services Industries</td>\n",
              "      <td>Food Preparation and Serving Related Occupations</td>\n",
              "      <td>7</td>\n",
              "      <td>NEBRASKA</td>\n",
              "      <td>0</td>\n",
              "    </tr>\n",
              "    <tr>\n",
              "      <th>2</th>\n",
              "      <td>2.0</td>\n",
              "      <td>1.0</td>\n",
              "      <td>0.0</td>\n",
              "      <td>1.0</td>\n",
              "      <td>0.0</td>\n",
              "      <td>1.0</td>\n",
              "      <td>1.0</td>\n",
              "      <td>0.0</td>\n",
              "      <td>1.0</td>\n",
              "      <td>0.0</td>\n",
              "      <td>...</td>\n",
              "      <td>1</td>\n",
              "      <td>MSA, Not Principle City</td>\n",
              "      <td>1.0</td>\n",
              "      <td>2.0</td>\n",
              "      <td>3.0</td>\n",
              "      <td>Transportation and Warehousing Industries</td>\n",
              "      <td>Transportation and Material Moving Occupations</td>\n",
              "      <td>1</td>\n",
              "      <td>MASSACHUSETTS</td>\n",
              "      <td>0</td>\n",
              "    </tr>\n",
              "  </tbody>\n",
              "</table>\n",
              "<p>3 rows × 39 columns</p>\n",
              "</div>\n",
              "      <button class=\"colab-df-convert\" onclick=\"convertToInteractive('df-a397b2d1-b006-439b-9316-07ac9a116bb5')\"\n",
              "              title=\"Convert this dataframe to an interactive table.\"\n",
              "              style=\"display:none;\">\n",
              "        \n",
              "  <svg xmlns=\"http://www.w3.org/2000/svg\" height=\"24px\"viewBox=\"0 0 24 24\"\n",
              "       width=\"24px\">\n",
              "    <path d=\"M0 0h24v24H0V0z\" fill=\"none\"/>\n",
              "    <path d=\"M18.56 5.44l.94 2.06.94-2.06 2.06-.94-2.06-.94-.94-2.06-.94 2.06-2.06.94zm-11 1L8.5 8.5l.94-2.06 2.06-.94-2.06-.94L8.5 2.5l-.94 2.06-2.06.94zm10 10l.94 2.06.94-2.06 2.06-.94-2.06-.94-.94-2.06-.94 2.06-2.06.94z\"/><path d=\"M17.41 7.96l-1.37-1.37c-.4-.4-.92-.59-1.43-.59-.52 0-1.04.2-1.43.59L10.3 9.45l-7.72 7.72c-.78.78-.78 2.05 0 2.83L4 21.41c.39.39.9.59 1.41.59.51 0 1.02-.2 1.41-.59l7.78-7.78 2.81-2.81c.8-.78.8-2.07 0-2.86zM5.41 20L4 18.59l7.72-7.72 1.47 1.35L5.41 20z\"/>\n",
              "  </svg>\n",
              "      </button>\n",
              "      \n",
              "  <style>\n",
              "    .colab-df-container {\n",
              "      display:flex;\n",
              "      flex-wrap:wrap;\n",
              "      gap: 12px;\n",
              "    }\n",
              "\n",
              "    .colab-df-convert {\n",
              "      background-color: #E8F0FE;\n",
              "      border: none;\n",
              "      border-radius: 50%;\n",
              "      cursor: pointer;\n",
              "      display: none;\n",
              "      fill: #1967D2;\n",
              "      height: 32px;\n",
              "      padding: 0 0 0 0;\n",
              "      width: 32px;\n",
              "    }\n",
              "\n",
              "    .colab-df-convert:hover {\n",
              "      background-color: #E2EBFA;\n",
              "      box-shadow: 0px 1px 2px rgba(60, 64, 67, 0.3), 0px 1px 3px 1px rgba(60, 64, 67, 0.15);\n",
              "      fill: #174EA6;\n",
              "    }\n",
              "\n",
              "    [theme=dark] .colab-df-convert {\n",
              "      background-color: #3B4455;\n",
              "      fill: #D2E3FC;\n",
              "    }\n",
              "\n",
              "    [theme=dark] .colab-df-convert:hover {\n",
              "      background-color: #434B5C;\n",
              "      box-shadow: 0px 1px 3px 1px rgba(0, 0, 0, 0.15);\n",
              "      filter: drop-shadow(0px 1px 2px rgba(0, 0, 0, 0.3));\n",
              "      fill: #FFFFFF;\n",
              "    }\n",
              "  </style>\n",
              "\n",
              "      <script>\n",
              "        const buttonEl =\n",
              "          document.querySelector('#df-a397b2d1-b006-439b-9316-07ac9a116bb5 button.colab-df-convert');\n",
              "        buttonEl.style.display =\n",
              "          google.colab.kernel.accessAllowed ? 'block' : 'none';\n",
              "\n",
              "        async function convertToInteractive(key) {\n",
              "          const element = document.querySelector('#df-a397b2d1-b006-439b-9316-07ac9a116bb5');\n",
              "          const dataTable =\n",
              "            await google.colab.kernel.invokeFunction('convertToInteractive',\n",
              "                                                     [key], {});\n",
              "          if (!dataTable) return;\n",
              "\n",
              "          const docLinkHtml = 'Like what you see? Visit the ' +\n",
              "            '<a target=\"_blank\" href=https://colab.research.google.com/notebooks/data_table.ipynb>data table notebook</a>'\n",
              "            + ' to learn more about interactive tables.';\n",
              "          element.innerHTML = '';\n",
              "          dataTable['output_type'] = 'display_data';\n",
              "          await google.colab.output.renderOutput(dataTable, element);\n",
              "          const docLink = document.createElement('div');\n",
              "          docLink.innerHTML = docLinkHtml;\n",
              "          element.appendChild(docLink);\n",
              "        }\n",
              "      </script>\n",
              "    </div>\n",
              "  </div>\n",
              "  "
            ]
          },
          "metadata": {},
          "execution_count": 6
        }
      ]
    },
    {
      "cell_type": "code",
      "source": [
        "test.head(3)"
      ],
      "metadata": {
        "colab": {
          "base_uri": "https://localhost:8080/",
          "height": 289
        },
        "id": "RyhesWxUFAVy",
        "outputId": "6eb0b189-98b5-4331-e3da-d36e485c0939"
      },
      "execution_count": null,
      "outputs": [
        {
          "output_type": "execute_result",
          "data": {
            "text/plain": [
              "   h1n1_concern  h1n1_knowledge  behavioral_antiviral_meds  \\\n",
              "0           0.0             1.0                        0.0   \n",
              "1           3.0             0.0                        0.0   \n",
              "2           1.0             1.0                        0.0   \n",
              "\n",
              "   behavioral_avoidance  behavioral_face_mask  behavioral_wash_hands  \\\n",
              "0                   0.0                   0.0                    0.0   \n",
              "1                   0.0                   1.0                    1.0   \n",
              "2                   0.0                   0.0                    1.0   \n",
              "\n",
              "   behavioral_large_gatherings  behavioral_outside_home  \\\n",
              "0                          0.0                      0.0   \n",
              "1                          1.0                      0.0   \n",
              "2                          1.0                      1.0   \n",
              "\n",
              "   behavioral_touch_face  doctor_recc_h1n1  ...   employment_status  \\\n",
              "0                    0.0               0.0  ...            Employed   \n",
              "1                    0.0               0.0  ...                 NaN   \n",
              "2                    0.0               0.0  ...  Not in Labor Force   \n",
              "\n",
              "   census_region               census_msa  n_adult_r  household_children  \\\n",
              "0              2  MSA, Not Principle City        2.0                 0.0   \n",
              "1              3      MSA, Principle City        1.0                 0.0   \n",
              "2              1                  Non-MSA        1.0                 0.0   \n",
              "\n",
              "  n_people_r                           employment_industry  \\\n",
              "0        2.0  Health Care and Social Assistance Industries   \n",
              "1        1.0                                           NaN   \n",
              "2        1.0                                           NaN   \n",
              "\n",
              "                               employment_occupation hhs_region          state  \n",
              "0  Healthcare Practitioners and Technical Occupat...          7         KANSAS  \n",
              "1                                                NaN          6      LOUISIANA  \n",
              "2                                                NaN          1  NEW HAMPSHIRE  \n",
              "\n",
              "[3 rows x 38 columns]"
            ],
            "text/html": [
              "\n",
              "  <div id=\"df-bca5bbf3-0a1e-4610-9e3e-5b30a0f35588\">\n",
              "    <div class=\"colab-df-container\">\n",
              "      <div>\n",
              "<style scoped>\n",
              "    .dataframe tbody tr th:only-of-type {\n",
              "        vertical-align: middle;\n",
              "    }\n",
              "\n",
              "    .dataframe tbody tr th {\n",
              "        vertical-align: top;\n",
              "    }\n",
              "\n",
              "    .dataframe thead th {\n",
              "        text-align: right;\n",
              "    }\n",
              "</style>\n",
              "<table border=\"1\" class=\"dataframe\">\n",
              "  <thead>\n",
              "    <tr style=\"text-align: right;\">\n",
              "      <th></th>\n",
              "      <th>h1n1_concern</th>\n",
              "      <th>h1n1_knowledge</th>\n",
              "      <th>behavioral_antiviral_meds</th>\n",
              "      <th>behavioral_avoidance</th>\n",
              "      <th>behavioral_face_mask</th>\n",
              "      <th>behavioral_wash_hands</th>\n",
              "      <th>behavioral_large_gatherings</th>\n",
              "      <th>behavioral_outside_home</th>\n",
              "      <th>behavioral_touch_face</th>\n",
              "      <th>doctor_recc_h1n1</th>\n",
              "      <th>...</th>\n",
              "      <th>employment_status</th>\n",
              "      <th>census_region</th>\n",
              "      <th>census_msa</th>\n",
              "      <th>n_adult_r</th>\n",
              "      <th>household_children</th>\n",
              "      <th>n_people_r</th>\n",
              "      <th>employment_industry</th>\n",
              "      <th>employment_occupation</th>\n",
              "      <th>hhs_region</th>\n",
              "      <th>state</th>\n",
              "    </tr>\n",
              "  </thead>\n",
              "  <tbody>\n",
              "    <tr>\n",
              "      <th>0</th>\n",
              "      <td>0.0</td>\n",
              "      <td>1.0</td>\n",
              "      <td>0.0</td>\n",
              "      <td>0.0</td>\n",
              "      <td>0.0</td>\n",
              "      <td>0.0</td>\n",
              "      <td>0.0</td>\n",
              "      <td>0.0</td>\n",
              "      <td>0.0</td>\n",
              "      <td>0.0</td>\n",
              "      <td>...</td>\n",
              "      <td>Employed</td>\n",
              "      <td>2</td>\n",
              "      <td>MSA, Not Principle City</td>\n",
              "      <td>2.0</td>\n",
              "      <td>0.0</td>\n",
              "      <td>2.0</td>\n",
              "      <td>Health Care and Social Assistance Industries</td>\n",
              "      <td>Healthcare Practitioners and Technical Occupat...</td>\n",
              "      <td>7</td>\n",
              "      <td>KANSAS</td>\n",
              "    </tr>\n",
              "    <tr>\n",
              "      <th>1</th>\n",
              "      <td>3.0</td>\n",
              "      <td>0.0</td>\n",
              "      <td>0.0</td>\n",
              "      <td>0.0</td>\n",
              "      <td>1.0</td>\n",
              "      <td>1.0</td>\n",
              "      <td>1.0</td>\n",
              "      <td>0.0</td>\n",
              "      <td>0.0</td>\n",
              "      <td>0.0</td>\n",
              "      <td>...</td>\n",
              "      <td>NaN</td>\n",
              "      <td>3</td>\n",
              "      <td>MSA, Principle City</td>\n",
              "      <td>1.0</td>\n",
              "      <td>0.0</td>\n",
              "      <td>1.0</td>\n",
              "      <td>NaN</td>\n",
              "      <td>NaN</td>\n",
              "      <td>6</td>\n",
              "      <td>LOUISIANA</td>\n",
              "    </tr>\n",
              "    <tr>\n",
              "      <th>2</th>\n",
              "      <td>1.0</td>\n",
              "      <td>1.0</td>\n",
              "      <td>0.0</td>\n",
              "      <td>0.0</td>\n",
              "      <td>0.0</td>\n",
              "      <td>1.0</td>\n",
              "      <td>1.0</td>\n",
              "      <td>1.0</td>\n",
              "      <td>0.0</td>\n",
              "      <td>0.0</td>\n",
              "      <td>...</td>\n",
              "      <td>Not in Labor Force</td>\n",
              "      <td>1</td>\n",
              "      <td>Non-MSA</td>\n",
              "      <td>1.0</td>\n",
              "      <td>0.0</td>\n",
              "      <td>1.0</td>\n",
              "      <td>NaN</td>\n",
              "      <td>NaN</td>\n",
              "      <td>1</td>\n",
              "      <td>NEW HAMPSHIRE</td>\n",
              "    </tr>\n",
              "  </tbody>\n",
              "</table>\n",
              "<p>3 rows × 38 columns</p>\n",
              "</div>\n",
              "      <button class=\"colab-df-convert\" onclick=\"convertToInteractive('df-bca5bbf3-0a1e-4610-9e3e-5b30a0f35588')\"\n",
              "              title=\"Convert this dataframe to an interactive table.\"\n",
              "              style=\"display:none;\">\n",
              "        \n",
              "  <svg xmlns=\"http://www.w3.org/2000/svg\" height=\"24px\"viewBox=\"0 0 24 24\"\n",
              "       width=\"24px\">\n",
              "    <path d=\"M0 0h24v24H0V0z\" fill=\"none\"/>\n",
              "    <path d=\"M18.56 5.44l.94 2.06.94-2.06 2.06-.94-2.06-.94-.94-2.06-.94 2.06-2.06.94zm-11 1L8.5 8.5l.94-2.06 2.06-.94-2.06-.94L8.5 2.5l-.94 2.06-2.06.94zm10 10l.94 2.06.94-2.06 2.06-.94-2.06-.94-.94-2.06-.94 2.06-2.06.94z\"/><path d=\"M17.41 7.96l-1.37-1.37c-.4-.4-.92-.59-1.43-.59-.52 0-1.04.2-1.43.59L10.3 9.45l-7.72 7.72c-.78.78-.78 2.05 0 2.83L4 21.41c.39.39.9.59 1.41.59.51 0 1.02-.2 1.41-.59l7.78-7.78 2.81-2.81c.8-.78.8-2.07 0-2.86zM5.41 20L4 18.59l7.72-7.72 1.47 1.35L5.41 20z\"/>\n",
              "  </svg>\n",
              "      </button>\n",
              "      \n",
              "  <style>\n",
              "    .colab-df-container {\n",
              "      display:flex;\n",
              "      flex-wrap:wrap;\n",
              "      gap: 12px;\n",
              "    }\n",
              "\n",
              "    .colab-df-convert {\n",
              "      background-color: #E8F0FE;\n",
              "      border: none;\n",
              "      border-radius: 50%;\n",
              "      cursor: pointer;\n",
              "      display: none;\n",
              "      fill: #1967D2;\n",
              "      height: 32px;\n",
              "      padding: 0 0 0 0;\n",
              "      width: 32px;\n",
              "    }\n",
              "\n",
              "    .colab-df-convert:hover {\n",
              "      background-color: #E2EBFA;\n",
              "      box-shadow: 0px 1px 2px rgba(60, 64, 67, 0.3), 0px 1px 3px 1px rgba(60, 64, 67, 0.15);\n",
              "      fill: #174EA6;\n",
              "    }\n",
              "\n",
              "    [theme=dark] .colab-df-convert {\n",
              "      background-color: #3B4455;\n",
              "      fill: #D2E3FC;\n",
              "    }\n",
              "\n",
              "    [theme=dark] .colab-df-convert:hover {\n",
              "      background-color: #434B5C;\n",
              "      box-shadow: 0px 1px 3px 1px rgba(0, 0, 0, 0.15);\n",
              "      filter: drop-shadow(0px 1px 2px rgba(0, 0, 0, 0.3));\n",
              "      fill: #FFFFFF;\n",
              "    }\n",
              "  </style>\n",
              "\n",
              "      <script>\n",
              "        const buttonEl =\n",
              "          document.querySelector('#df-bca5bbf3-0a1e-4610-9e3e-5b30a0f35588 button.colab-df-convert');\n",
              "        buttonEl.style.display =\n",
              "          google.colab.kernel.accessAllowed ? 'block' : 'none';\n",
              "\n",
              "        async function convertToInteractive(key) {\n",
              "          const element = document.querySelector('#df-bca5bbf3-0a1e-4610-9e3e-5b30a0f35588');\n",
              "          const dataTable =\n",
              "            await google.colab.kernel.invokeFunction('convertToInteractive',\n",
              "                                                     [key], {});\n",
              "          if (!dataTable) return;\n",
              "\n",
              "          const docLinkHtml = 'Like what you see? Visit the ' +\n",
              "            '<a target=\"_blank\" href=https://colab.research.google.com/notebooks/data_table.ipynb>data table notebook</a>'\n",
              "            + ' to learn more about interactive tables.';\n",
              "          element.innerHTML = '';\n",
              "          dataTable['output_type'] = 'display_data';\n",
              "          await google.colab.output.renderOutput(dataTable, element);\n",
              "          const docLink = document.createElement('div');\n",
              "          docLink.innerHTML = docLinkHtml;\n",
              "          element.appendChild(docLink);\n",
              "        }\n",
              "      </script>\n",
              "    </div>\n",
              "  </div>\n",
              "  "
            ]
          },
          "metadata": {},
          "execution_count": 7
        }
      ]
    },
    {
      "cell_type": "code",
      "source": [
        "sample_submission.head(3)"
      ],
      "metadata": {
        "colab": {
          "base_uri": "https://localhost:8080/",
          "height": 143
        },
        "id": "dtHQmmrTFB9j",
        "outputId": "088e1d4b-1a4e-4f05-fc62-c1b76040da17"
      },
      "execution_count": null,
      "outputs": [
        {
          "output_type": "execute_result",
          "data": {
            "text/plain": [
              "   Id  vacc_h1n1_f\n",
              "0   0            0\n",
              "1   1            1\n",
              "2   2            1"
            ],
            "text/html": [
              "\n",
              "  <div id=\"df-676523ac-8a93-42c7-8d49-75d78d98fe3e\">\n",
              "    <div class=\"colab-df-container\">\n",
              "      <div>\n",
              "<style scoped>\n",
              "    .dataframe tbody tr th:only-of-type {\n",
              "        vertical-align: middle;\n",
              "    }\n",
              "\n",
              "    .dataframe tbody tr th {\n",
              "        vertical-align: top;\n",
              "    }\n",
              "\n",
              "    .dataframe thead th {\n",
              "        text-align: right;\n",
              "    }\n",
              "</style>\n",
              "<table border=\"1\" class=\"dataframe\">\n",
              "  <thead>\n",
              "    <tr style=\"text-align: right;\">\n",
              "      <th></th>\n",
              "      <th>Id</th>\n",
              "      <th>vacc_h1n1_f</th>\n",
              "    </tr>\n",
              "  </thead>\n",
              "  <tbody>\n",
              "    <tr>\n",
              "      <th>0</th>\n",
              "      <td>0</td>\n",
              "      <td>0</td>\n",
              "    </tr>\n",
              "    <tr>\n",
              "      <th>1</th>\n",
              "      <td>1</td>\n",
              "      <td>1</td>\n",
              "    </tr>\n",
              "    <tr>\n",
              "      <th>2</th>\n",
              "      <td>2</td>\n",
              "      <td>1</td>\n",
              "    </tr>\n",
              "  </tbody>\n",
              "</table>\n",
              "</div>\n",
              "      <button class=\"colab-df-convert\" onclick=\"convertToInteractive('df-676523ac-8a93-42c7-8d49-75d78d98fe3e')\"\n",
              "              title=\"Convert this dataframe to an interactive table.\"\n",
              "              style=\"display:none;\">\n",
              "        \n",
              "  <svg xmlns=\"http://www.w3.org/2000/svg\" height=\"24px\"viewBox=\"0 0 24 24\"\n",
              "       width=\"24px\">\n",
              "    <path d=\"M0 0h24v24H0V0z\" fill=\"none\"/>\n",
              "    <path d=\"M18.56 5.44l.94 2.06.94-2.06 2.06-.94-2.06-.94-.94-2.06-.94 2.06-2.06.94zm-11 1L8.5 8.5l.94-2.06 2.06-.94-2.06-.94L8.5 2.5l-.94 2.06-2.06.94zm10 10l.94 2.06.94-2.06 2.06-.94-2.06-.94-.94-2.06-.94 2.06-2.06.94z\"/><path d=\"M17.41 7.96l-1.37-1.37c-.4-.4-.92-.59-1.43-.59-.52 0-1.04.2-1.43.59L10.3 9.45l-7.72 7.72c-.78.78-.78 2.05 0 2.83L4 21.41c.39.39.9.59 1.41.59.51 0 1.02-.2 1.41-.59l7.78-7.78 2.81-2.81c.8-.78.8-2.07 0-2.86zM5.41 20L4 18.59l7.72-7.72 1.47 1.35L5.41 20z\"/>\n",
              "  </svg>\n",
              "      </button>\n",
              "      \n",
              "  <style>\n",
              "    .colab-df-container {\n",
              "      display:flex;\n",
              "      flex-wrap:wrap;\n",
              "      gap: 12px;\n",
              "    }\n",
              "\n",
              "    .colab-df-convert {\n",
              "      background-color: #E8F0FE;\n",
              "      border: none;\n",
              "      border-radius: 50%;\n",
              "      cursor: pointer;\n",
              "      display: none;\n",
              "      fill: #1967D2;\n",
              "      height: 32px;\n",
              "      padding: 0 0 0 0;\n",
              "      width: 32px;\n",
              "    }\n",
              "\n",
              "    .colab-df-convert:hover {\n",
              "      background-color: #E2EBFA;\n",
              "      box-shadow: 0px 1px 2px rgba(60, 64, 67, 0.3), 0px 1px 3px 1px rgba(60, 64, 67, 0.15);\n",
              "      fill: #174EA6;\n",
              "    }\n",
              "\n",
              "    [theme=dark] .colab-df-convert {\n",
              "      background-color: #3B4455;\n",
              "      fill: #D2E3FC;\n",
              "    }\n",
              "\n",
              "    [theme=dark] .colab-df-convert:hover {\n",
              "      background-color: #434B5C;\n",
              "      box-shadow: 0px 1px 3px 1px rgba(0, 0, 0, 0.15);\n",
              "      filter: drop-shadow(0px 1px 2px rgba(0, 0, 0, 0.3));\n",
              "      fill: #FFFFFF;\n",
              "    }\n",
              "  </style>\n",
              "\n",
              "      <script>\n",
              "        const buttonEl =\n",
              "          document.querySelector('#df-676523ac-8a93-42c7-8d49-75d78d98fe3e button.colab-df-convert');\n",
              "        buttonEl.style.display =\n",
              "          google.colab.kernel.accessAllowed ? 'block' : 'none';\n",
              "\n",
              "        async function convertToInteractive(key) {\n",
              "          const element = document.querySelector('#df-676523ac-8a93-42c7-8d49-75d78d98fe3e');\n",
              "          const dataTable =\n",
              "            await google.colab.kernel.invokeFunction('convertToInteractive',\n",
              "                                                     [key], {});\n",
              "          if (!dataTable) return;\n",
              "\n",
              "          const docLinkHtml = 'Like what you see? Visit the ' +\n",
              "            '<a target=\"_blank\" href=https://colab.research.google.com/notebooks/data_table.ipynb>data table notebook</a>'\n",
              "            + ' to learn more about interactive tables.';\n",
              "          element.innerHTML = '';\n",
              "          dataTable['output_type'] = 'display_data';\n",
              "          await google.colab.output.renderOutput(dataTable, element);\n",
              "          const docLink = document.createElement('div');\n",
              "          docLink.innerHTML = docLinkHtml;\n",
              "          element.appendChild(docLink);\n",
              "        }\n",
              "      </script>\n",
              "    </div>\n",
              "  </div>\n",
              "  "
            ]
          },
          "metadata": {},
          "execution_count": 8
        }
      ]
    },
    {
      "cell_type": "code",
      "source": [
        "# 데이터 타입 확인 - 훈련용\n",
        "train.dtypes\n",
        "\n",
        "# 실수, 정수, 카테고리 (= objects) 타입 확인"
      ],
      "metadata": {
        "colab": {
          "base_uri": "https://localhost:8080/"
        },
        "id": "5W303vGgFJA6",
        "outputId": "41718b65-fb96-4396-b82f-abea631af8ba"
      },
      "execution_count": null,
      "outputs": [
        {
          "output_type": "execute_result",
          "data": {
            "text/plain": [
              "h1n1_concern                   float64\n",
              "h1n1_knowledge                 float64\n",
              "behavioral_antiviral_meds      float64\n",
              "behavioral_avoidance           float64\n",
              "behavioral_face_mask           float64\n",
              "behavioral_wash_hands          float64\n",
              "behavioral_large_gatherings    float64\n",
              "behavioral_outside_home        float64\n",
              "behavioral_touch_face          float64\n",
              "doctor_recc_h1n1               float64\n",
              "doctor_recc_seasonal           float64\n",
              "chronic_med_condition          float64\n",
              "child_under_6_months           float64\n",
              "health_insurance               float64\n",
              "health_worker                  float64\n",
              "opinion_h1n1_vacc_effective     object\n",
              "opinion_h1n1_risk               object\n",
              "opinion_h1n1_sick_from_vacc     object\n",
              "opinion_seas_vacc_effective     object\n",
              "opinion_seas_risk               object\n",
              "opinion_seas_sick_from_vacc     object\n",
              "agegrp                          object\n",
              "education_comp                 float64\n",
              "raceeth4_i                       int64\n",
              "sex_i                            int64\n",
              "inc_pov                          int64\n",
              "marital                        float64\n",
              "rent_own_r                     float64\n",
              "employment_status               object\n",
              "census_region                    int64\n",
              "census_msa                      object\n",
              "n_adult_r                      float64\n",
              "household_children             float64\n",
              "n_people_r                     float64\n",
              "employment_industry             object\n",
              "employment_occupation           object\n",
              "hhs_region                       int64\n",
              "state                           object\n",
              "vacc_h1n1_f                      int64\n",
              "dtype: object"
            ]
          },
          "metadata": {},
          "execution_count": 9
        }
      ]
    },
    {
      "cell_type": "code",
      "source": [
        "# 데이터 타입 확인 - 테스트용\n",
        "test.dtypes\n",
        "\n",
        "# 실수, 정수, 카테고리 (= objects) 타입 확인"
      ],
      "metadata": {
        "colab": {
          "base_uri": "https://localhost:8080/"
        },
        "id": "nY1dWPvSFO6i",
        "outputId": "122d1227-9bee-4139-c0bd-690f1e52e175"
      },
      "execution_count": null,
      "outputs": [
        {
          "output_type": "execute_result",
          "data": {
            "text/plain": [
              "h1n1_concern                   float64\n",
              "h1n1_knowledge                 float64\n",
              "behavioral_antiviral_meds      float64\n",
              "behavioral_avoidance           float64\n",
              "behavioral_face_mask           float64\n",
              "behavioral_wash_hands          float64\n",
              "behavioral_large_gatherings    float64\n",
              "behavioral_outside_home        float64\n",
              "behavioral_touch_face          float64\n",
              "doctor_recc_h1n1               float64\n",
              "doctor_recc_seasonal           float64\n",
              "chronic_med_condition          float64\n",
              "child_under_6_months           float64\n",
              "health_insurance               float64\n",
              "health_worker                  float64\n",
              "opinion_h1n1_vacc_effective     object\n",
              "opinion_h1n1_risk               object\n",
              "opinion_h1n1_sick_from_vacc     object\n",
              "opinion_seas_vacc_effective     object\n",
              "opinion_seas_risk               object\n",
              "opinion_seas_sick_from_vacc     object\n",
              "agegrp                          object\n",
              "education_comp                 float64\n",
              "raceeth4_i                       int64\n",
              "sex_i                            int64\n",
              "inc_pov                          int64\n",
              "marital                        float64\n",
              "rent_own_r                     float64\n",
              "employment_status               object\n",
              "census_region                    int64\n",
              "census_msa                      object\n",
              "n_adult_r                      float64\n",
              "household_children             float64\n",
              "n_people_r                     float64\n",
              "employment_industry             object\n",
              "employment_occupation           object\n",
              "hhs_region                       int64\n",
              "state                           object\n",
              "dtype: object"
            ]
          },
          "metadata": {},
          "execution_count": 10
        }
      ]
    },
    {
      "cell_type": "code",
      "source": [
        "# 데이터 결측치 확인 - 훈련용\n",
        "# 참고 : 훈련용 데이터는 42,154개\n",
        "train.isnull().sum()\n",
        "\n",
        "# health_insurance : 결측치가 50%에 육박함.\n",
        "# employment_industry, employment_occupation : 결측치가 50% 이상"
      ],
      "metadata": {
        "colab": {
          "base_uri": "https://localhost:8080/"
        },
        "id": "TW8piX5UF9jZ",
        "outputId": "3576ecb0-4ee0-4235-ff66-b271c99304e0"
      },
      "execution_count": null,
      "outputs": [
        {
          "output_type": "execute_result",
          "data": {
            "text/plain": [
              "h1n1_concern                    8420\n",
              "h1n1_knowledge                  8420\n",
              "behavioral_antiviral_meds       8519\n",
              "behavioral_avoidance            8672\n",
              "behavioral_face_mask            8444\n",
              "behavioral_wash_hands           8471\n",
              "behavioral_large_gatherings     8514\n",
              "behavioral_outside_home         8521\n",
              "behavioral_touch_face           8583\n",
              "doctor_recc_h1n1                1885\n",
              "doctor_recc_seasonal            1885\n",
              "chronic_med_condition           1317\n",
              "child_under_6_months            9449\n",
              "health_insurance               19421\n",
              "health_worker                   9430\n",
              "opinion_h1n1_vacc_effective     8779\n",
              "opinion_h1n1_risk               8825\n",
              "opinion_h1n1_sick_from_vacc     8869\n",
              "opinion_seas_vacc_effective     8934\n",
              "opinion_seas_risk               9001\n",
              "opinion_seas_sick_from_vacc     9065\n",
              "agegrp                             0\n",
              "education_comp                 10166\n",
              "raceeth4_i                         0\n",
              "sex_i                              0\n",
              "inc_pov                            0\n",
              "marital                        10199\n",
              "rent_own_r                      2196\n",
              "employment_status              10278\n",
              "census_region                      0\n",
              "census_msa                         0\n",
              "n_adult_r                        309\n",
              "household_children               309\n",
              "n_people_r                       134\n",
              "employment_industry            24989\n",
              "employment_occupation          24989\n",
              "hhs_region                         0\n",
              "state                              0\n",
              "vacc_h1n1_f                        0\n",
              "dtype: int64"
            ]
          },
          "metadata": {},
          "execution_count": 11
        }
      ]
    },
    {
      "cell_type": "code",
      "source": [
        "# 데이터 결측치 확인 - 테스트용\n",
        "# 참고 : 테스트용 데이터는 28,104개\n",
        "test.isnull().sum()\n",
        "\n",
        "# health_insurance : 결측치가 50%에 육박함.\n",
        "# employment_industry, employment_occupation : 결측치가 50% 이상"
      ],
      "metadata": {
        "colab": {
          "base_uri": "https://localhost:8080/"
        },
        "id": "qS_1_m-5F_Ij",
        "outputId": "28a75cd3-e29e-4899-b292-9be2d933b2eb"
      },
      "execution_count": null,
      "outputs": [
        {
          "output_type": "execute_result",
          "data": {
            "text/plain": [
              "h1n1_concern                    5612\n",
              "h1n1_knowledge                  5612\n",
              "behavioral_antiviral_meds       5672\n",
              "behavioral_avoidance            5810\n",
              "behavioral_face_mask            5626\n",
              "behavioral_wash_hands           5648\n",
              "behavioral_large_gatherings     5683\n",
              "behavioral_outside_home         5682\n",
              "behavioral_touch_face           5720\n",
              "doctor_recc_h1n1                1207\n",
              "doctor_recc_seasonal            1207\n",
              "chronic_med_condition            854\n",
              "child_under_6_months            6291\n",
              "health_insurance               12740\n",
              "health_worker                   6270\n",
              "opinion_h1n1_vacc_effective     5864\n",
              "opinion_h1n1_risk               5903\n",
              "opinion_h1n1_sick_from_vacc     5933\n",
              "opinion_seas_vacc_effective     5957\n",
              "opinion_seas_risk               5993\n",
              "opinion_seas_sick_from_vacc     6035\n",
              "agegrp                             0\n",
              "education_comp                  6811\n",
              "raceeth4_i                         0\n",
              "sex_i                              0\n",
              "inc_pov                            0\n",
              "marital                         6823\n",
              "rent_own_r                      1440\n",
              "employment_status               6830\n",
              "census_region                      0\n",
              "census_msa                         0\n",
              "n_adult_r                        185\n",
              "household_children               185\n",
              "n_people_r                        84\n",
              "employment_industry            16671\n",
              "employment_occupation          16671\n",
              "hhs_region                         0\n",
              "state                              0\n",
              "dtype: int64"
            ]
          },
          "metadata": {},
          "execution_count": 12
        }
      ]
    },
    {
      "cell_type": "code",
      "source": [
        "# 결측치 많은 컬럼 상세 확인\n",
        "# 1. helth_insurance\n",
        "train[\"health_insurance\"].value_counts()"
      ],
      "metadata": {
        "colab": {
          "base_uri": "https://localhost:8080/"
        },
        "id": "K-31wzknGFCH",
        "outputId": "9ba88c70-9eea-4094-90a2-80fc7cb7d16c"
      },
      "execution_count": null,
      "outputs": [
        {
          "output_type": "execute_result",
          "data": {
            "text/plain": [
              "1.0    20302\n",
              "0.0     2431\n",
              "Name: health_insurance, dtype: int64"
            ]
          },
          "metadata": {},
          "execution_count": 13
        }
      ]
    },
    {
      "cell_type": "code",
      "source": [
        "# 결측치 실제 값 확인 -> NaN\n",
        "# yes/no의 구분이기 때문에 결측치를 평균값으로 채운다던지 등의 선택은 할 수 없다.\n",
        "train[train[\"health_insurance\"].isnull()].head(5)"
      ],
      "metadata": {
        "colab": {
          "base_uri": "https://localhost:8080/",
          "height": 386
        },
        "id": "x0uJxy7XGM46",
        "outputId": "93885540-cad6-4cae-a81f-fc65abde0698"
      },
      "execution_count": null,
      "outputs": [
        {
          "output_type": "execute_result",
          "data": {
            "text/plain": [
              "   h1n1_concern  h1n1_knowledge  behavioral_antiviral_meds  \\\n",
              "1           3.0             1.0                        0.0   \n",
              "2           2.0             1.0                        0.0   \n",
              "7           1.0             1.0                        0.0   \n",
              "8           2.0             1.0                        0.0   \n",
              "9           NaN             NaN                        NaN   \n",
              "\n",
              "   behavioral_avoidance  behavioral_face_mask  behavioral_wash_hands  \\\n",
              "1                   0.0                   0.0                    1.0   \n",
              "2                   1.0                   0.0                    1.0   \n",
              "7                   0.0                   0.0                    0.0   \n",
              "8                   1.0                   0.0                    1.0   \n",
              "9                   NaN                   NaN                    NaN   \n",
              "\n",
              "   behavioral_large_gatherings  behavioral_outside_home  \\\n",
              "1                          0.0                      0.0   \n",
              "2                          1.0                      0.0   \n",
              "7                          0.0                      0.0   \n",
              "8                          1.0                      1.0   \n",
              "9                          NaN                      NaN   \n",
              "\n",
              "   behavioral_touch_face  doctor_recc_h1n1  ...  census_region  \\\n",
              "1                    1.0               0.0  ...              2   \n",
              "2                    1.0               0.0  ...              1   \n",
              "7                    0.0               0.0  ...              2   \n",
              "8                    1.0               NaN  ...              2   \n",
              "9                    NaN               0.0  ...              3   \n",
              "\n",
              "                census_msa  n_adult_r  household_children  n_people_r  \\\n",
              "1      MSA, Principle City        1.0                 0.0         1.0   \n",
              "2  MSA, Not Principle City        1.0                 2.0         3.0   \n",
              "7  MSA, Not Principle City        2.0                 0.0         2.0   \n",
              "8  MSA, Not Principle City        2.0                 2.0         4.0   \n",
              "9  MSA, Not Principle City        2.0                 3.0         5.0   \n",
              "\n",
              "                          employment_industry  \\\n",
              "1  Accommodation and Food Services Industries   \n",
              "2   Transportation and Warehousing Industries   \n",
              "7                     Construction Industries   \n",
              "8                    Manufacturing Industries   \n",
              "9                                         NaN   \n",
              "\n",
              "                              employment_occupation hhs_region          state  \\\n",
              "1  Food Preparation and Serving Related Occupations          7       NEBRASKA   \n",
              "2    Transportation and Material Moving Occupations          1  MASSACHUSETTS   \n",
              "7                            Management Occupations          7       MISSOURI   \n",
              "8    Transportation and Material Moving Occupations          5      WISCONSIN   \n",
              "9                                               NaN          4        FLORIDA   \n",
              "\n",
              "  vacc_h1n1_f  \n",
              "1           0  \n",
              "2           0  \n",
              "7           0  \n",
              "8           0  \n",
              "9           0  \n",
              "\n",
              "[5 rows x 39 columns]"
            ],
            "text/html": [
              "\n",
              "  <div id=\"df-98dc504e-5b93-41dc-b600-0a8c67c08a04\">\n",
              "    <div class=\"colab-df-container\">\n",
              "      <div>\n",
              "<style scoped>\n",
              "    .dataframe tbody tr th:only-of-type {\n",
              "        vertical-align: middle;\n",
              "    }\n",
              "\n",
              "    .dataframe tbody tr th {\n",
              "        vertical-align: top;\n",
              "    }\n",
              "\n",
              "    .dataframe thead th {\n",
              "        text-align: right;\n",
              "    }\n",
              "</style>\n",
              "<table border=\"1\" class=\"dataframe\">\n",
              "  <thead>\n",
              "    <tr style=\"text-align: right;\">\n",
              "      <th></th>\n",
              "      <th>h1n1_concern</th>\n",
              "      <th>h1n1_knowledge</th>\n",
              "      <th>behavioral_antiviral_meds</th>\n",
              "      <th>behavioral_avoidance</th>\n",
              "      <th>behavioral_face_mask</th>\n",
              "      <th>behavioral_wash_hands</th>\n",
              "      <th>behavioral_large_gatherings</th>\n",
              "      <th>behavioral_outside_home</th>\n",
              "      <th>behavioral_touch_face</th>\n",
              "      <th>doctor_recc_h1n1</th>\n",
              "      <th>...</th>\n",
              "      <th>census_region</th>\n",
              "      <th>census_msa</th>\n",
              "      <th>n_adult_r</th>\n",
              "      <th>household_children</th>\n",
              "      <th>n_people_r</th>\n",
              "      <th>employment_industry</th>\n",
              "      <th>employment_occupation</th>\n",
              "      <th>hhs_region</th>\n",
              "      <th>state</th>\n",
              "      <th>vacc_h1n1_f</th>\n",
              "    </tr>\n",
              "  </thead>\n",
              "  <tbody>\n",
              "    <tr>\n",
              "      <th>1</th>\n",
              "      <td>3.0</td>\n",
              "      <td>1.0</td>\n",
              "      <td>0.0</td>\n",
              "      <td>0.0</td>\n",
              "      <td>0.0</td>\n",
              "      <td>1.0</td>\n",
              "      <td>0.0</td>\n",
              "      <td>0.0</td>\n",
              "      <td>1.0</td>\n",
              "      <td>0.0</td>\n",
              "      <td>...</td>\n",
              "      <td>2</td>\n",
              "      <td>MSA, Principle City</td>\n",
              "      <td>1.0</td>\n",
              "      <td>0.0</td>\n",
              "      <td>1.0</td>\n",
              "      <td>Accommodation and Food Services Industries</td>\n",
              "      <td>Food Preparation and Serving Related Occupations</td>\n",
              "      <td>7</td>\n",
              "      <td>NEBRASKA</td>\n",
              "      <td>0</td>\n",
              "    </tr>\n",
              "    <tr>\n",
              "      <th>2</th>\n",
              "      <td>2.0</td>\n",
              "      <td>1.0</td>\n",
              "      <td>0.0</td>\n",
              "      <td>1.0</td>\n",
              "      <td>0.0</td>\n",
              "      <td>1.0</td>\n",
              "      <td>1.0</td>\n",
              "      <td>0.0</td>\n",
              "      <td>1.0</td>\n",
              "      <td>0.0</td>\n",
              "      <td>...</td>\n",
              "      <td>1</td>\n",
              "      <td>MSA, Not Principle City</td>\n",
              "      <td>1.0</td>\n",
              "      <td>2.0</td>\n",
              "      <td>3.0</td>\n",
              "      <td>Transportation and Warehousing Industries</td>\n",
              "      <td>Transportation and Material Moving Occupations</td>\n",
              "      <td>1</td>\n",
              "      <td>MASSACHUSETTS</td>\n",
              "      <td>0</td>\n",
              "    </tr>\n",
              "    <tr>\n",
              "      <th>7</th>\n",
              "      <td>1.0</td>\n",
              "      <td>1.0</td>\n",
              "      <td>0.0</td>\n",
              "      <td>0.0</td>\n",
              "      <td>0.0</td>\n",
              "      <td>0.0</td>\n",
              "      <td>0.0</td>\n",
              "      <td>0.0</td>\n",
              "      <td>0.0</td>\n",
              "      <td>0.0</td>\n",
              "      <td>...</td>\n",
              "      <td>2</td>\n",
              "      <td>MSA, Not Principle City</td>\n",
              "      <td>2.0</td>\n",
              "      <td>0.0</td>\n",
              "      <td>2.0</td>\n",
              "      <td>Construction Industries</td>\n",
              "      <td>Management Occupations</td>\n",
              "      <td>7</td>\n",
              "      <td>MISSOURI</td>\n",
              "      <td>0</td>\n",
              "    </tr>\n",
              "    <tr>\n",
              "      <th>8</th>\n",
              "      <td>2.0</td>\n",
              "      <td>1.0</td>\n",
              "      <td>0.0</td>\n",
              "      <td>1.0</td>\n",
              "      <td>0.0</td>\n",
              "      <td>1.0</td>\n",
              "      <td>1.0</td>\n",
              "      <td>1.0</td>\n",
              "      <td>1.0</td>\n",
              "      <td>NaN</td>\n",
              "      <td>...</td>\n",
              "      <td>2</td>\n",
              "      <td>MSA, Not Principle City</td>\n",
              "      <td>2.0</td>\n",
              "      <td>2.0</td>\n",
              "      <td>4.0</td>\n",
              "      <td>Manufacturing Industries</td>\n",
              "      <td>Transportation and Material Moving Occupations</td>\n",
              "      <td>5</td>\n",
              "      <td>WISCONSIN</td>\n",
              "      <td>0</td>\n",
              "    </tr>\n",
              "    <tr>\n",
              "      <th>9</th>\n",
              "      <td>NaN</td>\n",
              "      <td>NaN</td>\n",
              "      <td>NaN</td>\n",
              "      <td>NaN</td>\n",
              "      <td>NaN</td>\n",
              "      <td>NaN</td>\n",
              "      <td>NaN</td>\n",
              "      <td>NaN</td>\n",
              "      <td>NaN</td>\n",
              "      <td>0.0</td>\n",
              "      <td>...</td>\n",
              "      <td>3</td>\n",
              "      <td>MSA, Not Principle City</td>\n",
              "      <td>2.0</td>\n",
              "      <td>3.0</td>\n",
              "      <td>5.0</td>\n",
              "      <td>NaN</td>\n",
              "      <td>NaN</td>\n",
              "      <td>4</td>\n",
              "      <td>FLORIDA</td>\n",
              "      <td>0</td>\n",
              "    </tr>\n",
              "  </tbody>\n",
              "</table>\n",
              "<p>5 rows × 39 columns</p>\n",
              "</div>\n",
              "      <button class=\"colab-df-convert\" onclick=\"convertToInteractive('df-98dc504e-5b93-41dc-b600-0a8c67c08a04')\"\n",
              "              title=\"Convert this dataframe to an interactive table.\"\n",
              "              style=\"display:none;\">\n",
              "        \n",
              "  <svg xmlns=\"http://www.w3.org/2000/svg\" height=\"24px\"viewBox=\"0 0 24 24\"\n",
              "       width=\"24px\">\n",
              "    <path d=\"M0 0h24v24H0V0z\" fill=\"none\"/>\n",
              "    <path d=\"M18.56 5.44l.94 2.06.94-2.06 2.06-.94-2.06-.94-.94-2.06-.94 2.06-2.06.94zm-11 1L8.5 8.5l.94-2.06 2.06-.94-2.06-.94L8.5 2.5l-.94 2.06-2.06.94zm10 10l.94 2.06.94-2.06 2.06-.94-2.06-.94-.94-2.06-.94 2.06-2.06.94z\"/><path d=\"M17.41 7.96l-1.37-1.37c-.4-.4-.92-.59-1.43-.59-.52 0-1.04.2-1.43.59L10.3 9.45l-7.72 7.72c-.78.78-.78 2.05 0 2.83L4 21.41c.39.39.9.59 1.41.59.51 0 1.02-.2 1.41-.59l7.78-7.78 2.81-2.81c.8-.78.8-2.07 0-2.86zM5.41 20L4 18.59l7.72-7.72 1.47 1.35L5.41 20z\"/>\n",
              "  </svg>\n",
              "      </button>\n",
              "      \n",
              "  <style>\n",
              "    .colab-df-container {\n",
              "      display:flex;\n",
              "      flex-wrap:wrap;\n",
              "      gap: 12px;\n",
              "    }\n",
              "\n",
              "    .colab-df-convert {\n",
              "      background-color: #E8F0FE;\n",
              "      border: none;\n",
              "      border-radius: 50%;\n",
              "      cursor: pointer;\n",
              "      display: none;\n",
              "      fill: #1967D2;\n",
              "      height: 32px;\n",
              "      padding: 0 0 0 0;\n",
              "      width: 32px;\n",
              "    }\n",
              "\n",
              "    .colab-df-convert:hover {\n",
              "      background-color: #E2EBFA;\n",
              "      box-shadow: 0px 1px 2px rgba(60, 64, 67, 0.3), 0px 1px 3px 1px rgba(60, 64, 67, 0.15);\n",
              "      fill: #174EA6;\n",
              "    }\n",
              "\n",
              "    [theme=dark] .colab-df-convert {\n",
              "      background-color: #3B4455;\n",
              "      fill: #D2E3FC;\n",
              "    }\n",
              "\n",
              "    [theme=dark] .colab-df-convert:hover {\n",
              "      background-color: #434B5C;\n",
              "      box-shadow: 0px 1px 3px 1px rgba(0, 0, 0, 0.15);\n",
              "      filter: drop-shadow(0px 1px 2px rgba(0, 0, 0, 0.3));\n",
              "      fill: #FFFFFF;\n",
              "    }\n",
              "  </style>\n",
              "\n",
              "      <script>\n",
              "        const buttonEl =\n",
              "          document.querySelector('#df-98dc504e-5b93-41dc-b600-0a8c67c08a04 button.colab-df-convert');\n",
              "        buttonEl.style.display =\n",
              "          google.colab.kernel.accessAllowed ? 'block' : 'none';\n",
              "\n",
              "        async function convertToInteractive(key) {\n",
              "          const element = document.querySelector('#df-98dc504e-5b93-41dc-b600-0a8c67c08a04');\n",
              "          const dataTable =\n",
              "            await google.colab.kernel.invokeFunction('convertToInteractive',\n",
              "                                                     [key], {});\n",
              "          if (!dataTable) return;\n",
              "\n",
              "          const docLinkHtml = 'Like what you see? Visit the ' +\n",
              "            '<a target=\"_blank\" href=https://colab.research.google.com/notebooks/data_table.ipynb>data table notebook</a>'\n",
              "            + ' to learn more about interactive tables.';\n",
              "          element.innerHTML = '';\n",
              "          dataTable['output_type'] = 'display_data';\n",
              "          await google.colab.output.renderOutput(dataTable, element);\n",
              "          const docLink = document.createElement('div');\n",
              "          docLink.innerHTML = docLinkHtml;\n",
              "          element.appendChild(docLink);\n",
              "        }\n",
              "      </script>\n",
              "    </div>\n",
              "  </div>\n",
              "  "
            ]
          },
          "metadata": {},
          "execution_count": 14
        }
      ]
    },
    {
      "cell_type": "code",
      "source": [
        "# 2. employment_industry\n",
        "train[\"employment_industry\"].value_counts()"
      ],
      "metadata": {
        "colab": {
          "base_uri": "https://localhost:8080/"
        },
        "id": "LZ0tRJtFGUh7",
        "outputId": "e187aea4-9472-453c-85af-72e889150092"
      },
      "execution_count": null,
      "outputs": [
        {
          "output_type": "execute_result",
          "data": {
            "text/plain": [
              "Health Care and Social Assistance Industries                     3086\n",
              "Education Services Industries                                    2298\n",
              "Professional, Scientific, and Technical Services Industries      1535\n",
              "Retail Trade Industries                                          1360\n",
              "Construction Industries                                          1115\n",
              "Public Administration Industries                                 1103\n",
              "Manufacturing Industries                                         1062\n",
              "Finance and Insurance Industries                                  778\n",
              "Other Services (except Public)                                    717\n",
              "Accommodation and Food Services Industries                        672\n",
              "Transportation and Warehousing Industries                         637\n",
              "Information Industries                                            426\n",
              "Administrative and Support and Waste Management                   416\n",
              "Agriculture, Forestry, Fishing, and Hunting Industries            377\n",
              "Arts, Entertainment, and Recreation Industries Administration     353\n",
              "Real Estate and Rental and Leasing Industries                     272\n",
              "Wholesale Trade Industries                                        265\n",
              "Armed Forces                                                      194\n",
              "Not ascertained                                                   177\n",
              "Utilities Industries                                              165\n",
              "Mining Industries                                                 109\n",
              "Refused, classified                                                40\n",
              "Management of Companies and Enterprises Industries                  8\n",
              "Name: employment_industry, dtype: int64"
            ]
          },
          "metadata": {},
          "execution_count": 15
        }
      ]
    },
    {
      "cell_type": "code",
      "source": [
        "# 결측치 실제 값 확인 -> NaN\n",
        "train[train[\"employment_industry\"].isnull()].head(5)"
      ],
      "metadata": {
        "colab": {
          "base_uri": "https://localhost:8080/",
          "height": 386
        },
        "id": "_qBvVb_CGosf",
        "outputId": "799995a6-e3e5-454c-c5c7-4f07ff61b3e6"
      },
      "execution_count": null,
      "outputs": [
        {
          "output_type": "execute_result",
          "data": {
            "text/plain": [
              "    h1n1_concern  h1n1_knowledge  behavioral_antiviral_meds  \\\n",
              "0            NaN             NaN                        NaN   \n",
              "6            NaN             NaN                        NaN   \n",
              "9            NaN             NaN                        NaN   \n",
              "10           2.0             1.0                        0.0   \n",
              "11           NaN             NaN                        NaN   \n",
              "\n",
              "    behavioral_avoidance  behavioral_face_mask  behavioral_wash_hands  \\\n",
              "0                    NaN                   NaN                    NaN   \n",
              "6                    NaN                   NaN                    NaN   \n",
              "9                    NaN                   NaN                    NaN   \n",
              "10                   1.0                   0.0                    0.0   \n",
              "11                   NaN                   NaN                    NaN   \n",
              "\n",
              "    behavioral_large_gatherings  behavioral_outside_home  \\\n",
              "0                           NaN                      NaN   \n",
              "6                           NaN                      NaN   \n",
              "9                           NaN                      NaN   \n",
              "10                          1.0                      1.0   \n",
              "11                          NaN                      NaN   \n",
              "\n",
              "    behavioral_touch_face  doctor_recc_h1n1  ...  census_region  \\\n",
              "0                     NaN               0.0  ...              4   \n",
              "6                     NaN               0.0  ...              2   \n",
              "9                     NaN               0.0  ...              3   \n",
              "10                    0.0               0.0  ...              2   \n",
              "11                    NaN               1.0  ...              3   \n",
              "\n",
              "                 census_msa  n_adult_r  household_children  n_people_r  \\\n",
              "0   MSA, Not Principle City        2.0                 3.0         5.0   \n",
              "6   MSA, Not Principle City        3.0                 1.0         4.0   \n",
              "9   MSA, Not Principle City        2.0                 3.0         5.0   \n",
              "10  MSA, Not Principle City        2.0                 1.0         3.0   \n",
              "11  MSA, Not Principle City        2.0                 2.0         4.0   \n",
              "\n",
              "   employment_industry employment_occupation hhs_region       state  \\\n",
              "0                  NaN                   NaN          9  CALIFORNIA   \n",
              "6                  NaN                   NaN          7    MISSOURI   \n",
              "9                  NaN                   NaN          4     FLORIDA   \n",
              "10                 NaN                   NaN          7    MISSOURI   \n",
              "11                 NaN                   NaN          4     ALABAMA   \n",
              "\n",
              "   vacc_h1n1_f  \n",
              "0            0  \n",
              "6            0  \n",
              "9            0  \n",
              "10           0  \n",
              "11           1  \n",
              "\n",
              "[5 rows x 39 columns]"
            ],
            "text/html": [
              "\n",
              "  <div id=\"df-d0e150da-63c0-4cc2-be82-f8ea66cfe908\">\n",
              "    <div class=\"colab-df-container\">\n",
              "      <div>\n",
              "<style scoped>\n",
              "    .dataframe tbody tr th:only-of-type {\n",
              "        vertical-align: middle;\n",
              "    }\n",
              "\n",
              "    .dataframe tbody tr th {\n",
              "        vertical-align: top;\n",
              "    }\n",
              "\n",
              "    .dataframe thead th {\n",
              "        text-align: right;\n",
              "    }\n",
              "</style>\n",
              "<table border=\"1\" class=\"dataframe\">\n",
              "  <thead>\n",
              "    <tr style=\"text-align: right;\">\n",
              "      <th></th>\n",
              "      <th>h1n1_concern</th>\n",
              "      <th>h1n1_knowledge</th>\n",
              "      <th>behavioral_antiviral_meds</th>\n",
              "      <th>behavioral_avoidance</th>\n",
              "      <th>behavioral_face_mask</th>\n",
              "      <th>behavioral_wash_hands</th>\n",
              "      <th>behavioral_large_gatherings</th>\n",
              "      <th>behavioral_outside_home</th>\n",
              "      <th>behavioral_touch_face</th>\n",
              "      <th>doctor_recc_h1n1</th>\n",
              "      <th>...</th>\n",
              "      <th>census_region</th>\n",
              "      <th>census_msa</th>\n",
              "      <th>n_adult_r</th>\n",
              "      <th>household_children</th>\n",
              "      <th>n_people_r</th>\n",
              "      <th>employment_industry</th>\n",
              "      <th>employment_occupation</th>\n",
              "      <th>hhs_region</th>\n",
              "      <th>state</th>\n",
              "      <th>vacc_h1n1_f</th>\n",
              "    </tr>\n",
              "  </thead>\n",
              "  <tbody>\n",
              "    <tr>\n",
              "      <th>0</th>\n",
              "      <td>NaN</td>\n",
              "      <td>NaN</td>\n",
              "      <td>NaN</td>\n",
              "      <td>NaN</td>\n",
              "      <td>NaN</td>\n",
              "      <td>NaN</td>\n",
              "      <td>NaN</td>\n",
              "      <td>NaN</td>\n",
              "      <td>NaN</td>\n",
              "      <td>0.0</td>\n",
              "      <td>...</td>\n",
              "      <td>4</td>\n",
              "      <td>MSA, Not Principle City</td>\n",
              "      <td>2.0</td>\n",
              "      <td>3.0</td>\n",
              "      <td>5.0</td>\n",
              "      <td>NaN</td>\n",
              "      <td>NaN</td>\n",
              "      <td>9</td>\n",
              "      <td>CALIFORNIA</td>\n",
              "      <td>0</td>\n",
              "    </tr>\n",
              "    <tr>\n",
              "      <th>6</th>\n",
              "      <td>NaN</td>\n",
              "      <td>NaN</td>\n",
              "      <td>NaN</td>\n",
              "      <td>NaN</td>\n",
              "      <td>NaN</td>\n",
              "      <td>NaN</td>\n",
              "      <td>NaN</td>\n",
              "      <td>NaN</td>\n",
              "      <td>NaN</td>\n",
              "      <td>0.0</td>\n",
              "      <td>...</td>\n",
              "      <td>2</td>\n",
              "      <td>MSA, Not Principle City</td>\n",
              "      <td>3.0</td>\n",
              "      <td>1.0</td>\n",
              "      <td>4.0</td>\n",
              "      <td>NaN</td>\n",
              "      <td>NaN</td>\n",
              "      <td>7</td>\n",
              "      <td>MISSOURI</td>\n",
              "      <td>0</td>\n",
              "    </tr>\n",
              "    <tr>\n",
              "      <th>9</th>\n",
              "      <td>NaN</td>\n",
              "      <td>NaN</td>\n",
              "      <td>NaN</td>\n",
              "      <td>NaN</td>\n",
              "      <td>NaN</td>\n",
              "      <td>NaN</td>\n",
              "      <td>NaN</td>\n",
              "      <td>NaN</td>\n",
              "      <td>NaN</td>\n",
              "      <td>0.0</td>\n",
              "      <td>...</td>\n",
              "      <td>3</td>\n",
              "      <td>MSA, Not Principle City</td>\n",
              "      <td>2.0</td>\n",
              "      <td>3.0</td>\n",
              "      <td>5.0</td>\n",
              "      <td>NaN</td>\n",
              "      <td>NaN</td>\n",
              "      <td>4</td>\n",
              "      <td>FLORIDA</td>\n",
              "      <td>0</td>\n",
              "    </tr>\n",
              "    <tr>\n",
              "      <th>10</th>\n",
              "      <td>2.0</td>\n",
              "      <td>1.0</td>\n",
              "      <td>0.0</td>\n",
              "      <td>1.0</td>\n",
              "      <td>0.0</td>\n",
              "      <td>0.0</td>\n",
              "      <td>1.0</td>\n",
              "      <td>1.0</td>\n",
              "      <td>0.0</td>\n",
              "      <td>0.0</td>\n",
              "      <td>...</td>\n",
              "      <td>2</td>\n",
              "      <td>MSA, Not Principle City</td>\n",
              "      <td>2.0</td>\n",
              "      <td>1.0</td>\n",
              "      <td>3.0</td>\n",
              "      <td>NaN</td>\n",
              "      <td>NaN</td>\n",
              "      <td>7</td>\n",
              "      <td>MISSOURI</td>\n",
              "      <td>0</td>\n",
              "    </tr>\n",
              "    <tr>\n",
              "      <th>11</th>\n",
              "      <td>NaN</td>\n",
              "      <td>NaN</td>\n",
              "      <td>NaN</td>\n",
              "      <td>NaN</td>\n",
              "      <td>NaN</td>\n",
              "      <td>NaN</td>\n",
              "      <td>NaN</td>\n",
              "      <td>NaN</td>\n",
              "      <td>NaN</td>\n",
              "      <td>1.0</td>\n",
              "      <td>...</td>\n",
              "      <td>3</td>\n",
              "      <td>MSA, Not Principle City</td>\n",
              "      <td>2.0</td>\n",
              "      <td>2.0</td>\n",
              "      <td>4.0</td>\n",
              "      <td>NaN</td>\n",
              "      <td>NaN</td>\n",
              "      <td>4</td>\n",
              "      <td>ALABAMA</td>\n",
              "      <td>1</td>\n",
              "    </tr>\n",
              "  </tbody>\n",
              "</table>\n",
              "<p>5 rows × 39 columns</p>\n",
              "</div>\n",
              "      <button class=\"colab-df-convert\" onclick=\"convertToInteractive('df-d0e150da-63c0-4cc2-be82-f8ea66cfe908')\"\n",
              "              title=\"Convert this dataframe to an interactive table.\"\n",
              "              style=\"display:none;\">\n",
              "        \n",
              "  <svg xmlns=\"http://www.w3.org/2000/svg\" height=\"24px\"viewBox=\"0 0 24 24\"\n",
              "       width=\"24px\">\n",
              "    <path d=\"M0 0h24v24H0V0z\" fill=\"none\"/>\n",
              "    <path d=\"M18.56 5.44l.94 2.06.94-2.06 2.06-.94-2.06-.94-.94-2.06-.94 2.06-2.06.94zm-11 1L8.5 8.5l.94-2.06 2.06-.94-2.06-.94L8.5 2.5l-.94 2.06-2.06.94zm10 10l.94 2.06.94-2.06 2.06-.94-2.06-.94-.94-2.06-.94 2.06-2.06.94z\"/><path d=\"M17.41 7.96l-1.37-1.37c-.4-.4-.92-.59-1.43-.59-.52 0-1.04.2-1.43.59L10.3 9.45l-7.72 7.72c-.78.78-.78 2.05 0 2.83L4 21.41c.39.39.9.59 1.41.59.51 0 1.02-.2 1.41-.59l7.78-7.78 2.81-2.81c.8-.78.8-2.07 0-2.86zM5.41 20L4 18.59l7.72-7.72 1.47 1.35L5.41 20z\"/>\n",
              "  </svg>\n",
              "      </button>\n",
              "      \n",
              "  <style>\n",
              "    .colab-df-container {\n",
              "      display:flex;\n",
              "      flex-wrap:wrap;\n",
              "      gap: 12px;\n",
              "    }\n",
              "\n",
              "    .colab-df-convert {\n",
              "      background-color: #E8F0FE;\n",
              "      border: none;\n",
              "      border-radius: 50%;\n",
              "      cursor: pointer;\n",
              "      display: none;\n",
              "      fill: #1967D2;\n",
              "      height: 32px;\n",
              "      padding: 0 0 0 0;\n",
              "      width: 32px;\n",
              "    }\n",
              "\n",
              "    .colab-df-convert:hover {\n",
              "      background-color: #E2EBFA;\n",
              "      box-shadow: 0px 1px 2px rgba(60, 64, 67, 0.3), 0px 1px 3px 1px rgba(60, 64, 67, 0.15);\n",
              "      fill: #174EA6;\n",
              "    }\n",
              "\n",
              "    [theme=dark] .colab-df-convert {\n",
              "      background-color: #3B4455;\n",
              "      fill: #D2E3FC;\n",
              "    }\n",
              "\n",
              "    [theme=dark] .colab-df-convert:hover {\n",
              "      background-color: #434B5C;\n",
              "      box-shadow: 0px 1px 3px 1px rgba(0, 0, 0, 0.15);\n",
              "      filter: drop-shadow(0px 1px 2px rgba(0, 0, 0, 0.3));\n",
              "      fill: #FFFFFF;\n",
              "    }\n",
              "  </style>\n",
              "\n",
              "      <script>\n",
              "        const buttonEl =\n",
              "          document.querySelector('#df-d0e150da-63c0-4cc2-be82-f8ea66cfe908 button.colab-df-convert');\n",
              "        buttonEl.style.display =\n",
              "          google.colab.kernel.accessAllowed ? 'block' : 'none';\n",
              "\n",
              "        async function convertToInteractive(key) {\n",
              "          const element = document.querySelector('#df-d0e150da-63c0-4cc2-be82-f8ea66cfe908');\n",
              "          const dataTable =\n",
              "            await google.colab.kernel.invokeFunction('convertToInteractive',\n",
              "                                                     [key], {});\n",
              "          if (!dataTable) return;\n",
              "\n",
              "          const docLinkHtml = 'Like what you see? Visit the ' +\n",
              "            '<a target=\"_blank\" href=https://colab.research.google.com/notebooks/data_table.ipynb>data table notebook</a>'\n",
              "            + ' to learn more about interactive tables.';\n",
              "          element.innerHTML = '';\n",
              "          dataTable['output_type'] = 'display_data';\n",
              "          await google.colab.output.renderOutput(dataTable, element);\n",
              "          const docLink = document.createElement('div');\n",
              "          docLink.innerHTML = docLinkHtml;\n",
              "          element.appendChild(docLink);\n",
              "        }\n",
              "      </script>\n",
              "    </div>\n",
              "  </div>\n",
              "  "
            ]
          },
          "metadata": {},
          "execution_count": 16
        }
      ]
    },
    {
      "cell_type": "code",
      "source": [
        "# employment_industry, employment_occupation : 결측치 개수 가장 많음. 개수 서로 동일\n",
        "# cardinality 확인 후 너무 복잡하면 과감하게 Drop\n",
        "# cardinality 확인은 데이터타입이 object인 것만 진행\n",
        "train.describe(exclude='number').T.sort_values(ascending=False, by='unique')"
      ],
      "metadata": {
        "colab": {
          "base_uri": "https://localhost:8080/",
          "height": 425
        },
        "id": "nxyqYksPGrDA",
        "outputId": "2f7e0732-2dda-43eb-e7c2-238e4979678e"
      },
      "execution_count": null,
      "outputs": [
        {
          "output_type": "execute_result",
          "data": {
            "text/plain": [
              "                             count unique  \\\n",
              "state                        42154     51   \n",
              "employment_occupation        17165     25   \n",
              "employment_industry          17165     23   \n",
              "agegrp                       42154      7   \n",
              "opinion_h1n1_vacc_effective  33375      6   \n",
              "opinion_h1n1_risk            33329      6   \n",
              "opinion_h1n1_sick_from_vacc  33285      6   \n",
              "opinion_seas_vacc_effective  33220      6   \n",
              "opinion_seas_risk            33153      6   \n",
              "opinion_seas_sick_from_vacc  33089      6   \n",
              "employment_status            31876      3   \n",
              "census_msa                   42154      3   \n",
              "\n",
              "                                                                      top  \\\n",
              "state                                                          NEW MEXICO   \n",
              "employment_occupation                              Management Occupations   \n",
              "employment_industry          Health Care and Social Assistance Industries   \n",
              "agegrp                                                          65+ Years   \n",
              "opinion_h1n1_vacc_effective                            Somewhat Effective   \n",
              "opinion_h1n1_risk                                            Somewhat Low   \n",
              "opinion_h1n1_sick_from_vacc                              Not Very Worried   \n",
              "opinion_seas_vacc_effective                            Somewhat Effective   \n",
              "opinion_seas_risk                                            Somewhat Low   \n",
              "opinion_seas_sick_from_vacc                            Not At All Worried   \n",
              "employment_status                                                Employed   \n",
              "census_msa                                        MSA, Not Principle City   \n",
              "\n",
              "                              freq  \n",
              "state                         1017  \n",
              "employment_occupation         2188  \n",
              "employment_industry           3086  \n",
              "agegrp                        8517  \n",
              "opinion_h1n1_vacc_effective  14729  \n",
              "opinion_h1n1_risk            12520  \n",
              "opinion_h1n1_sick_from_vacc  11582  \n",
              "opinion_seas_vacc_effective  14543  \n",
              "opinion_seas_risk            11397  \n",
              "opinion_seas_sick_from_vacc  14749  \n",
              "employment_status            17173  \n",
              "census_msa                   18957  "
            ],
            "text/html": [
              "\n",
              "  <div id=\"df-ce793995-d4ef-468a-925f-03b1be63b0c1\">\n",
              "    <div class=\"colab-df-container\">\n",
              "      <div>\n",
              "<style scoped>\n",
              "    .dataframe tbody tr th:only-of-type {\n",
              "        vertical-align: middle;\n",
              "    }\n",
              "\n",
              "    .dataframe tbody tr th {\n",
              "        vertical-align: top;\n",
              "    }\n",
              "\n",
              "    .dataframe thead th {\n",
              "        text-align: right;\n",
              "    }\n",
              "</style>\n",
              "<table border=\"1\" class=\"dataframe\">\n",
              "  <thead>\n",
              "    <tr style=\"text-align: right;\">\n",
              "      <th></th>\n",
              "      <th>count</th>\n",
              "      <th>unique</th>\n",
              "      <th>top</th>\n",
              "      <th>freq</th>\n",
              "    </tr>\n",
              "  </thead>\n",
              "  <tbody>\n",
              "    <tr>\n",
              "      <th>state</th>\n",
              "      <td>42154</td>\n",
              "      <td>51</td>\n",
              "      <td>NEW MEXICO</td>\n",
              "      <td>1017</td>\n",
              "    </tr>\n",
              "    <tr>\n",
              "      <th>employment_occupation</th>\n",
              "      <td>17165</td>\n",
              "      <td>25</td>\n",
              "      <td>Management Occupations</td>\n",
              "      <td>2188</td>\n",
              "    </tr>\n",
              "    <tr>\n",
              "      <th>employment_industry</th>\n",
              "      <td>17165</td>\n",
              "      <td>23</td>\n",
              "      <td>Health Care and Social Assistance Industries</td>\n",
              "      <td>3086</td>\n",
              "    </tr>\n",
              "    <tr>\n",
              "      <th>agegrp</th>\n",
              "      <td>42154</td>\n",
              "      <td>7</td>\n",
              "      <td>65+ Years</td>\n",
              "      <td>8517</td>\n",
              "    </tr>\n",
              "    <tr>\n",
              "      <th>opinion_h1n1_vacc_effective</th>\n",
              "      <td>33375</td>\n",
              "      <td>6</td>\n",
              "      <td>Somewhat Effective</td>\n",
              "      <td>14729</td>\n",
              "    </tr>\n",
              "    <tr>\n",
              "      <th>opinion_h1n1_risk</th>\n",
              "      <td>33329</td>\n",
              "      <td>6</td>\n",
              "      <td>Somewhat Low</td>\n",
              "      <td>12520</td>\n",
              "    </tr>\n",
              "    <tr>\n",
              "      <th>opinion_h1n1_sick_from_vacc</th>\n",
              "      <td>33285</td>\n",
              "      <td>6</td>\n",
              "      <td>Not Very Worried</td>\n",
              "      <td>11582</td>\n",
              "    </tr>\n",
              "    <tr>\n",
              "      <th>opinion_seas_vacc_effective</th>\n",
              "      <td>33220</td>\n",
              "      <td>6</td>\n",
              "      <td>Somewhat Effective</td>\n",
              "      <td>14543</td>\n",
              "    </tr>\n",
              "    <tr>\n",
              "      <th>opinion_seas_risk</th>\n",
              "      <td>33153</td>\n",
              "      <td>6</td>\n",
              "      <td>Somewhat Low</td>\n",
              "      <td>11397</td>\n",
              "    </tr>\n",
              "    <tr>\n",
              "      <th>opinion_seas_sick_from_vacc</th>\n",
              "      <td>33089</td>\n",
              "      <td>6</td>\n",
              "      <td>Not At All Worried</td>\n",
              "      <td>14749</td>\n",
              "    </tr>\n",
              "    <tr>\n",
              "      <th>employment_status</th>\n",
              "      <td>31876</td>\n",
              "      <td>3</td>\n",
              "      <td>Employed</td>\n",
              "      <td>17173</td>\n",
              "    </tr>\n",
              "    <tr>\n",
              "      <th>census_msa</th>\n",
              "      <td>42154</td>\n",
              "      <td>3</td>\n",
              "      <td>MSA, Not Principle City</td>\n",
              "      <td>18957</td>\n",
              "    </tr>\n",
              "  </tbody>\n",
              "</table>\n",
              "</div>\n",
              "      <button class=\"colab-df-convert\" onclick=\"convertToInteractive('df-ce793995-d4ef-468a-925f-03b1be63b0c1')\"\n",
              "              title=\"Convert this dataframe to an interactive table.\"\n",
              "              style=\"display:none;\">\n",
              "        \n",
              "  <svg xmlns=\"http://www.w3.org/2000/svg\" height=\"24px\"viewBox=\"0 0 24 24\"\n",
              "       width=\"24px\">\n",
              "    <path d=\"M0 0h24v24H0V0z\" fill=\"none\"/>\n",
              "    <path d=\"M18.56 5.44l.94 2.06.94-2.06 2.06-.94-2.06-.94-.94-2.06-.94 2.06-2.06.94zm-11 1L8.5 8.5l.94-2.06 2.06-.94-2.06-.94L8.5 2.5l-.94 2.06-2.06.94zm10 10l.94 2.06.94-2.06 2.06-.94-2.06-.94-.94-2.06-.94 2.06-2.06.94z\"/><path d=\"M17.41 7.96l-1.37-1.37c-.4-.4-.92-.59-1.43-.59-.52 0-1.04.2-1.43.59L10.3 9.45l-7.72 7.72c-.78.78-.78 2.05 0 2.83L4 21.41c.39.39.9.59 1.41.59.51 0 1.02-.2 1.41-.59l7.78-7.78 2.81-2.81c.8-.78.8-2.07 0-2.86zM5.41 20L4 18.59l7.72-7.72 1.47 1.35L5.41 20z\"/>\n",
              "  </svg>\n",
              "      </button>\n",
              "      \n",
              "  <style>\n",
              "    .colab-df-container {\n",
              "      display:flex;\n",
              "      flex-wrap:wrap;\n",
              "      gap: 12px;\n",
              "    }\n",
              "\n",
              "    .colab-df-convert {\n",
              "      background-color: #E8F0FE;\n",
              "      border: none;\n",
              "      border-radius: 50%;\n",
              "      cursor: pointer;\n",
              "      display: none;\n",
              "      fill: #1967D2;\n",
              "      height: 32px;\n",
              "      padding: 0 0 0 0;\n",
              "      width: 32px;\n",
              "    }\n",
              "\n",
              "    .colab-df-convert:hover {\n",
              "      background-color: #E2EBFA;\n",
              "      box-shadow: 0px 1px 2px rgba(60, 64, 67, 0.3), 0px 1px 3px 1px rgba(60, 64, 67, 0.15);\n",
              "      fill: #174EA6;\n",
              "    }\n",
              "\n",
              "    [theme=dark] .colab-df-convert {\n",
              "      background-color: #3B4455;\n",
              "      fill: #D2E3FC;\n",
              "    }\n",
              "\n",
              "    [theme=dark] .colab-df-convert:hover {\n",
              "      background-color: #434B5C;\n",
              "      box-shadow: 0px 1px 3px 1px rgba(0, 0, 0, 0.15);\n",
              "      filter: drop-shadow(0px 1px 2px rgba(0, 0, 0, 0.3));\n",
              "      fill: #FFFFFF;\n",
              "    }\n",
              "  </style>\n",
              "\n",
              "      <script>\n",
              "        const buttonEl =\n",
              "          document.querySelector('#df-ce793995-d4ef-468a-925f-03b1be63b0c1 button.colab-df-convert');\n",
              "        buttonEl.style.display =\n",
              "          google.colab.kernel.accessAllowed ? 'block' : 'none';\n",
              "\n",
              "        async function convertToInteractive(key) {\n",
              "          const element = document.querySelector('#df-ce793995-d4ef-468a-925f-03b1be63b0c1');\n",
              "          const dataTable =\n",
              "            await google.colab.kernel.invokeFunction('convertToInteractive',\n",
              "                                                     [key], {});\n",
              "          if (!dataTable) return;\n",
              "\n",
              "          const docLinkHtml = 'Like what you see? Visit the ' +\n",
              "            '<a target=\"_blank\" href=https://colab.research.google.com/notebooks/data_table.ipynb>data table notebook</a>'\n",
              "            + ' to learn more about interactive tables.';\n",
              "          element.innerHTML = '';\n",
              "          dataTable['output_type'] = 'display_data';\n",
              "          await google.colab.output.renderOutput(dataTable, element);\n",
              "          const docLink = document.createElement('div');\n",
              "          docLink.innerHTML = docLinkHtml;\n",
              "          element.appendChild(docLink);\n",
              "        }\n",
              "      </script>\n",
              "    </div>\n",
              "  </div>\n",
              "  "
            ]
          },
          "metadata": {},
          "execution_count": 17
        }
      ]
    },
    {
      "cell_type": "code",
      "source": [
        "# 불필요한 컬럼 삭제 1\n",
        "# cardinality가 가장 높은 3개 컬럼 삭제 (테스트, 훈련용 모두 동일하게 진행할 것)\n",
        "train_cleaned_1 = train.drop([\"employment_industry\",\"employment_occupation\",\"state\"], axis=1)\n",
        "test_cleaned_1 = test.drop([\"employment_industry\",\"employment_occupation\",\"state\"], axis=1)\n",
        "\n",
        "# 삭제 후 특성 개수 확인 (36,35개로 줄어들었음을 확인)\n",
        "train_cleaned_1.shape, test_cleaned_1.shape"
      ],
      "metadata": {
        "colab": {
          "base_uri": "https://localhost:8080/"
        },
        "id": "2Lcr92_IGznx",
        "outputId": "c075a6e1-cc3f-4783-b92a-bd8abf89cfd9"
      },
      "execution_count": null,
      "outputs": [
        {
          "output_type": "execute_result",
          "data": {
            "text/plain": [
              "((42154, 36), (28104, 35))"
            ]
          },
          "metadata": {},
          "execution_count": 18
        }
      ]
    },
    {
      "cell_type": "code",
      "source": [
        "# 불필요한 컬럼 삭제 2\n",
        "# 우리가 알고자 하는 것은 H1N1 독감 관련 정보이므로, 계절성 독감 백신에 대한 의견은 필요 없음\n",
        "train_cleaned_2 = train_cleaned_1.drop([\"opinion_seas_vacc_effective\",\"opinion_seas_risk\",\"opinion_seas_sick_from_vacc\"], axis=1)\n",
        "test_cleaned_2 = test_cleaned_1.drop([\"opinion_seas_vacc_effective\",\"opinion_seas_risk\",\"opinion_seas_sick_from_vacc\"], axis=1)\n",
        "\n",
        "# 특성 개수 확인 (33,32개로 줄어들었음을 확인)\n",
        "train_cleaned_2.shape, test_cleaned_2.shape"
      ],
      "metadata": {
        "colab": {
          "base_uri": "https://localhost:8080/"
        },
        "id": "rzuItPM6HBm7",
        "outputId": "ebda7c4f-4d4d-44f2-8f01-81dc29843e40"
      },
      "execution_count": null,
      "outputs": [
        {
          "output_type": "execute_result",
          "data": {
            "text/plain": [
              "((42154, 33), (28104, 32))"
            ]
          },
          "metadata": {},
          "execution_count": 19
        }
      ]
    },
    {
      "cell_type": "code",
      "source": [
        "# 새로운 컬럼 생성 1\n",
        "# behavior 관련 컬럼 : 0과 1이며, 0은 전염병 예방에 부정적인 응답이고, 1은 긍정적인 응답.\n",
        "# 해당 컬럼의 점수를 합치면 5점 만점이 되며, 5점일수록 전염병 예방을 위한 노력을 해 왔다는 뜻이 되지 않을까?\n",
        "# 모두 합쳐서 \"behaviorals\"라는 컬럼을 만든다.\n",
        "\n",
        "# 함수 정의\n",
        "def behavior(df):\n",
        "  behaviorals = [col for col in df.columns if 'behavioral' in col] \n",
        "  df['behaviorals'] = df[behaviorals].sum(axis=1)\n",
        "\n",
        "# 함수 실행\n",
        "behavior(train_cleaned_2)\n",
        "behavior(test_cleaned_2)\n",
        "\n",
        "# 특성 개수 확인 (34,33개로 늘어났음을 확인)\n",
        "train_cleaned_2.shape, test_cleaned_2.shape"
      ],
      "metadata": {
        "colab": {
          "base_uri": "https://localhost:8080/"
        },
        "id": "9FGxCcxXHlAD",
        "outputId": "23b2bbd9-636b-48e3-eab0-a5601290e790"
      },
      "execution_count": null,
      "outputs": [
        {
          "output_type": "execute_result",
          "data": {
            "text/plain": [
              "((42154, 34), (28104, 33))"
            ]
          },
          "metadata": {},
          "execution_count": 20
        }
      ]
    },
    {
      "cell_type": "code",
      "source": [
        "# 새로운 컬럼 생성 2\n",
        "# 응답자의 opinion과 관련된 컬럼은 점수로 바꾸어서 합산해 볼 수 있다.\n",
        "# 1부터 5까지로 환산 후 sum을 하면, 백신에 대해 긍정적/부정적 여부를 점수로 나타낼 수도 있지 않을까?\n",
        "\n",
        "# 1. opinion_h1n1_vacc_effective 컬럼을 수치로 바꾼다.\n",
        "\"\"\"\n",
        "백신의 효과에 대한 응답자의 생각\n",
        "\n",
        "5 : Very effective\n",
        "4 : Somewhat effective\n",
        "3 : Don't know\n",
        "2 : Not very effective\n",
        "1 : Not at all effective \n",
        "\"\"\"\n",
        "\n",
        "# 값 확인\n",
        "train_cleaned_2[\"opinion_h1n1_vacc_effective\"].value_counts()"
      ],
      "metadata": {
        "colab": {
          "base_uri": "https://localhost:8080/"
        },
        "id": "qSBTBurKHq1t",
        "outputId": "10c7ae02-0558-4f2a-fcd2-fb9d5d067a1c"
      },
      "execution_count": null,
      "outputs": [
        {
          "output_type": "execute_result",
          "data": {
            "text/plain": [
              "Somewhat Effective      14729\n",
              "Very Effective           9052\n",
              "Dont Know                6033\n",
              "Not Very Effective       2312\n",
              "Not At All Effective     1111\n",
              "Refused                   138\n",
              "Name: opinion_h1n1_vacc_effective, dtype: int64"
            ]
          },
          "metadata": {},
          "execution_count": 21
        }
      ]
    },
    {
      "cell_type": "code",
      "source": [
        "# 변환 과정에서 결측치가 나오면? -> 0으로 바꾼다.\n",
        "# 결측치 보완 및 데이터 타입 일치효과\n",
        "train_cleaned_2[\"opinion_h1n1_vacc_effective\"].isnull().sum()"
      ],
      "metadata": {
        "colab": {
          "base_uri": "https://localhost:8080/"
        },
        "id": "O57GaYt-IG92",
        "outputId": "1f30846a-4c48-44b6-a503-a5815cd05691"
      },
      "execution_count": null,
      "outputs": [
        {
          "output_type": "execute_result",
          "data": {
            "text/plain": [
              "8779"
            ]
          },
          "metadata": {},
          "execution_count": 22
        }
      ]
    },
    {
      "cell_type": "code",
      "source": [
        "# 함수 정의\n",
        "def effective(df):\n",
        "  df[\"opinion_h1n1_vacc_effective_score\"]=\"\"\n",
        "  \n",
        "  for index in range(len(df)):\n",
        "    opinion = df[\"opinion_h1n1_vacc_effective\"][index]\n",
        "    \n",
        "    if opinion == \"Very Effective\":\n",
        "      df[\"opinion_h1n1_vacc_effective_score\"][index] = int(5)\n",
        "\n",
        "    elif opinion == \"Somewhat Effective\":\n",
        "      df[\"opinion_h1n1_vacc_effective_score\"][index] = int(4)\n",
        "\n",
        "    elif opinion == \"Dont Know\":\n",
        "      df[\"opinion_h1n1_vacc_effective_score\"][index] = int(3)\n",
        "\n",
        "    elif opinion == \"Not Very Effective\":\n",
        "      df[\"opinion_h1n1_vacc_effective_score\"][index] = int(2)\n",
        "\n",
        "    elif opinion == \"Not At All Effective\":\n",
        "      df[\"opinion_h1n1_vacc_effective_score\"][index] = int(1)\n",
        "      \n",
        "    else:\n",
        "      df[\"opinion_h1n1_vacc_effective_score\"][index] = int(0)\n",
        "\n",
        "  return df"
      ],
      "metadata": {
        "id": "65oLBNfiII7p"
      },
      "execution_count": null,
      "outputs": []
    },
    {
      "cell_type": "code",
      "source": [
        "# 함수 실행\n",
        "train_score = effective(train_cleaned_2)\n",
        "test_score = effective(test_cleaned_2)"
      ],
      "metadata": {
        "id": "AVnqVAIGILJS"
      },
      "execution_count": null,
      "outputs": []
    },
    {
      "cell_type": "code",
      "source": [
        "# 점수 변환 확인 - 훈련용\n",
        "train_score[\"opinion_h1n1_vacc_effective_score\"].value_counts()"
      ],
      "metadata": {
        "colab": {
          "base_uri": "https://localhost:8080/"
        },
        "id": "_1DOf4LKIMyY",
        "outputId": "82a83e9d-13a3-49ae-d413-41fbc6d860be"
      },
      "execution_count": null,
      "outputs": [
        {
          "output_type": "execute_result",
          "data": {
            "text/plain": [
              "4    14729\n",
              "5     9052\n",
              "0     8917\n",
              "3     6033\n",
              "2     2312\n",
              "1     1111\n",
              "Name: opinion_h1n1_vacc_effective_score, dtype: int64"
            ]
          },
          "metadata": {},
          "execution_count": 27
        }
      ]
    },
    {
      "cell_type": "code",
      "source": [
        "# 점수 변환 확인 - 테스트용\n",
        "test_score[\"opinion_h1n1_vacc_effective_score\"].value_counts()"
      ],
      "metadata": {
        "colab": {
          "base_uri": "https://localhost:8080/"
        },
        "id": "cgBW9v0qJpHK",
        "outputId": "d6608f00-5860-4019-c743-149687efa868"
      },
      "execution_count": null,
      "outputs": [
        {
          "output_type": "execute_result",
          "data": {
            "text/plain": [
              "4    9935\n",
              "0    5943\n",
              "5    5923\n",
              "3    3956\n",
              "2    1545\n",
              "1     802\n",
              "Name: opinion_h1n1_vacc_effective_score, dtype: int64"
            ]
          },
          "metadata": {},
          "execution_count": 28
        }
      ]
    },
    {
      "cell_type": "code",
      "source": [
        "# 2. opinion_h1n1_risk 컬럼을 수치로 바꾼다.\n",
        "\"\"\"\n",
        "H1N1백신의 위험에 대한 응답자의 생각\n",
        "# Very Low\n",
        "# Somewhat Low\n",
        "# Dont Know\n",
        "# Somewhat High\n",
        "# Very High\n",
        "\"\"\"\n",
        "\n",
        "train_score[\"opinion_h1n1_risk\"].value_counts()"
      ],
      "metadata": {
        "colab": {
          "base_uri": "https://localhost:8080/"
        },
        "id": "wgzqNSBZJqrV",
        "outputId": "ba50982d-abd3-48f4-e4d5-359791d4bb48"
      },
      "execution_count": null,
      "outputs": [
        {
          "output_type": "execute_result",
          "data": {
            "text/plain": [
              "Somewhat Low     12520\n",
              "Very Low         10331\n",
              "Somewhat High     6765\n",
              "Very High         2156\n",
              "Dont Know         1481\n",
              "Refused             76\n",
              "Name: opinion_h1n1_risk, dtype: int64"
            ]
          },
          "metadata": {},
          "execution_count": 29
        }
      ]
    },
    {
      "cell_type": "code",
      "source": [
        "train_cleaned_2[\"opinion_h1n1_risk\"].isnull().sum()"
      ],
      "metadata": {
        "colab": {
          "base_uri": "https://localhost:8080/"
        },
        "id": "peva-8lIii8z",
        "outputId": "9611846d-7d4e-4361-ae48-3d165c5a30ac"
      },
      "execution_count": null,
      "outputs": [
        {
          "output_type": "execute_result",
          "data": {
            "text/plain": [
              "8825"
            ]
          },
          "metadata": {},
          "execution_count": 36
        }
      ]
    },
    {
      "cell_type": "code",
      "source": [
        "# 함수 정의\n",
        "def risk(df):\n",
        "  df[\"opinion_h1n1_risk_score\"] = \"\"\n",
        "  \n",
        "  for index in range(len(df)):\n",
        "    opinion = df[\"opinion_h1n1_risk\"][index]\n",
        "    \n",
        "    if opinion == \"Very Low\":\n",
        "      df[\"opinion_h1n1_risk_score\"][index] = int(5)\n",
        "\n",
        "    elif opinion == \"Somewhat Low\":\n",
        "      df[\"opinion_h1n1_risk_score\"][index] = int(4)\n",
        "\n",
        "    elif opinion == \"Dont Know\":\n",
        "      df[\"opinion_h1n1_risk_score\"][index] = int(3)\n",
        "\n",
        "    elif opinion == \"Somewhat High\":\n",
        "      df[\"opinion_h1n1_risk_score\"][index] = int(2)\n",
        "\n",
        "    elif opinion == \"Very High\":\n",
        "      df[\"opinion_h1n1_risk_score\"][index] = int(1)\n",
        "      \n",
        "    else:\n",
        "      df[\"opinion_h1n1_risk_score\"][index] = 0\n",
        "\n",
        "  return df"
      ],
      "metadata": {
        "id": "ItcE79ybJslr"
      },
      "execution_count": null,
      "outputs": []
    },
    {
      "cell_type": "code",
      "source": [
        "# 함수 실행\n",
        "risk(train_score)\n",
        "risk(test_score)"
      ],
      "metadata": {
        "id": "AQDLpu3UJyuC"
      },
      "execution_count": null,
      "outputs": []
    },
    {
      "cell_type": "code",
      "source": [
        "# 점수 변환 확인 - 훈련용\n",
        "train_score[\"opinion_h1n1_risk_score\"].value_counts()"
      ],
      "metadata": {
        "colab": {
          "base_uri": "https://localhost:8080/"
        },
        "id": "xoeDBOo3J4ym",
        "outputId": "1714e213-2a62-4c80-d064-0fecbd152732"
      },
      "execution_count": null,
      "outputs": [
        {
          "output_type": "execute_result",
          "data": {
            "text/plain": [
              "4    12520\n",
              "5    10331\n",
              "0     8901\n",
              "2     6765\n",
              "1     2156\n",
              "3     1481\n",
              "Name: opinion_h1n1_risk_score, dtype: int64"
            ]
          },
          "metadata": {},
          "execution_count": 33
        }
      ]
    },
    {
      "cell_type": "code",
      "source": [
        "# 점수 변환 확인 - 테스트용\n",
        "test_score[\"opinion_h1n1_risk_score\"].value_counts()"
      ],
      "metadata": {
        "colab": {
          "base_uri": "https://localhost:8080/"
        },
        "id": "IsycxFbLJ63g",
        "outputId": "487acc03-c38a-414c-b0f5-a17a06e88330"
      },
      "execution_count": null,
      "outputs": [
        {
          "output_type": "execute_result",
          "data": {
            "text/plain": [
              "4    8372\n",
              "5    6921\n",
              "0    5940\n",
              "2    4436\n",
              "1    1452\n",
              "3     983\n",
              "Name: opinion_h1n1_risk_score, dtype: int64"
            ]
          },
          "metadata": {},
          "execution_count": 34
        }
      ]
    },
    {
      "cell_type": "code",
      "source": [
        "# 3. opinion_h1n1_sick_from_vacc 컬럼을 수치로 바꾼다.\n",
        "\n",
        "\"\"\"\n",
        "H1N1백신 투여 후 질병에 걸릴 수도 있는 위험(= 부작용)에 대한 응답자의 생각\n",
        "\n",
        "Not at all worried\n",
        "Not very worried\n",
        "Don't know\n",
        "Somewhat worried\n",
        "Very worried\n",
        "\"\"\"\n",
        "\n",
        "train_score[\"opinion_h1n1_sick_from_vacc\"].value_counts()"
      ],
      "metadata": {
        "colab": {
          "base_uri": "https://localhost:8080/"
        },
        "id": "2NskN81uKM5m",
        "outputId": "a3747a1e-2c7d-43ee-c150-fb3cd9a7fc1e"
      },
      "execution_count": null,
      "outputs": [
        {
          "output_type": "execute_result",
          "data": {
            "text/plain": [
              "Not Very Worried      11582\n",
              "Not At All Worried    11253\n",
              "Somewhat Worried       7480\n",
              "Very Worried           2743\n",
              "Dont Know               196\n",
              "Refused                  31\n",
              "Name: opinion_h1n1_sick_from_vacc, dtype: int64"
            ]
          },
          "metadata": {},
          "execution_count": 35
        }
      ]
    },
    {
      "cell_type": "code",
      "source": [
        "train_cleaned_2[\"opinion_h1n1_sick_from_vacc\"].isnull().sum()"
      ],
      "metadata": {
        "colab": {
          "base_uri": "https://localhost:8080/"
        },
        "id": "oKSse1uoiyaY",
        "outputId": "6ba46538-b67c-4753-8236-3869c2c0110c"
      },
      "execution_count": null,
      "outputs": [
        {
          "output_type": "execute_result",
          "data": {
            "text/plain": [
              "8869"
            ]
          },
          "metadata": {},
          "execution_count": 38
        }
      ]
    },
    {
      "cell_type": "code",
      "source": [
        "# 함수 정의\n",
        "def sick_from_vacc(df):\n",
        "  df[\"opinion_h1n1_sick_from_vacc_score\"] = \"\"\n",
        "  \n",
        "  for index in range(len(df)):\n",
        "    opinion = df[\"opinion_h1n1_sick_from_vacc\"][index]\n",
        "    \n",
        "    if opinion == \"Not At All Worried\":\n",
        "      df[\"opinion_h1n1_sick_from_vacc_score\"][index] = int(5)\n",
        "\n",
        "    elif opinion == \"Not Very Worried\":\n",
        "      df[\"opinion_h1n1_sick_from_vacc_score\"][index] = int(4)\n",
        "\n",
        "    elif opinion == \"Dont Know\":\n",
        "      df[\"opinion_h1n1_sick_from_vacc_score\"][index] = int(3)\n",
        "\n",
        "    elif opinion == \"Somewhat Worried\":\n",
        "      df[\"opinion_h1n1_sick_from_vacc_score\"][index] = int(2)\n",
        "\n",
        "    elif opinion == \"Very Worried\":\n",
        "      df[\"opinion_h1n1_sick_from_vacc_score\"][index] = int(1)\n",
        "      \n",
        "    else:\n",
        "      df[\"opinion_h1n1_sick_from_vacc_score\"][index] = 0\n",
        "\n",
        "  return df"
      ],
      "metadata": {
        "id": "U5qdKDx1KPkg"
      },
      "execution_count": null,
      "outputs": []
    },
    {
      "cell_type": "code",
      "source": [
        "# 함수 실행\n",
        "sick_from_vacc(train_score)\n",
        "sick_from_vacc(test_score)"
      ],
      "metadata": {
        "id": "ZajCx39uKRBv"
      },
      "execution_count": null,
      "outputs": []
    },
    {
      "cell_type": "code",
      "source": [
        "# 점수 변환 확인 - 훈련용\n",
        "train_score[\"opinion_h1n1_sick_from_vacc_score\"].value_counts()"
      ],
      "metadata": {
        "colab": {
          "base_uri": "https://localhost:8080/"
        },
        "id": "SpQhj-kpKSqE",
        "outputId": "d5ef9fc3-bc48-4cad-cfd1-b0cd0b338d33"
      },
      "execution_count": null,
      "outputs": [
        {
          "output_type": "execute_result",
          "data": {
            "text/plain": [
              "4    11582\n",
              "5    11253\n",
              "0     8900\n",
              "2     7480\n",
              "1     2743\n",
              "3      196\n",
              "Name: opinion_h1n1_sick_from_vacc_score, dtype: int64"
            ]
          },
          "metadata": {},
          "execution_count": 40
        }
      ]
    },
    {
      "cell_type": "code",
      "source": [
        "# 점수 변환 확인 - 테스트용\n",
        "test_score[\"opinion_h1n1_sick_from_vacc_score\"].value_counts()"
      ],
      "metadata": {
        "colab": {
          "base_uri": "https://localhost:8080/"
        },
        "id": "bD4ntT_zKURX",
        "outputId": "cd8faa10-8595-4d3c-9af0-9c41a1041efe"
      },
      "execution_count": null,
      "outputs": [
        {
          "output_type": "execute_result",
          "data": {
            "text/plain": [
              "4    7693\n",
              "5    7618\n",
              "0    5946\n",
              "2    4920\n",
              "1    1799\n",
              "3     128\n",
              "Name: opinion_h1n1_sick_from_vacc_score, dtype: int64"
            ]
          },
          "metadata": {},
          "execution_count": 41
        }
      ]
    },
    {
      "cell_type": "code",
      "source": [
        "# opinion score를 합산 후 불필요한 컬럼 삭제 - 훈련용 데이터\n",
        "tmp = train_score.iloc[:, -3:].sum(axis=1)\n",
        "train_score[\"opinion_score\"] = \"\"\n",
        "\n",
        "for index in range(len(train_score)):\n",
        "  train_score[\"opinion_score\"][index] = tmp[index]"
      ],
      "metadata": {
        "id": "OUL_v0ViKVXW"
      },
      "execution_count": null,
      "outputs": []
    },
    {
      "cell_type": "code",
      "source": [
        "# 확인\n",
        "train_score[\"opinion_score\"].value_counts()"
      ],
      "metadata": {
        "colab": {
          "base_uri": "https://localhost:8080/"
        },
        "id": "DeL03Y01KZ-I",
        "outputId": "943137d3-77cf-408e-8d6d-1ae38e9c9213"
      },
      "execution_count": null,
      "outputs": [
        {
          "output_type": "execute_result",
          "data": {
            "text/plain": [
              "0.0     8786\n",
              "12.0    5961\n",
              "13.0    5553\n",
              "11.0    4953\n",
              "10.0    4557\n",
              "14.0    3664\n",
              "8.0     2849\n",
              "9.0     2530\n",
              "7.0     1519\n",
              "15.0    1030\n",
              "6.0      461\n",
              "5.0      180\n",
              "4.0       64\n",
              "3.0       33\n",
              "2.0        8\n",
              "1.0        6\n",
              "Name: opinion_score, dtype: int64"
            ]
          },
          "metadata": {},
          "execution_count": 43
        }
      ]
    },
    {
      "cell_type": "code",
      "source": [
        "# opinion score를 합산 후 불필요한 컬럼 삭제 - 테스트용 데이터\n",
        "tmp = test_score.iloc[:, -3:].sum(axis=1)\n",
        "test_score[\"opinion_score\"] = \"\"\n",
        "\n",
        "for index in range(len(test_score)):\n",
        "  test_score[\"opinion_score\"][index] = tmp[index]"
      ],
      "metadata": {
        "id": "moTgqYhhKby1"
      },
      "execution_count": null,
      "outputs": []
    },
    {
      "cell_type": "code",
      "source": [
        "# 확인\n",
        "test_score[\"opinion_score\"].value_counts()"
      ],
      "metadata": {
        "colab": {
          "base_uri": "https://localhost:8080/"
        },
        "id": "oOi2GNQ2KeyO",
        "outputId": "d28d56d1-ac04-41f2-8a24-dbc19b7d7e86"
      },
      "execution_count": null,
      "outputs": [
        {
          "output_type": "execute_result",
          "data": {
            "text/plain": [
              "0.0     5865\n",
              "12.0    4133\n",
              "13.0    3619\n",
              "11.0    3309\n",
              "10.0    2924\n",
              "14.0    2485\n",
              "8.0     1892\n",
              "9.0     1620\n",
              "7.0     1007\n",
              "15.0     709\n",
              "6.0      331\n",
              "5.0      121\n",
              "4.0       51\n",
              "3.0       29\n",
              "1.0        6\n",
              "2.0        3\n",
              "Name: opinion_score, dtype: int64"
            ]
          },
          "metadata": {},
          "execution_count": 45
        }
      ]
    },
    {
      "cell_type": "code",
      "source": [
        "# 불필요한 컬럼 삭제\n",
        "drop = [\"opinion_h1n1_vacc_effective_score\",\"opinion_h1n1_risk_score\",\"opinion_h1n1_sick_from_vacc_score\"]\n",
        "\n",
        "train_final = train_score.drop(drop,axis=1)\n",
        "test_final = test_score.drop(drop,axis=1)"
      ],
      "metadata": {
        "id": "XNtz52DhKf-9"
      },
      "execution_count": null,
      "outputs": []
    },
    {
      "cell_type": "code",
      "source": [
        "# 데이터 셋 나누기\n",
        "# 1. train, validation, test 3종류로 나누기\n",
        "# 2. 각각의 데이터 셋을 features와 target으로 나누기\n",
        "train_target = train_final[target]\n",
        "train_features = train_final.drop(target, axis=1)\n",
        "\n",
        "\n",
        "X_train, X_val, y_train, y_val = train_test_split(train_features, train_target, test_size=0.2, random_state = 0)\n",
        "\n",
        "X_test = test_final"
      ],
      "metadata": {
        "id": "ZmoXv1AXKiX0"
      },
      "execution_count": null,
      "outputs": []
    },
    {
      "cell_type": "code",
      "source": [
        "# 최종 데이터 셋 확인\n",
        "print(\"훈련용 데이터셋:\", X_train.shape, y_train.shape)\n",
        "print(\"검증용 데이터셋:\", X_val.shape, y_val.shape)\n",
        "print(\"테스트용 데이터셋:\", X_test.shape)"
      ],
      "metadata": {
        "colab": {
          "base_uri": "https://localhost:8080/"
        },
        "id": "y0dNluc6KqcF",
        "outputId": "b58e9f76-1246-4e88-b6fa-d73388ce9201"
      },
      "execution_count": null,
      "outputs": [
        {
          "output_type": "stream",
          "name": "stdout",
          "text": [
            "훈련용 데이터셋: (33723, 34) (33723,)\n",
            "검증용 데이터셋: (8431, 34) (8431,)\n",
            "테스트용 데이터셋: (28104, 34)\n"
          ]
        }
      ]
    },
    {
      "cell_type": "markdown",
      "source": [
        "## **Part 2. 기준모델**\n",
        "- H1N1 분류기의 기준모델을 생성하세요. "
      ],
      "metadata": {
        "id": "OHTeVZ1gVzxQ"
      }
    },
    {
      "cell_type": "markdown",
      "source": [
        "##### **Q1. 기준모델의 정확도를 반올림하여 소수점 둘째 자리까지 제출해 주세요.**"
      ],
      "metadata": {
        "id": "_oF-hlqJ9l4t"
      }
    },
    {
      "cell_type": "code",
      "source": [
        "# H1N1 기준모델 생성\n",
        "y_train.value_counts()"
      ],
      "metadata": {
        "colab": {
          "base_uri": "https://localhost:8080/"
        },
        "id": "enmcGSoOKxWv",
        "outputId": "59b8bafd-5d49-4ef3-8c96-dcdb627bf005"
      },
      "execution_count": null,
      "outputs": [
        {
          "output_type": "execute_result",
          "data": {
            "text/plain": [
              "0    25742\n",
              "1     7981\n",
              "Name: vacc_h1n1_f, dtype: int64"
            ]
          },
          "metadata": {},
          "execution_count": 49
        }
      ]
    },
    {
      "cell_type": "code",
      "source": [
        "%matplotlib inline\n",
        "sns.countplot(x=y_train);"
      ],
      "metadata": {
        "colab": {
          "base_uri": "https://localhost:8080/",
          "height": 280
        },
        "id": "NVQXON1MTZRe",
        "outputId": "3895d94e-55d0-444d-8cc9-56135df7dced"
      },
      "execution_count": null,
      "outputs": [
        {
          "output_type": "display_data",
          "data": {
            "text/plain": [
              "<Figure size 432x288 with 1 Axes>"
            ],
            "image/png": "[encoded data removed]"
          },
          "metadata": {
            "needs_background": "light"
          }
        }
      ]
    },
    {
      "cell_type": "code",
      "source": [
        "# mode(): Return the highest frequency value in a Series.\n",
        "major = y_train.mode()[0]\n",
        "\n",
        "# 타겟 샘플 수만큼 0이 담긴 리스트를 만듭니다. -> 기준모델로 예측\n",
        "basic_model = [major] * len(y_train)"
      ],
      "metadata": {
        "id": "IUd4qQ-1TbSc"
      },
      "execution_count": null,
      "outputs": []
    },
    {
      "cell_type": "code",
      "source": [
        "# 기준모델의 정확도\n",
        "print(\"training accuracy: \", accuracy_score(y_train, basic_model))"
      ],
      "metadata": {
        "colab": {
          "base_uri": "https://localhost:8080/"
        },
        "id": "4QPCVo4kTf4z",
        "outputId": "bbdf4357-f250-4438-ba05-88b5afca0b87"
      },
      "execution_count": null,
      "outputs": [
        {
          "output_type": "stream",
          "name": "stdout",
          "text": [
            "training accuracy:  0.7633365952020876\n"
          ]
        }
      ]
    },
    {
      "cell_type": "markdown",
      "source": [
        "## **Part 3. Decision Trees**\n",
        "- 파이프라인을 사용하여 결정트리를 학습시키세요. \n",
        "  - `random_state=2`로 설정합니다. \n",
        "  - 하이퍼파라미터를 조정하여 모델의 성능을 높여 보세요. \n",
        "  - 과적합에 주의하세요!\n",
        "- 검증세트 스코어를 확인하세요.\n",
        "  - 평가지표는 F1-score입니다. \n",
        "  - 수식은 캐글 Overview-Evaluation 페이지를 확인해 주세요. 평가지표에 대한 내용은 다음에 자세히 배우고 활용할 것입니다. 지금은 스코어를 올리기 위한 노력을 전혀 기울이지 말고 결정트리의 개념과 코드 이해, 사용에 집중하세요!\n",
        "- 특성중요도를 그래프로 나타내 보세요."
      ],
      "metadata": {
        "id": "M7drMByI8Lih"
      }
    },
    {
      "cell_type": "markdown",
      "source": [
        "##### **Q2. 검증세트의 F1-score를 반올림하여 소수점 둘째 자리까지 제출해 주세요. (0.5 이상 통과)**"
      ],
      "metadata": {
        "id": "KHFXZurXUQN7"
      }
    },
    {
      "cell_type": "code",
      "source": [
        "# 시도 1.\n",
        "pipe = make_pipeline(\n",
        "    OneHotEncoder(use_cat_names=True),  \n",
        "    SimpleImputer(), \n",
        "    DecisionTreeClassifier(random_state=2, criterion='entropy') \n",
        ")\n",
        "\n",
        "# 모델 훈련\n",
        "pipe.fit(X_train, y_train)\n",
        "print('훈련 정확도: ', pipe.score(X_train, y_train))\n",
        "print('검증 정확도: ', pipe.score(X_val, y_val))\n",
        "\n",
        "# 검증세트로 평가\n",
        "y_pred = pipe.predict(X_val)\n",
        "print('검증 f1: ', f1_score(y_val, y_pred))"
      ],
      "metadata": {
        "colab": {
          "base_uri": "https://localhost:8080/"
        },
        "id": "ugURHcdJTmcL",
        "outputId": "3722b9ab-de2f-4ca4-dad0-c1aad6e13a92"
      },
      "execution_count": null,
      "outputs": [
        {
          "output_type": "stream",
          "name": "stdout",
          "text": [
            "훈련 정확도:  0.9919639415235892\n",
            "검증 정확도:  0.7598149685683786\n",
            "검증 f1:  0.5154343144292893\n"
          ]
        }
      ]
    },
    {
      "cell_type": "code",
      "source": [
        "# 시도 2.\n",
        "pipe = make_pipeline(\n",
        "    OneHotEncoder(use_cat_names=True), \n",
        "    SimpleImputer(), \n",
        "    DecisionTreeClassifier(max_depth=4, random_state=2, criterion='entropy')\n",
        ")\n",
        "\n",
        "# 모델 훈련\n",
        "pipe.fit(X_train, y_train)\n",
        "print('훈련 정확도: ', pipe.score(X_train, y_train))\n",
        "print('검증 정확도: ', pipe.score(X_val, y_val))\n",
        "\n",
        "# 검증세트로 평가\n",
        "y_pred = pipe.predict(X_val)\n",
        "print('검증 f1: ', f1_score(y_val, y_pred))"
      ],
      "metadata": {
        "colab": {
          "base_uri": "https://localhost:8080/"
        },
        "id": "tNCcds6uUW0J",
        "outputId": "b10fa91e-18f2-4e19-85dc-a0221c2a8f5b"
      },
      "execution_count": null,
      "outputs": [
        {
          "output_type": "stream",
          "name": "stdout",
          "text": [
            "훈련 정확도:  0.8200634581739465\n",
            "검증 정확도:  0.8200687937373977\n",
            "검증 f1:  0.5451274362818591\n"
          ]
        }
      ]
    },
    {
      "cell_type": "code",
      "source": [
        "# named_steps으로 특성 중요도 확인\n",
        "enc = pipe.named_steps['onehotencoder']\n",
        "encoded_columns = enc.transform(X_val).columns\n",
        "\n",
        "model_dt = pipe.named_steps['decisiontreeclassifier']\n",
        "\n",
        "importances = pd.Series(model_dt.feature_importances_, encoded_columns)\n",
        "plt.figure(figsize=(10,30))\n",
        "importances.sort_values().plot.barh();"
      ],
      "metadata": {
        "colab": {
          "base_uri": "https://localhost:8080/",
          "height": 1000
        },
        "id": "Tog9FXJiUbho",
        "outputId": "123af96a-7534-4297-c3a6-5ebd8fd64512"
      },
      "execution_count": null,
      "outputs": [
        {
          "output_type": "display_data",
          "data": {
            "text/plain": [
              "<Figure size 720x2160 with 1 Axes>"
            ],
            "image/png": "[encoded data removed]"
          },
          "metadata": {
            "needs_background": "light"
          }
        }
      ]
    },
    {
      "cell_type": "markdown",
      "source": [
        "## **Part 4. Random Forests**\n",
        "- 파이프라인을 사용하여 랜덤포레스트를 학습시키세요. \n",
        "  - Ordinal Encoding을 적용합니다. \n",
        "  - 랜덤포레스트가 결정트리보다 성능이 오히려 떨어졌을 수도 있습니다! 만약 그렇다면 이유를 본인 논리로 분석해 보세요.\n",
        "- 검증세트 스코어를 확인하세요.\n",
        "  - 평가지표는 F1-score입니다."
      ],
      "metadata": {
        "id": "2FxkAiZdVVmp"
      }
    },
    {
      "cell_type": "markdown",
      "source": [
        "##### **Q3. (객관식) 다음 특성들 중에 순서를 고려한 Ordinal Encoding이 필요해 보이는 특성을 선택하여 제출해 주세요.**\n",
        "    1. opinion_h1n1_vacc_effective\n",
        "    2. state\n",
        "    3. marital\n",
        "    4. employment_occupation"
      ],
      "metadata": {
        "id": "n7hQc95CZiOl"
      }
    },
    {
      "cell_type": "markdown",
      "source": [
        "##### **Q4. 검증세트의 F1-score를 반올림하여 소수점 둘째 자리까지 제출해 주세요.**"
      ],
      "metadata": {
        "id": "JUFrUixhZGdD"
      }
    },
    {
      "cell_type": "code",
      "source": [
        "# 모든 특성을 일괄적으로 OrdinalEncoding\n",
        "\n",
        "pipe1 = make_pipeline(\n",
        "    OrdinalEncoder(), \n",
        "    SimpleImputer(), \n",
        "    RandomForestClassifier(n_jobs=-1, random_state=10, oob_score=True)\n",
        ")\n",
        "\n",
        "pipe1.fit(X_train, y_train)\n",
        "print('검증 정확도: ', pipe1.score(X_val, y_val))\n",
        "\n",
        "y_pred1 = pipe1.predict(X_val)\n",
        "print('검증 f1: ', f1_score(y_val, y_pred1))"
      ],
      "metadata": {
        "colab": {
          "base_uri": "https://localhost:8080/"
        },
        "id": "pimwJcksZ6ak",
        "outputId": "94ab04de-f04d-4716-97c1-febe155c2c78"
      },
      "execution_count": null,
      "outputs": [
        {
          "output_type": "stream",
          "name": "stdout",
          "text": [
            "검증 정확도:  0.8182896453564227\n",
            "검증 f1:  0.5467455621301774\n"
          ]
        }
      ]
    },
    {
      "cell_type": "markdown",
      "source": [
        "## **Part 5. 결과 제출**\n",
        "- 결과가 가장 좋았던 모델을 사용하여 테스트셋에 대한 예측 결과를 캐글에 제출하세요.\n",
        "  - 스코어가 많이 낮게 나와도 트리기반 모델을 잘 이해하고 결과를 내었다면 충분합니다!"
      ],
      "metadata": {
        "id": "xyAuUpPdWKSn"
      }
    },
    {
      "cell_type": "markdown",
      "source": [
        "##### **Q5. 캐글 Leaderboard의 본인 score를 제출해 주세요.**"
      ],
      "metadata": {
        "id": "JYZaXL54b2OU"
      }
    },
    {
      "cell_type": "code",
      "source": [
        "# csv 파일 저장을 위한 구글 드라이브 마운트\n",
        "from google.colab import drive\n",
        "drive.mount('/content/drive')"
      ],
      "metadata": {
        "id": "vGtNpvBMcNiA"
      },
      "execution_count": null,
      "outputs": []
    },
    {
      "cell_type": "code",
      "source": [
        "# test 데이터의 feature를 사용하여 예측값 도출\n",
        "y_pred_test = pipe2.predict(X_test)"
      ],
      "metadata": {
        "id": "DmFBbE8rcO0V"
      },
      "execution_count": null,
      "outputs": []
    },
    {
      "cell_type": "code",
      "source": [
        "sample_submission"
      ],
      "metadata": {
        "colab": {
          "base_uri": "https://localhost:8080/",
          "height": 423
        },
        "id": "rUD7ypfdW37k",
        "outputId": "063c272b-30b3-4043-ef8d-24d63aea4bd1"
      },
      "execution_count": null,
      "outputs": [
        {
          "output_type": "execute_result",
          "data": {
            "text/plain": [
              "          Id  vacc_h1n1_f\n",
              "0          0            0\n",
              "1          1            1\n",
              "2          2            1\n",
              "3          3            1\n",
              "4          4            0\n",
              "...      ...          ...\n",
              "28099  28099            0\n",
              "28100  28100            1\n",
              "28101  28101            1\n",
              "28102  28102            0\n",
              "28103  28103            0\n",
              "\n",
              "[28104 rows x 2 columns]"
            ],
            "text/html": [
              "\n",
              "  <div id=\"df-de2b0bb0-57f5-45e9-bf97-a37b6c0248ed\">\n",
              "    <div class=\"colab-df-container\">\n",
              "      <div>\n",
              "<style scoped>\n",
              "    .dataframe tbody tr th:only-of-type {\n",
              "        vertical-align: middle;\n",
              "    }\n",
              "\n",
              "    .dataframe tbody tr th {\n",
              "        vertical-align: top;\n",
              "    }\n",
              "\n",
              "    .dataframe thead th {\n",
              "        text-align: right;\n",
              "    }\n",
              "</style>\n",
              "<table border=\"1\" class=\"dataframe\">\n",
              "  <thead>\n",
              "    <tr style=\"text-align: right;\">\n",
              "      <th></th>\n",
              "      <th>Id</th>\n",
              "      <th>vacc_h1n1_f</th>\n",
              "    </tr>\n",
              "  </thead>\n",
              "  <tbody>\n",
              "    <tr>\n",
              "      <th>0</th>\n",
              "      <td>0</td>\n",
              "      <td>0</td>\n",
              "    </tr>\n",
              "    <tr>\n",
              "      <th>1</th>\n",
              "      <td>1</td>\n",
              "      <td>1</td>\n",
              "    </tr>\n",
              "    <tr>\n",
              "      <th>2</th>\n",
              "      <td>2</td>\n",
              "      <td>1</td>\n",
              "    </tr>\n",
              "    <tr>\n",
              "      <th>3</th>\n",
              "      <td>3</td>\n",
              "      <td>1</td>\n",
              "    </tr>\n",
              "    <tr>\n",
              "      <th>4</th>\n",
              "      <td>4</td>\n",
              "      <td>0</td>\n",
              "    </tr>\n",
              "    <tr>\n",
              "      <th>...</th>\n",
              "      <td>...</td>\n",
              "      <td>...</td>\n",
              "    </tr>\n",
              "    <tr>\n",
              "      <th>28099</th>\n",
              "      <td>28099</td>\n",
              "      <td>0</td>\n",
              "    </tr>\n",
              "    <tr>\n",
              "      <th>28100</th>\n",
              "      <td>28100</td>\n",
              "      <td>1</td>\n",
              "    </tr>\n",
              "    <tr>\n",
              "      <th>28101</th>\n",
              "      <td>28101</td>\n",
              "      <td>1</td>\n",
              "    </tr>\n",
              "    <tr>\n",
              "      <th>28102</th>\n",
              "      <td>28102</td>\n",
              "      <td>0</td>\n",
              "    </tr>\n",
              "    <tr>\n",
              "      <th>28103</th>\n",
              "      <td>28103</td>\n",
              "      <td>0</td>\n",
              "    </tr>\n",
              "  </tbody>\n",
              "</table>\n",
              "<p>28104 rows × 2 columns</p>\n",
              "</div>\n",
              "      <button class=\"colab-df-convert\" onclick=\"convertToInteractive('df-de2b0bb0-57f5-45e9-bf97-a37b6c0248ed')\"\n",
              "              title=\"Convert this dataframe to an interactive table.\"\n",
              "              style=\"display:none;\">\n",
              "        \n",
              "  <svg xmlns=\"http://www.w3.org/2000/svg\" height=\"24px\"viewBox=\"0 0 24 24\"\n",
              "       width=\"24px\">\n",
              "    <path d=\"M0 0h24v24H0V0z\" fill=\"none\"/>\n",
              "    <path d=\"M18.56 5.44l.94 2.06.94-2.06 2.06-.94-2.06-.94-.94-2.06-.94 2.06-2.06.94zm-11 1L8.5 8.5l.94-2.06 2.06-.94-2.06-.94L8.5 2.5l-.94 2.06-2.06.94zm10 10l.94 2.06.94-2.06 2.06-.94-2.06-.94-.94-2.06-.94 2.06-2.06.94z\"/><path d=\"M17.41 7.96l-1.37-1.37c-.4-.4-.92-.59-1.43-.59-.52 0-1.04.2-1.43.59L10.3 9.45l-7.72 7.72c-.78.78-.78 2.05 0 2.83L4 21.41c.39.39.9.59 1.41.59.51 0 1.02-.2 1.41-.59l7.78-7.78 2.81-2.81c.8-.78.8-2.07 0-2.86zM5.41 20L4 18.59l7.72-7.72 1.47 1.35L5.41 20z\"/>\n",
              "  </svg>\n",
              "      </button>\n",
              "      \n",
              "  <style>\n",
              "    .colab-df-container {\n",
              "      display:flex;\n",
              "      flex-wrap:wrap;\n",
              "      gap: 12px;\n",
              "    }\n",
              "\n",
              "    .colab-df-convert {\n",
              "      background-color: #E8F0FE;\n",
              "      border: none;\n",
              "      border-radius: 50%;\n",
              "      cursor: pointer;\n",
              "      display: none;\n",
              "      fill: #1967D2;\n",
              "      height: 32px;\n",
              "      padding: 0 0 0 0;\n",
              "      width: 32px;\n",
              "    }\n",
              "\n",
              "    .colab-df-convert:hover {\n",
              "      background-color: #E2EBFA;\n",
              "      box-shadow: 0px 1px 2px rgba(60, 64, 67, 0.3), 0px 1px 3px 1px rgba(60, 64, 67, 0.15);\n",
              "      fill: #174EA6;\n",
              "    }\n",
              "\n",
              "    [theme=dark] .colab-df-convert {\n",
              "      background-color: #3B4455;\n",
              "      fill: #D2E3FC;\n",
              "    }\n",
              "\n",
              "    [theme=dark] .colab-df-convert:hover {\n",
              "      background-color: #434B5C;\n",
              "      box-shadow: 0px 1px 3px 1px rgba(0, 0, 0, 0.15);\n",
              "      filter: drop-shadow(0px 1px 2px rgba(0, 0, 0, 0.3));\n",
              "      fill: #FFFFFF;\n",
              "    }\n",
              "  </style>\n",
              "\n",
              "      <script>\n",
              "        const buttonEl =\n",
              "          document.querySelector('#df-de2b0bb0-57f5-45e9-bf97-a37b6c0248ed button.colab-df-convert');\n",
              "        buttonEl.style.display =\n",
              "          google.colab.kernel.accessAllowed ? 'block' : 'none';\n",
              "\n",
              "        async function convertToInteractive(key) {\n",
              "          const element = document.querySelector('#df-de2b0bb0-57f5-45e9-bf97-a37b6c0248ed');\n",
              "          const dataTable =\n",
              "            await google.colab.kernel.invokeFunction('convertToInteractive',\n",
              "                                                     [key], {});\n",
              "          if (!dataTable) return;\n",
              "\n",
              "          const docLinkHtml = 'Like what you see? Visit the ' +\n",
              "            '<a target=\"_blank\" href=https://colab.research.google.com/notebooks/data_table.ipynb>data table notebook</a>'\n",
              "            + ' to learn more about interactive tables.';\n",
              "          element.innerHTML = '';\n",
              "          dataTable['output_type'] = 'display_data';\n",
              "          await google.colab.output.renderOutput(dataTable, element);\n",
              "          const docLink = document.createElement('div');\n",
              "          docLink.innerHTML = docLinkHtml;\n",
              "          element.appendChild(docLink);\n",
              "        }\n",
              "      </script>\n",
              "    </div>\n",
              "  </div>\n",
              "  "
            ]
          },
          "metadata": {},
          "execution_count": 70
        }
      ]
    },
    {
      "cell_type": "code",
      "source": [
        "# 예측값을 제출 form에 저장 \n",
        "sample_submission[target] = y_pred_test\n",
        "sample_submission "
      ],
      "metadata": {
        "colab": {
          "base_uri": "https://localhost:8080/",
          "height": 423
        },
        "id": "THcQiktWcQNo",
        "outputId": "afd143e2-8ee6-41c8-f2aa-d2c31656e97a"
      },
      "execution_count": null,
      "outputs": [
        {
          "output_type": "execute_result",
          "data": {
            "text/plain": [
              "          Id  vacc_h1n1_f\n",
              "0          0            0\n",
              "1          1            0\n",
              "2          2            0\n",
              "3          3            0\n",
              "4          4            0\n",
              "...      ...          ...\n",
              "28099  28099            0\n",
              "28100  28100            0\n",
              "28101  28101            0\n",
              "28102  28102            0\n",
              "28103  28103            0\n",
              "\n",
              "[28104 rows x 2 columns]"
            ],
            "text/html": [
              "\n",
              "  <div id=\"df-02eafa0f-01e9-4a9c-8994-cfd0dfa02127\">\n",
              "    <div class=\"colab-df-container\">\n",
              "      <div>\n",
              "<style scoped>\n",
              "    .dataframe tbody tr th:only-of-type {\n",
              "        vertical-align: middle;\n",
              "    }\n",
              "\n",
              "    .dataframe tbody tr th {\n",
              "        vertical-align: top;\n",
              "    }\n",
              "\n",
              "    .dataframe thead th {\n",
              "        text-align: right;\n",
              "    }\n",
              "</style>\n",
              "<table border=\"1\" class=\"dataframe\">\n",
              "  <thead>\n",
              "    <tr style=\"text-align: right;\">\n",
              "      <th></th>\n",
              "      <th>Id</th>\n",
              "      <th>vacc_h1n1_f</th>\n",
              "    </tr>\n",
              "  </thead>\n",
              "  <tbody>\n",
              "    <tr>\n",
              "      <th>0</th>\n",
              "      <td>0</td>\n",
              "      <td>0</td>\n",
              "    </tr>\n",
              "    <tr>\n",
              "      <th>1</th>\n",
              "      <td>1</td>\n",
              "      <td>0</td>\n",
              "    </tr>\n",
              "    <tr>\n",
              "      <th>2</th>\n",
              "      <td>2</td>\n",
              "      <td>0</td>\n",
              "    </tr>\n",
              "    <tr>\n",
              "      <th>3</th>\n",
              "      <td>3</td>\n",
              "      <td>0</td>\n",
              "    </tr>\n",
              "    <tr>\n",
              "      <th>4</th>\n",
              "      <td>4</td>\n",
              "      <td>0</td>\n",
              "    </tr>\n",
              "    <tr>\n",
              "      <th>...</th>\n",
              "      <td>...</td>\n",
              "      <td>...</td>\n",
              "    </tr>\n",
              "    <tr>\n",
              "      <th>28099</th>\n",
              "      <td>28099</td>\n",
              "      <td>0</td>\n",
              "    </tr>\n",
              "    <tr>\n",
              "      <th>28100</th>\n",
              "      <td>28100</td>\n",
              "      <td>0</td>\n",
              "    </tr>\n",
              "    <tr>\n",
              "      <th>28101</th>\n",
              "      <td>28101</td>\n",
              "      <td>0</td>\n",
              "    </tr>\n",
              "    <tr>\n",
              "      <th>28102</th>\n",
              "      <td>28102</td>\n",
              "      <td>0</td>\n",
              "    </tr>\n",
              "    <tr>\n",
              "      <th>28103</th>\n",
              "      <td>28103</td>\n",
              "      <td>0</td>\n",
              "    </tr>\n",
              "  </tbody>\n",
              "</table>\n",
              "<p>28104 rows × 2 columns</p>\n",
              "</div>\n",
              "      <button class=\"colab-df-convert\" onclick=\"convertToInteractive('df-02eafa0f-01e9-4a9c-8994-cfd0dfa02127')\"\n",
              "              title=\"Convert this dataframe to an interactive table.\"\n",
              "              style=\"display:none;\">\n",
              "        \n",
              "  <svg xmlns=\"http://www.w3.org/2000/svg\" height=\"24px\"viewBox=\"0 0 24 24\"\n",
              "       width=\"24px\">\n",
              "    <path d=\"M0 0h24v24H0V0z\" fill=\"none\"/>\n",
              "    <path d=\"M18.56 5.44l.94 2.06.94-2.06 2.06-.94-2.06-.94-.94-2.06-.94 2.06-2.06.94zm-11 1L8.5 8.5l.94-2.06 2.06-.94-2.06-.94L8.5 2.5l-.94 2.06-2.06.94zm10 10l.94 2.06.94-2.06 2.06-.94-2.06-.94-.94-2.06-.94 2.06-2.06.94z\"/><path d=\"M17.41 7.96l-1.37-1.37c-.4-.4-.92-.59-1.43-.59-.52 0-1.04.2-1.43.59L10.3 9.45l-7.72 7.72c-.78.78-.78 2.05 0 2.83L4 21.41c.39.39.9.59 1.41.59.51 0 1.02-.2 1.41-.59l7.78-7.78 2.81-2.81c.8-.78.8-2.07 0-2.86zM5.41 20L4 18.59l7.72-7.72 1.47 1.35L5.41 20z\"/>\n",
              "  </svg>\n",
              "      </button>\n",
              "      \n",
              "  <style>\n",
              "    .colab-df-container {\n",
              "      display:flex;\n",
              "      flex-wrap:wrap;\n",
              "      gap: 12px;\n",
              "    }\n",
              "\n",
              "    .colab-df-convert {\n",
              "      background-color: #E8F0FE;\n",
              "      border: none;\n",
              "      border-radius: 50%;\n",
              "      cursor: pointer;\n",
              "      display: none;\n",
              "      fill: #1967D2;\n",
              "      height: 32px;\n",
              "      padding: 0 0 0 0;\n",
              "      width: 32px;\n",
              "    }\n",
              "\n",
              "    .colab-df-convert:hover {\n",
              "      background-color: #E2EBFA;\n",
              "      box-shadow: 0px 1px 2px rgba(60, 64, 67, 0.3), 0px 1px 3px 1px rgba(60, 64, 67, 0.15);\n",
              "      fill: #174EA6;\n",
              "    }\n",
              "\n",
              "    [theme=dark] .colab-df-convert {\n",
              "      background-color: #3B4455;\n",
              "      fill: #D2E3FC;\n",
              "    }\n",
              "\n",
              "    [theme=dark] .colab-df-convert:hover {\n",
              "      background-color: #434B5C;\n",
              "      box-shadow: 0px 1px 3px 1px rgba(0, 0, 0, 0.15);\n",
              "      filter: drop-shadow(0px 1px 2px rgba(0, 0, 0, 0.3));\n",
              "      fill: #FFFFFF;\n",
              "    }\n",
              "  </style>\n",
              "\n",
              "      <script>\n",
              "        const buttonEl =\n",
              "          document.querySelector('#df-02eafa0f-01e9-4a9c-8994-cfd0dfa02127 button.colab-df-convert');\n",
              "        buttonEl.style.display =\n",
              "          google.colab.kernel.accessAllowed ? 'block' : 'none';\n",
              "\n",
              "        async function convertToInteractive(key) {\n",
              "          const element = document.querySelector('#df-02eafa0f-01e9-4a9c-8994-cfd0dfa02127');\n",
              "          const dataTable =\n",
              "            await google.colab.kernel.invokeFunction('convertToInteractive',\n",
              "                                                     [key], {});\n",
              "          if (!dataTable) return;\n",
              "\n",
              "          const docLinkHtml = 'Like what you see? Visit the ' +\n",
              "            '<a target=\"_blank\" href=https://colab.research.google.com/notebooks/data_table.ipynb>data table notebook</a>'\n",
              "            + ' to learn more about interactive tables.';\n",
              "          element.innerHTML = '';\n",
              "          dataTable['output_type'] = 'display_data';\n",
              "          await google.colab.output.renderOutput(dataTable, element);\n",
              "          const docLink = document.createElement('div');\n",
              "          docLink.innerHTML = docLinkHtml;\n",
              "          element.appendChild(docLink);\n",
              "        }\n",
              "      </script>\n",
              "    </div>\n",
              "  </div>\n",
              "  "
            ]
          },
          "metadata": {},
          "execution_count": 71
        }
      ]
    },
    {
      "cell_type": "code",
      "source": [
        "# 개수 확인 (예측값에서 0, 1 개수 확인)\n",
        "(y_pred_test == 0).sum(), (y_pred_test == 1).sum()"
      ],
      "metadata": {
        "colab": {
          "base_uri": "https://localhost:8080/"
        },
        "id": "1BqsYKmdcUE1",
        "outputId": "2a4d930e-b817-4be4-8a6a-81b6d3d61177"
      },
      "execution_count": null,
      "outputs": [
        {
          "output_type": "execute_result",
          "data": {
            "text/plain": [
              "(24114, 3990)"
            ]
          },
          "metadata": {},
          "execution_count": 72
        }
      ]
    },
    {
      "cell_type": "code",
      "source": [
        "# 개수 확인 (제출폼 데이터프레임에서 0, 1 개수 확인)\n",
        "sample_submission[target].value_counts()"
      ],
      "metadata": {
        "colab": {
          "base_uri": "https://localhost:8080/"
        },
        "id": "8bpeKaIncdrV",
        "outputId": "175966a4-3eb4-4604-eeaf-a52c46d95513"
      },
      "execution_count": null,
      "outputs": [
        {
          "output_type": "execute_result",
          "data": {
            "text/plain": [
              "0    24114\n",
              "1     3990\n",
              "Name: vacc_h1n1_f, dtype: int64"
            ]
          },
          "metadata": {},
          "execution_count": 73
        }
      ]
    },
    {
      "cell_type": "code",
      "source": [
        "# 저장\n",
        "sample_submission.to_csv(\"/content/drive/MyDrive/ds-cs-section2-sprint2-master/n221-decision-trees/submission_dana.csv\", index = False)"
      ],
      "metadata": {
        "id": "GFLQJA3RczJC"
      },
      "execution_count": null,
      "outputs": []
    },
    {
      "cell_type": "markdown",
      "source": [
        "# 🥇 **도전 과제**"
      ],
      "metadata": {
        "id": "aOS9DPWKche6"
      }
    },
    {
      "cell_type": "markdown",
      "source": [
        "## **Part 6. Encoding**\n",
        "- 랜덤포레스트에서 OneHot Encoding과 Ordinal Encoding을 각각 적용해 보고, 학습 수행시간의 차이를 비교해 보세요. "
      ],
      "metadata": {
        "id": "brrfPdM-9ZEx"
      }
    },
    {
      "cell_type": "code",
      "source": [],
      "metadata": {
        "id": "ERHJNb1VOiJw"
      },
      "execution_count": null,
      "outputs": []
    },
    {
      "cell_type": "markdown",
      "source": [
        "## **Part 7. 모델 성능 향상**\n",
        "- \b랜덤포레스트의 하이퍼파라미터를 조정하여 성능을 향상시키세요. \n",
        "  - F1-score 0.58 이상을 달성해 보세요!"
      ],
      "metadata": {
        "id": "A-0LT_eOSbje"
      }
    },
    {
      "cell_type": "code",
      "source": [],
      "metadata": {
        "id": "j-j-zo4QOgGN"
      },
      "execution_count": null,
      "outputs": []
    }
  ]
}