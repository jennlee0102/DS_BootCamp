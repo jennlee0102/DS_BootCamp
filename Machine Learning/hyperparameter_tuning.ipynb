{
  "cells": [
    {
      "cell_type": "markdown",
      "metadata": {
        "id": "eKz7lIFFHrXl"
      },
      "source": [
        "<img align=\"right\" src=\"https://ds-cs-images.s3.ap-northeast-2.amazonaws.com/Codestates_Fulllogo_Color.png\" width=100>\n",
        "\n",
        "## *AIB / SECTION 2 / SPRINT 2 / NOTE 4*\n",
        "\n",
        "# 📝 Assignment\n",
        "---"
      ]
    },
    {
      "cell_type": "markdown",
      "metadata": {
        "id": "dFyZMljNIULR"
      },
      "source": [
        "# 🌱 **기본 과제**\n",
        "\n",
        "캐글 대회를 이어서 진행합니다. "
      ]
    },
    {
      "cell_type": "code",
      "execution_count": null,
      "metadata": {
        "id": "FL6EjgRf996I"
      },
      "outputs": [],
      "source": [
        "!pip install category_encoders\n",
        "!pip install hyperopt"
      ]
    },
    {
      "cell_type": "markdown",
      "metadata": {
        "id": "qcGfRqz2IbQ8"
      },
      "source": [
        "## **Part 1. EDA 및 Feature Engineering**\n",
        "\n",
        "캐글 inclass competition 마지막 날입니다. 더 진행한 EDA와 Feature Engineering이 있다면 진행해주세요!"
      ]
    },
    {
      "cell_type": "code",
      "execution_count": null,
      "metadata": {
        "id": "e4RHPXmGHjgw"
      },
      "outputs": [],
      "source": [
        "import numpy as np\n",
        "import pandas as pd\n",
        "import matplotlib.pyplot as plt\n",
        "import seaborn as sns\n",
        "from category_encoders import OrdinalEncoder, TargetEncoder\n",
        "from sklearn.impute import SimpleImputer \n",
        "from sklearn.pipeline import make_pipeline\n",
        "from xgboost import XGBClassifier\n",
        "from sklearn.metrics import f1_score"
      ]
    },
    {
      "cell_type": "code",
      "execution_count": null,
      "metadata": {
        "id": "6SVlbblXKPfQ"
      },
      "outputs": [],
      "source": [
        "# 데이터셋 불러오기 - H1N1 백신 관련 데이터\n",
        "\n",
        "target = 'vacc_h1n1_f'\n",
        "train = pd.merge(pd.read_csv('https://ds-lecture-data.s3.ap-northeast-2.amazonaws.com/vacc_flu/train.csv'), \n",
        "                 pd.read_csv('https://ds-lecture-data.s3.ap-northeast-2.amazonaws.com/vacc_flu/train_labels.csv')[target], left_index=True, right_index=True)\n",
        "test = pd.read_csv('https://ds-lecture-data.s3.ap-northeast-2.amazonaws.com/vacc_flu/test.csv')\n",
        "sample_submission = pd.read_csv('https://ds-lecture-data.s3.ap-northeast-2.amazonaws.com/vacc_flu/submission.csv')"
      ]
    },
    {
      "cell_type": "code",
      "execution_count": null,
      "metadata": {
        "colab": {
          "base_uri": "https://localhost:8080/"
        },
        "id": "A1yE3ZzmKhYp",
        "outputId": "00fb1c1d-585e-4be3-b029-a95c9a63bed4"
      },
      "outputs": [
        {
          "output_type": "execute_result",
          "data": {
            "text/plain": [
              "((42154, 38), (42154,))"
            ]
          },
          "metadata": {},
          "execution_count": 4
        }
      ],
      "source": [
        "# train을 features & target으로 나눈다.\n",
        "y_train = train[target]\n",
        "X_train = train.drop(target, axis=1)\n",
        "\n",
        "# 데이터셋 크기 확인 (train의 features, train의 target의 row 수가 일치해야 한다.)\n",
        "X_train.shape, y_train.shape"
      ]
    },
    {
      "cell_type": "code",
      "execution_count": null,
      "metadata": {
        "colab": {
          "base_uri": "https://localhost:8080/"
        },
        "id": "TT9Go5CxS3uU",
        "outputId": "81bd7883-77c2-4d03-9f43-5fb2bc703e93"
      },
      "outputs": [
        {
          "output_type": "stream",
          "name": "stdout",
          "text": [
            "<class 'pandas.core.frame.DataFrame'>\n",
            "RangeIndex: 42154 entries, 0 to 42153\n",
            "Data columns (total 38 columns):\n",
            " #   Column                       Non-Null Count  Dtype  \n",
            "---  ------                       --------------  -----  \n",
            " 0   h1n1_concern                 33734 non-null  float64\n",
            " 1   h1n1_knowledge               33734 non-null  float64\n",
            " 2   behavioral_antiviral_meds    33635 non-null  float64\n",
            " 3   behavioral_avoidance         33482 non-null  float64\n",
            " 4   behavioral_face_mask         33710 non-null  float64\n",
            " 5   behavioral_wash_hands        33683 non-null  float64\n",
            " 6   behavioral_large_gatherings  33640 non-null  float64\n",
            " 7   behavioral_outside_home      33633 non-null  float64\n",
            " 8   behavioral_touch_face        33571 non-null  float64\n",
            " 9   doctor_recc_h1n1             40269 non-null  float64\n",
            " 10  doctor_recc_seasonal         40269 non-null  float64\n",
            " 11  chronic_med_condition        40837 non-null  float64\n",
            " 12  child_under_6_months         32705 non-null  float64\n",
            " 13  health_insurance             22733 non-null  float64\n",
            " 14  health_worker                32724 non-null  float64\n",
            " 15  opinion_h1n1_vacc_effective  33375 non-null  object \n",
            " 16  opinion_h1n1_risk            33329 non-null  object \n",
            " 17  opinion_h1n1_sick_from_vacc  33285 non-null  object \n",
            " 18  opinion_seas_vacc_effective  33220 non-null  object \n",
            " 19  opinion_seas_risk            33153 non-null  object \n",
            " 20  opinion_seas_sick_from_vacc  33089 non-null  object \n",
            " 21  agegrp                       42154 non-null  object \n",
            " 22  education_comp               31988 non-null  float64\n",
            " 23  raceeth4_i                   42154 non-null  int64  \n",
            " 24  sex_i                        42154 non-null  int64  \n",
            " 25  inc_pov                      42154 non-null  int64  \n",
            " 26  marital                      31955 non-null  float64\n",
            " 27  rent_own_r                   39958 non-null  float64\n",
            " 28  employment_status            31876 non-null  object \n",
            " 29  census_region                42154 non-null  int64  \n",
            " 30  census_msa                   42154 non-null  object \n",
            " 31  n_adult_r                    41845 non-null  float64\n",
            " 32  household_children           41845 non-null  float64\n",
            " 33  n_people_r                   42020 non-null  float64\n",
            " 34  employment_industry          17165 non-null  object \n",
            " 35  employment_occupation        17165 non-null  object \n",
            " 36  hhs_region                   42154 non-null  int64  \n",
            " 37  state                        42154 non-null  object \n",
            "dtypes: float64(21), int64(5), object(12)\n",
            "memory usage: 12.2+ MB\n"
          ]
        }
      ],
      "source": [
        "X_train.info()"
      ]
    },
    {
      "cell_type": "code",
      "execution_count": null,
      "metadata": {
        "colab": {
          "base_uri": "https://localhost:8080/",
          "height": 389
        },
        "id": "FPO9b1zVKtWk",
        "outputId": "67892daf-d873-4296-c290-4965c61b4a01"
      },
      "outputs": [
        {
          "output_type": "stream",
          "name": "stdout",
          "text": [
            "0    0.760948\n",
            "1    0.239052\n",
            "Name: vacc_h1n1_f, dtype: float64\n"
          ]
        },
        {
          "output_type": "stream",
          "name": "stderr",
          "text": [
            "/usr/local/lib/python3.7/dist-packages/seaborn/_decorators.py:43: FutureWarning: Pass the following variable as a keyword arg: x. From version 0.12, the only valid positional argument will be `data`, and passing other arguments without an explicit keyword will result in an error or misinterpretation.\n",
            "  FutureWarning\n"
          ]
        },
        {
          "output_type": "display_data",
          "data": {
            "text/plain": [
              "<Figure size 432x288 with 1 Axes>"
            ],
            "image/png": "[encoded data removed]"
          },
          "metadata": {
            "needs_background": "light"
          }
        }
      ],
      "source": [
        "# 타겟 비율 확인\n",
        "sns.countplot(train[target])\n",
        "print(train[target].value_counts(normalize=True))"
      ]
    },
    {
      "cell_type": "code",
      "execution_count": null,
      "metadata": {
        "id": "gG6Jnl8OKtWk"
      },
      "outputs": [],
      "source": [
        "# Feature Engineering을 수행합니다.\n",
        "def engineer(df):\n",
        "    # 새로운 특성을 생성합니다.\n",
        "    behaviorals = [col for col in df.columns if \"behavioral\" in col]\n",
        "    df[\"behaviorals\"] = df[behaviorals].sum(axis=1)\n",
        "\n",
        "    # 사용하지 않는 특성을 drop합니다.\n",
        "    dels = [col for col in df.columns if (\"employment\" in col or \"sess\" in col)]\n",
        "    df.drop(columns=dels, inplace=True)\n",
        "    df.drop(columns='state', inplace=True)\n",
        "\n",
        "    return df\n",
        "\n",
        "\n",
        "train = engineer(train.copy())\n",
        "test = engineer(test.copy())\n",
        "\n",
        "# feature과 label을 분리합니다.\n",
        "X_train, y_train = train.drop(columns=target), train[target]\n",
        "X_test = test"
      ]
    },
    {
      "cell_type": "code",
      "execution_count": null,
      "metadata": {
        "colab": {
          "base_uri": "https://localhost:8080/",
          "height": 256
        },
        "id": "utFFwv1SKtWl",
        "outputId": "25fac073-0d5c-4924-8806-89dcc79f3e87"
      },
      "outputs": [
        {
          "output_type": "execute_result",
          "data": {
            "text/plain": [
              "       opinion_h1n1_vacc_effective opinion_h1n1_risk  \\\n",
              "count                        33375             33329   \n",
              "unique                           6                 6   \n",
              "top             Somewhat Effective      Somewhat Low   \n",
              "freq                         14729             12520   \n",
              "\n",
              "       opinion_h1n1_sick_from_vacc opinion_seas_vacc_effective  \\\n",
              "count                        33285                       33220   \n",
              "unique                           6                           6   \n",
              "top               Not Very Worried          Somewhat Effective   \n",
              "freq                         11582                       14543   \n",
              "\n",
              "       opinion_seas_risk opinion_seas_sick_from_vacc     agegrp  \\\n",
              "count              33153                       33089      42154   \n",
              "unique                 6                           6          7   \n",
              "top         Somewhat Low          Not At All Worried  65+ Years   \n",
              "freq               11397                       14749       8517   \n",
              "\n",
              "                     census_msa  \n",
              "count                     42154  \n",
              "unique                        3  \n",
              "top     MSA, Not Principle City  \n",
              "freq                      18957  "
            ],
            "text/html": [
              "\n",
              "  <div id=\"df-a8babb03-fae8-48e3-bdf0-085551202048\">\n",
              "    <div class=\"colab-df-container\">\n",
              "      <div>\n",
              "<style scoped>\n",
              "    .dataframe tbody tr th:only-of-type {\n",
              "        vertical-align: middle;\n",
              "    }\n",
              "\n",
              "    .dataframe tbody tr th {\n",
              "        vertical-align: top;\n",
              "    }\n",
              "\n",
              "    .dataframe thead th {\n",
              "        text-align: right;\n",
              "    }\n",
              "</style>\n",
              "<table border=\"1\" class=\"dataframe\">\n",
              "  <thead>\n",
              "    <tr style=\"text-align: right;\">\n",
              "      <th></th>\n",
              "      <th>opinion_h1n1_vacc_effective</th>\n",
              "      <th>opinion_h1n1_risk</th>\n",
              "      <th>opinion_h1n1_sick_from_vacc</th>\n",
              "      <th>opinion_seas_vacc_effective</th>\n",
              "      <th>opinion_seas_risk</th>\n",
              "      <th>opinion_seas_sick_from_vacc</th>\n",
              "      <th>agegrp</th>\n",
              "      <th>census_msa</th>\n",
              "    </tr>\n",
              "  </thead>\n",
              "  <tbody>\n",
              "    <tr>\n",
              "      <th>count</th>\n",
              "      <td>33375</td>\n",
              "      <td>33329</td>\n",
              "      <td>33285</td>\n",
              "      <td>33220</td>\n",
              "      <td>33153</td>\n",
              "      <td>33089</td>\n",
              "      <td>42154</td>\n",
              "      <td>42154</td>\n",
              "    </tr>\n",
              "    <tr>\n",
              "      <th>unique</th>\n",
              "      <td>6</td>\n",
              "      <td>6</td>\n",
              "      <td>6</td>\n",
              "      <td>6</td>\n",
              "      <td>6</td>\n",
              "      <td>6</td>\n",
              "      <td>7</td>\n",
              "      <td>3</td>\n",
              "    </tr>\n",
              "    <tr>\n",
              "      <th>top</th>\n",
              "      <td>Somewhat Effective</td>\n",
              "      <td>Somewhat Low</td>\n",
              "      <td>Not Very Worried</td>\n",
              "      <td>Somewhat Effective</td>\n",
              "      <td>Somewhat Low</td>\n",
              "      <td>Not At All Worried</td>\n",
              "      <td>65+ Years</td>\n",
              "      <td>MSA, Not Principle City</td>\n",
              "    </tr>\n",
              "    <tr>\n",
              "      <th>freq</th>\n",
              "      <td>14729</td>\n",
              "      <td>12520</td>\n",
              "      <td>11582</td>\n",
              "      <td>14543</td>\n",
              "      <td>11397</td>\n",
              "      <td>14749</td>\n",
              "      <td>8517</td>\n",
              "      <td>18957</td>\n",
              "    </tr>\n",
              "  </tbody>\n",
              "</table>\n",
              "</div>\n",
              "      <button class=\"colab-df-convert\" onclick=\"convertToInteractive('df-a8babb03-fae8-48e3-bdf0-085551202048')\"\n",
              "              title=\"Convert this dataframe to an interactive table.\"\n",
              "              style=\"display:none;\">\n",
              "        \n",
              "  <svg xmlns=\"http://www.w3.org/2000/svg\" height=\"24px\"viewBox=\"0 0 24 24\"\n",
              "       width=\"24px\">\n",
              "    <path d=\"M0 0h24v24H0V0z\" fill=\"none\"/>\n",
              "    <path d=\"M18.56 5.44l.94 2.06.94-2.06 2.06-.94-2.06-.94-.94-2.06-.94 2.06-2.06.94zm-11 1L8.5 8.5l.94-2.06 2.06-.94-2.06-.94L8.5 2.5l-.94 2.06-2.06.94zm10 10l.94 2.06.94-2.06 2.06-.94-2.06-.94-.94-2.06-.94 2.06-2.06.94z\"/><path d=\"M17.41 7.96l-1.37-1.37c-.4-.4-.92-.59-1.43-.59-.52 0-1.04.2-1.43.59L10.3 9.45l-7.72 7.72c-.78.78-.78 2.05 0 2.83L4 21.41c.39.39.9.59 1.41.59.51 0 1.02-.2 1.41-.59l7.78-7.78 2.81-2.81c.8-.78.8-2.07 0-2.86zM5.41 20L4 18.59l7.72-7.72 1.47 1.35L5.41 20z\"/>\n",
              "  </svg>\n",
              "      </button>\n",
              "      \n",
              "  <style>\n",
              "    .colab-df-container {\n",
              "      display:flex;\n",
              "      flex-wrap:wrap;\n",
              "      gap: 12px;\n",
              "    }\n",
              "\n",
              "    .colab-df-convert {\n",
              "      background-color: #E8F0FE;\n",
              "      border: none;\n",
              "      border-radius: 50%;\n",
              "      cursor: pointer;\n",
              "      display: none;\n",
              "      fill: #1967D2;\n",
              "      height: 32px;\n",
              "      padding: 0 0 0 0;\n",
              "      width: 32px;\n",
              "    }\n",
              "\n",
              "    .colab-df-convert:hover {\n",
              "      background-color: #E2EBFA;\n",
              "      box-shadow: 0px 1px 2px rgba(60, 64, 67, 0.3), 0px 1px 3px 1px rgba(60, 64, 67, 0.15);\n",
              "      fill: #174EA6;\n",
              "    }\n",
              "\n",
              "    [theme=dark] .colab-df-convert {\n",
              "      background-color: #3B4455;\n",
              "      fill: #D2E3FC;\n",
              "    }\n",
              "\n",
              "    [theme=dark] .colab-df-convert:hover {\n",
              "      background-color: #434B5C;\n",
              "      box-shadow: 0px 1px 3px 1px rgba(0, 0, 0, 0.15);\n",
              "      filter: drop-shadow(0px 1px 2px rgba(0, 0, 0, 0.3));\n",
              "      fill: #FFFFFF;\n",
              "    }\n",
              "  </style>\n",
              "\n",
              "      <script>\n",
              "        const buttonEl =\n",
              "          document.querySelector('#df-a8babb03-fae8-48e3-bdf0-085551202048 button.colab-df-convert');\n",
              "        buttonEl.style.display =\n",
              "          google.colab.kernel.accessAllowed ? 'block' : 'none';\n",
              "\n",
              "        async function convertToInteractive(key) {\n",
              "          const element = document.querySelector('#df-a8babb03-fae8-48e3-bdf0-085551202048');\n",
              "          const dataTable =\n",
              "            await google.colab.kernel.invokeFunction('convertToInteractive',\n",
              "                                                     [key], {});\n",
              "          if (!dataTable) return;\n",
              "\n",
              "          const docLinkHtml = 'Like what you see? Visit the ' +\n",
              "            '<a target=\"_blank\" href=https://colab.research.google.com/notebooks/data_table.ipynb>data table notebook</a>'\n",
              "            + ' to learn more about interactive tables.';\n",
              "          element.innerHTML = '';\n",
              "          dataTable['output_type'] = 'display_data';\n",
              "          await google.colab.output.renderOutput(dataTable, element);\n",
              "          const docLink = document.createElement('div');\n",
              "          docLink.innerHTML = docLinkHtml;\n",
              "          element.appendChild(docLink);\n",
              "        }\n",
              "      </script>\n",
              "    </div>\n",
              "  </div>\n",
              "  "
            ]
          },
          "metadata": {},
          "execution_count": 8
        }
      ],
      "source": [
        "X_train.describe(include='object')"
      ]
    },
    {
      "cell_type": "markdown",
      "metadata": {
        "id": "ZEHL1ibqU44O"
      },
      "source": [
        "## **Part 2. Hyperparameter Tuning**"
      ]
    },
    {
      "cell_type": "markdown",
      "metadata": {
        "id": "pG2W906aVbu1"
      },
      "source": [
        "### **2-1. 모델 학습**\n",
        "- Randomforest 혹은 XGBoost를 학습시키세요.\n",
        "- 분류문제에 맞는 scoring parameter metric을 사용하세요.\n",
        "- OrdinalEncoder 혹은 TargetEncoder 사용을 권합니다.\n",
        "- RandomizedSearchCV 를 사용해서 하이퍼파라미터 튜닝을 진행하고 최고 성능을 보이는 모델로 예측을 진행한 후 캐글에 제출합니다."
      ]
    },
    {
      "cell_type": "code",
      "execution_count": null,
      "metadata": {
        "id": "l2csSBGzKtWl"
      },
      "outputs": [],
      "source": [
        "neg, pos = train[target].value_counts()\n",
        "weight = neg/pos"
      ]
    },
    {
      "cell_type": "code",
      "execution_count": null,
      "metadata": {
        "id": "Iju5_3B3XoVt"
      },
      "outputs": [],
      "source": [
        "pipe = make_pipeline(\n",
        "    OrdinalEncoder(),\n",
        "    SimpleImputer(strategy='mean'),\n",
        "    XGBClassifier(n_estimators=200\n",
        "                  , random_state=2\n",
        "                  , n_jobs=-1\n",
        "                  , scale_pos_weight = weight\n",
        "                 )\n",
        ")\n"
      ]
    },
    {
      "cell_type": "code",
      "execution_count": null,
      "metadata": {
        "colab": {
          "base_uri": "https://localhost:8080/"
        },
        "id": "-D1Dop9tX-ro",
        "outputId": "eefccdcb-ae74-477f-b778-1c9f78b69695"
      },
      "outputs": [
        {
          "output_type": "stream",
          "name": "stdout",
          "text": [
            "Fitting 3 folds for each of 10 candidates, totalling 30 fits\n",
            "[CV 1/3] END simpleimputer__strategy=median, xgbclassifier__colsample_bytree=0.8982714934301164, xgbclassifier__learning_rate=0.3, xgbclassifier__max_depth=6, xgbclassifier__min_child_weight=2;, score=0.569 total time=  23.7s\n",
            "[CV 2/3] END simpleimputer__strategy=median, xgbclassifier__colsample_bytree=0.8982714934301164, xgbclassifier__learning_rate=0.3, xgbclassifier__max_depth=6, xgbclassifier__min_child_weight=2;, score=0.572 total time=   9.2s\n",
            "[CV 3/3] END simpleimputer__strategy=median, xgbclassifier__colsample_bytree=0.8982714934301164, xgbclassifier__learning_rate=0.3, xgbclassifier__max_depth=6, xgbclassifier__min_child_weight=2;, score=0.561 total time=   9.3s\n",
            "[CV 1/3] END simpleimputer__strategy=median, xgbclassifier__colsample_bytree=0.5780093202212182, xgbclassifier__learning_rate=0.3, xgbclassifier__max_depth=6, xgbclassifier__min_child_weight=8;, score=0.575 total time=   7.2s\n",
            "[CV 2/3] END simpleimputer__strategy=median, xgbclassifier__colsample_bytree=0.5780093202212182, xgbclassifier__learning_rate=0.3, xgbclassifier__max_depth=6, xgbclassifier__min_child_weight=8;, score=0.575 total time=   7.2s\n",
            "[CV 3/3] END simpleimputer__strategy=median, xgbclassifier__colsample_bytree=0.5780093202212182, xgbclassifier__learning_rate=0.3, xgbclassifier__max_depth=6, xgbclassifier__min_child_weight=8;, score=0.566 total time=   7.2s\n",
            "[CV 1/3] END simpleimputer__strategy=median, xgbclassifier__colsample_bytree=0.9330880728874675, xgbclassifier__learning_rate=0.3, xgbclassifier__max_depth=4, xgbclassifier__min_child_weight=2;, score=0.587 total time=   5.9s\n",
            "[CV 2/3] END simpleimputer__strategy=median, xgbclassifier__colsample_bytree=0.9330880728874675, xgbclassifier__learning_rate=0.3, xgbclassifier__max_depth=4, xgbclassifier__min_child_weight=2;, score=0.590 total time=   5.9s\n",
            "[CV 3/3] END simpleimputer__strategy=median, xgbclassifier__colsample_bytree=0.9330880728874675, xgbclassifier__learning_rate=0.3, xgbclassifier__max_depth=4, xgbclassifier__min_child_weight=2;, score=0.573 total time=   6.0s\n",
            "[CV 1/3] END simpleimputer__strategy=mean, xgbclassifier__colsample_bytree=0.8609993861334124, xgbclassifier__learning_rate=0.1, xgbclassifier__max_depth=4, xgbclassifier__min_child_weight=4;, score=0.622 total time=   9.0s\n",
            "[CV 2/3] END simpleimputer__strategy=mean, xgbclassifier__colsample_bytree=0.8609993861334124, xgbclassifier__learning_rate=0.1, xgbclassifier__max_depth=4, xgbclassifier__min_child_weight=4;, score=0.628 total time=   7.4s\n",
            "[CV 3/3] END simpleimputer__strategy=mean, xgbclassifier__colsample_bytree=0.8609993861334124, xgbclassifier__learning_rate=0.1, xgbclassifier__max_depth=4, xgbclassifier__min_child_weight=4;, score=0.611 total time=   5.7s\n",
            "[CV 1/3] END simpleimputer__strategy=mean, xgbclassifier__colsample_bytree=0.9961057796456088, xgbclassifier__learning_rate=0.05, xgbclassifier__max_depth=4, xgbclassifier__min_child_weight=4;, score=0.621 total time=   7.4s\n",
            "[CV 2/3] END simpleimputer__strategy=mean, xgbclassifier__colsample_bytree=0.9961057796456088, xgbclassifier__learning_rate=0.05, xgbclassifier__max_depth=4, xgbclassifier__min_child_weight=4;, score=0.623 total time=   6.6s\n",
            "[CV 3/3] END simpleimputer__strategy=mean, xgbclassifier__colsample_bytree=0.9961057796456088, xgbclassifier__learning_rate=0.05, xgbclassifier__max_depth=4, xgbclassifier__min_child_weight=4;, score=0.608 total time=   6.0s\n",
            "[CV 1/3] END simpleimputer__strategy=median, xgbclassifier__colsample_bytree=0.7159725093210578, xgbclassifier__learning_rate=0.05, xgbclassifier__max_depth=6, xgbclassifier__min_child_weight=8;, score=0.592 total time=   8.2s\n",
            "[CV 2/3] END simpleimputer__strategy=median, xgbclassifier__colsample_bytree=0.7159725093210578, xgbclassifier__learning_rate=0.05, xgbclassifier__max_depth=6, xgbclassifier__min_child_weight=8;, score=0.597 total time=   8.2s\n",
            "[CV 3/3] END simpleimputer__strategy=median, xgbclassifier__colsample_bytree=0.7159725093210578, xgbclassifier__learning_rate=0.05, xgbclassifier__max_depth=6, xgbclassifier__min_child_weight=8;, score=0.585 total time=   8.1s\n",
            "[CV 1/3] END simpleimputer__strategy=median, xgbclassifier__colsample_bytree=0.569746930326021, xgbclassifier__learning_rate=0.3, xgbclassifier__max_depth=4, xgbclassifier__min_child_weight=4;, score=0.590 total time=   4.7s\n",
            "[CV 2/3] END simpleimputer__strategy=median, xgbclassifier__colsample_bytree=0.569746930326021, xgbclassifier__learning_rate=0.3, xgbclassifier__max_depth=4, xgbclassifier__min_child_weight=4;, score=0.594 total time=   4.7s\n",
            "[CV 3/3] END simpleimputer__strategy=median, xgbclassifier__colsample_bytree=0.569746930326021, xgbclassifier__learning_rate=0.3, xgbclassifier__max_depth=4, xgbclassifier__min_child_weight=4;, score=0.577 total time=   6.7s\n",
            "[CV 1/3] END simpleimputer__strategy=median, xgbclassifier__colsample_bytree=0.8091930046665436, xgbclassifier__learning_rate=0.3, xgbclassifier__max_depth=2, xgbclassifier__min_child_weight=8;, score=0.592 total time=   3.5s\n",
            "[CV 2/3] END simpleimputer__strategy=median, xgbclassifier__colsample_bytree=0.8091930046665436, xgbclassifier__learning_rate=0.3, xgbclassifier__max_depth=2, xgbclassifier__min_child_weight=8;, score=0.595 total time=   3.4s\n",
            "[CV 3/3] END simpleimputer__strategy=median, xgbclassifier__colsample_bytree=0.8091930046665436, xgbclassifier__learning_rate=0.3, xgbclassifier__max_depth=2, xgbclassifier__min_child_weight=8;, score=0.583 total time=   3.4s\n",
            "[CV 1/3] END simpleimputer__strategy=median, xgbclassifier__colsample_bytree=0.8037724259507192, xgbclassifier__learning_rate=0.05, xgbclassifier__max_depth=2, xgbclassifier__min_child_weight=8;, score=0.593 total time=   3.5s\n",
            "[CV 2/3] END simpleimputer__strategy=median, xgbclassifier__colsample_bytree=0.8037724259507192, xgbclassifier__learning_rate=0.05, xgbclassifier__max_depth=2, xgbclassifier__min_child_weight=8;, score=0.590 total time=   3.4s\n",
            "[CV 3/3] END simpleimputer__strategy=median, xgbclassifier__colsample_bytree=0.8037724259507192, xgbclassifier__learning_rate=0.05, xgbclassifier__max_depth=2, xgbclassifier__min_child_weight=8;, score=0.584 total time=   3.4s\n",
            "[CV 1/3] END simpleimputer__strategy=mean, xgbclassifier__colsample_bytree=0.9744427686266666, xgbclassifier__learning_rate=0.1, xgbclassifier__max_depth=4, xgbclassifier__min_child_weight=4;, score=0.622 total time=   6.0s\n",
            "[CV 2/3] END simpleimputer__strategy=mean, xgbclassifier__colsample_bytree=0.9744427686266666, xgbclassifier__learning_rate=0.1, xgbclassifier__max_depth=4, xgbclassifier__min_child_weight=4;, score=0.626 total time=   6.0s\n",
            "[CV 3/3] END simpleimputer__strategy=mean, xgbclassifier__colsample_bytree=0.9744427686266666, xgbclassifier__learning_rate=0.1, xgbclassifier__max_depth=4, xgbclassifier__min_child_weight=4;, score=0.612 total time=   6.0s\n"
          ]
        },
        {
          "output_type": "execute_result",
          "data": {
            "text/plain": [
              "RandomizedSearchCV(cv=3,\n",
              "                   estimator=Pipeline(steps=[('ordinalencoder',\n",
              "                                              OrdinalEncoder()),\n",
              "                                             ('simpleimputer', SimpleImputer()),\n",
              "                                             ('xgbclassifier',\n",
              "                                              XGBClassifier(n_estimators=200,\n",
              "                                                            n_jobs=-1,\n",
              "                                                            random_state=2,\n",
              "                                                            scale_pos_weight=3.183189441301975))]),\n",
              "                   param_distributions={'simpleimputer__strategy': ['median',\n",
              "                                                                    'mean'],\n",
              "                                        'xgbclassifier__colsample_bytree': <scipy.stats._distn_infrastructure.rv_frozen object at 0x7fb965264bd0>,\n",
              "                                        'xgbclassifier__learning_rate': [0.05,\n",
              "                                                                         0.1,\n",
              "                                                                         0.3],\n",
              "                                        'xgbclassifier__max_depth': [2, 4, 6],\n",
              "                                        'xgbclassifier__min_child_weight': [2,\n",
              "                                                                            4,\n",
              "                                                                            8]},\n",
              "                   random_state=42, scoring='f1', verbose=3)"
            ]
          },
          "metadata": {},
          "execution_count": 11
        }
      ],
      "source": [
        "from scipy.stats.distributions import uniform\n",
        "from sklearn.model_selection import RandomizedSearchCV\n",
        "\n",
        "params = {\n",
        "    \"simpleimputer__strategy\": [\"median\", \"mean\"],\n",
        "    \"xgbclassifier__max_depth\": [2, 4, 6],\n",
        "    \"xgbclassifier__min_child_weight\": [2, 4, 8],\n",
        "    \"xgbclassifier__colsample_bytree\": uniform(\n",
        "        loc=0.5, scale=0.5\n",
        "    ),  # 0.5 ~ 1 사이의 uniform 분포로 범위를 지정해 줍니다.\n",
        "    \"xgbclassifier__learning_rate\" : [0.05, 0.1, 0.3]\n",
        "}\n",
        "\n",
        "\n",
        "randomized_search = RandomizedSearchCV(\n",
        "    pipe,\n",
        "    param_distributions=params,\n",
        "    scoring=\"f1\",\n",
        "    n_iter=10,\n",
        "    cv=3,\n",
        "    verbose=3,\n",
        "    random_state=42,\n",
        ")\n",
        "\n",
        "randomized_search.fit(X_train, y_train)"
      ]
    },
    {
      "cell_type": "code",
      "execution_count": null,
      "metadata": {
        "colab": {
          "base_uri": "https://localhost:8080/"
        },
        "id": "sBjiqYS9KtWl",
        "outputId": "de5534ad-9a50-41f9-a69d-0b9868d8f8a0"
      },
      "outputs": [
        {
          "output_type": "stream",
          "name": "stdout",
          "text": [
            "최적 하이퍼파라미터:  {'simpleimputer__strategy': 'mean', 'xgbclassifier__colsample_bytree': 0.8609993861334124, 'xgbclassifier__learning_rate': 0.1, 'xgbclassifier__max_depth': 4, 'xgbclassifier__min_child_weight': 4}\n",
            "최적 f1:  0.6204891468395445\n"
          ]
        }
      ],
      "source": [
        "print(\"최적 하이퍼파라미터: \", randomized_search.best_params_)\n",
        "print(\"최적 f1: \", randomized_search.best_score_)"
      ]
    },
    {
      "cell_type": "markdown",
      "metadata": {
        "id": "lnG6iVRzVPNb"
      },
      "source": [
        "### **2-2. 결과 제출**\n",
        "- 테스트 세트에 대한 예측 결과를 캐글에 제출하세요. "
      ]
    },
    {
      "cell_type": "markdown",
      "metadata": {
        "id": "wXZdd4ZAW4VY"
      },
      "source": [
        "##### **Q. 캐글 Leaderboard의 개선된 본인의 score를 제출해 주세요.**"
      ]
    },
    {
      "cell_type": "code",
      "execution_count": null,
      "metadata": {
        "id": "6Cf79MzQYo-R",
        "colab": {
          "base_uri": "https://localhost:8080/"
        },
        "outputId": "72e6599f-d8fe-4d5d-df59-1caec6cb747e"
      },
      "outputs": [
        {
          "output_type": "stream",
          "name": "stdout",
          "text": [
            "Mounted at /content/drive\n"
          ]
        }
      ],
      "source": [
        "# csv 파일 저장을 위한 구글 드라이브 마운트\n",
        "import sys\n",
        "\n",
        "if \"google.colab\" in sys.modules:\n",
        "    from google.colab import drive\n",
        "    drive.mount('/content/drive')"
      ]
    },
    {
      "cell_type": "code",
      "execution_count": null,
      "metadata": {
        "id": "eHxK97QzXunO",
        "colab": {
          "base_uri": "https://localhost:8080/",
          "height": 424
        },
        "outputId": "a7e14cf9-5cd3-4ce0-af7c-5d84e6b9b2d0"
      },
      "outputs": [
        {
          "output_type": "execute_result",
          "data": {
            "text/plain": [
              "          Id  vacc_h1n1_f\n",
              "0          0            0\n",
              "1          1            0\n",
              "2          2            0\n",
              "3          3            0\n",
              "4          4            0\n",
              "...      ...          ...\n",
              "28099  28099            1\n",
              "28100  28100            0\n",
              "28101  28101            0\n",
              "28102  28102            1\n",
              "28103  28103            0\n",
              "\n",
              "[28104 rows x 2 columns]"
            ],
            "text/html": [
              "\n",
              "  <div id=\"df-5dcc1647-e2eb-4ceb-bdff-09cbbe9e300c\">\n",
              "    <div class=\"colab-df-container\">\n",
              "      <div>\n",
              "<style scoped>\n",
              "    .dataframe tbody tr th:only-of-type {\n",
              "        vertical-align: middle;\n",
              "    }\n",
              "\n",
              "    .dataframe tbody tr th {\n",
              "        vertical-align: top;\n",
              "    }\n",
              "\n",
              "    .dataframe thead th {\n",
              "        text-align: right;\n",
              "    }\n",
              "</style>\n",
              "<table border=\"1\" class=\"dataframe\">\n",
              "  <thead>\n",
              "    <tr style=\"text-align: right;\">\n",
              "      <th></th>\n",
              "      <th>Id</th>\n",
              "      <th>vacc_h1n1_f</th>\n",
              "    </tr>\n",
              "  </thead>\n",
              "  <tbody>\n",
              "    <tr>\n",
              "      <th>0</th>\n",
              "      <td>0</td>\n",
              "      <td>0</td>\n",
              "    </tr>\n",
              "    <tr>\n",
              "      <th>1</th>\n",
              "      <td>1</td>\n",
              "      <td>0</td>\n",
              "    </tr>\n",
              "    <tr>\n",
              "      <th>2</th>\n",
              "      <td>2</td>\n",
              "      <td>0</td>\n",
              "    </tr>\n",
              "    <tr>\n",
              "      <th>3</th>\n",
              "      <td>3</td>\n",
              "      <td>0</td>\n",
              "    </tr>\n",
              "    <tr>\n",
              "      <th>4</th>\n",
              "      <td>4</td>\n",
              "      <td>0</td>\n",
              "    </tr>\n",
              "    <tr>\n",
              "      <th>...</th>\n",
              "      <td>...</td>\n",
              "      <td>...</td>\n",
              "    </tr>\n",
              "    <tr>\n",
              "      <th>28099</th>\n",
              "      <td>28099</td>\n",
              "      <td>1</td>\n",
              "    </tr>\n",
              "    <tr>\n",
              "      <th>28100</th>\n",
              "      <td>28100</td>\n",
              "      <td>0</td>\n",
              "    </tr>\n",
              "    <tr>\n",
              "      <th>28101</th>\n",
              "      <td>28101</td>\n",
              "      <td>0</td>\n",
              "    </tr>\n",
              "    <tr>\n",
              "      <th>28102</th>\n",
              "      <td>28102</td>\n",
              "      <td>1</td>\n",
              "    </tr>\n",
              "    <tr>\n",
              "      <th>28103</th>\n",
              "      <td>28103</td>\n",
              "      <td>0</td>\n",
              "    </tr>\n",
              "  </tbody>\n",
              "</table>\n",
              "<p>28104 rows × 2 columns</p>\n",
              "</div>\n",
              "      <button class=\"colab-df-convert\" onclick=\"convertToInteractive('df-5dcc1647-e2eb-4ceb-bdff-09cbbe9e300c')\"\n",
              "              title=\"Convert this dataframe to an interactive table.\"\n",
              "              style=\"display:none;\">\n",
              "        \n",
              "  <svg xmlns=\"http://www.w3.org/2000/svg\" height=\"24px\"viewBox=\"0 0 24 24\"\n",
              "       width=\"24px\">\n",
              "    <path d=\"M0 0h24v24H0V0z\" fill=\"none\"/>\n",
              "    <path d=\"M18.56 5.44l.94 2.06.94-2.06 2.06-.94-2.06-.94-.94-2.06-.94 2.06-2.06.94zm-11 1L8.5 8.5l.94-2.06 2.06-.94-2.06-.94L8.5 2.5l-.94 2.06-2.06.94zm10 10l.94 2.06.94-2.06 2.06-.94-2.06-.94-.94-2.06-.94 2.06-2.06.94z\"/><path d=\"M17.41 7.96l-1.37-1.37c-.4-.4-.92-.59-1.43-.59-.52 0-1.04.2-1.43.59L10.3 9.45l-7.72 7.72c-.78.78-.78 2.05 0 2.83L4 21.41c.39.39.9.59 1.41.59.51 0 1.02-.2 1.41-.59l7.78-7.78 2.81-2.81c.8-.78.8-2.07 0-2.86zM5.41 20L4 18.59l7.72-7.72 1.47 1.35L5.41 20z\"/>\n",
              "  </svg>\n",
              "      </button>\n",
              "      \n",
              "  <style>\n",
              "    .colab-df-container {\n",
              "      display:flex;\n",
              "      flex-wrap:wrap;\n",
              "      gap: 12px;\n",
              "    }\n",
              "\n",
              "    .colab-df-convert {\n",
              "      background-color: #E8F0FE;\n",
              "      border: none;\n",
              "      border-radius: 50%;\n",
              "      cursor: pointer;\n",
              "      display: none;\n",
              "      fill: #1967D2;\n",
              "      height: 32px;\n",
              "      padding: 0 0 0 0;\n",
              "      width: 32px;\n",
              "    }\n",
              "\n",
              "    .colab-df-convert:hover {\n",
              "      background-color: #E2EBFA;\n",
              "      box-shadow: 0px 1px 2px rgba(60, 64, 67, 0.3), 0px 1px 3px 1px rgba(60, 64, 67, 0.15);\n",
              "      fill: #174EA6;\n",
              "    }\n",
              "\n",
              "    [theme=dark] .colab-df-convert {\n",
              "      background-color: #3B4455;\n",
              "      fill: #D2E3FC;\n",
              "    }\n",
              "\n",
              "    [theme=dark] .colab-df-convert:hover {\n",
              "      background-color: #434B5C;\n",
              "      box-shadow: 0px 1px 3px 1px rgba(0, 0, 0, 0.15);\n",
              "      filter: drop-shadow(0px 1px 2px rgba(0, 0, 0, 0.3));\n",
              "      fill: #FFFFFF;\n",
              "    }\n",
              "  </style>\n",
              "\n",
              "      <script>\n",
              "        const buttonEl =\n",
              "          document.querySelector('#df-5dcc1647-e2eb-4ceb-bdff-09cbbe9e300c button.colab-df-convert');\n",
              "        buttonEl.style.display =\n",
              "          google.colab.kernel.accessAllowed ? 'block' : 'none';\n",
              "\n",
              "        async function convertToInteractive(key) {\n",
              "          const element = document.querySelector('#df-5dcc1647-e2eb-4ceb-bdff-09cbbe9e300c');\n",
              "          const dataTable =\n",
              "            await google.colab.kernel.invokeFunction('convertToInteractive',\n",
              "                                                     [key], {});\n",
              "          if (!dataTable) return;\n",
              "\n",
              "          const docLinkHtml = 'Like what you see? Visit the ' +\n",
              "            '<a target=\"_blank\" href=https://colab.research.google.com/notebooks/data_table.ipynb>data table notebook</a>'\n",
              "            + ' to learn more about interactive tables.';\n",
              "          element.innerHTML = '';\n",
              "          dataTable['output_type'] = 'display_data';\n",
              "          await google.colab.output.renderOutput(dataTable, element);\n",
              "          const docLink = document.createElement('div');\n",
              "          docLink.innerHTML = docLinkHtml;\n",
              "          element.appendChild(docLink);\n",
              "        }\n",
              "      </script>\n",
              "    </div>\n",
              "  </div>\n",
              "  "
            ]
          },
          "metadata": {},
          "execution_count": 14
        }
      ],
      "source": [
        "final = randomized_search.best_estimator_\n",
        "y_pred_test = final.predict(X_test)\n",
        "\n",
        "sample_submission[target] = y_pred_test\n",
        "sample_submission"
      ]
    },
    {
      "cell_type": "code",
      "execution_count": null,
      "metadata": {
        "id": "0YyWr-d1Ysnk",
        "colab": {
          "base_uri": "https://localhost:8080/"
        },
        "outputId": "027e596e-cc94-4960-b3bf-6a23eee280c0"
      },
      "outputs": [
        {
          "output_type": "execute_result",
          "data": {
            "text/plain": [
              "(18474, 9630)"
            ]
          },
          "metadata": {},
          "execution_count": 15
        }
      ],
      "source": [
        "# 개수 확인 (예측값에서 0, 1 개수 확인)\n",
        "(y_pred_test == 0).sum(), (y_pred_test == 1).sum()"
      ]
    },
    {
      "cell_type": "code",
      "execution_count": null,
      "metadata": {
        "id": "D7VlfEw2YtxU",
        "colab": {
          "base_uri": "https://localhost:8080/"
        },
        "outputId": "eb93afb6-ec27-4600-bb36-feca46497b6e"
      },
      "outputs": [
        {
          "output_type": "execute_result",
          "data": {
            "text/plain": [
              "0    18474\n",
              "1     9630\n",
              "Name: vacc_h1n1_f, dtype: int64"
            ]
          },
          "metadata": {},
          "execution_count": 16
        }
      ],
      "source": [
        "# 개수 확인 (제출폼 데이터프레임에서 0, 1 개수 확인)\n",
        "sample_submission[target].value_counts()"
      ]
    },
    {
      "cell_type": "code",
      "execution_count": null,
      "metadata": {
        "id": "YRRojOgiYwNG"
      },
      "outputs": [],
      "source": [
        "# 저장\n",
        "sample_submission.to_csv(\"submission_final.csv\", index = False)"
      ]
    },
    {
      "cell_type": "markdown",
      "metadata": {
        "id": "B-sXGlPDZEtY"
      },
      "source": [
        "# 🥇 **도전 과제**\n",
        "\n",
        "- `hyperopt` 라이브러리를 사용하여 Bayesian Search를 진행해보세요.\n",
        "- Randomized Search와 비교해보세요. \n",
        "    - 최적의 하이퍼파라미터 값은 어떻게 다른가요?\n",
        "    - 최적의 f1 score는 어떻게 다른가요?"
      ]
    },
    {
      "cell_type": "code",
      "source": [],
      "metadata": {
        "id": "Uco_4886Cfb0"
      },
      "execution_count": null,
      "outputs": []
    }
  ],
  "metadata": {
    "colab": {
      "provenance": [],
      "toc_visible": true
    },
    "kernelspec": {
      "display_name": "Python 3.9.12 ('base')",
      "language": "python",
      "name": "python3"
    },
    "language_info": {
      "codemirror_mode": {
        "name": "ipython",
        "version": 3
      },
      "file_extension": ".py",
      "mimetype": "text/x-python",
      "name": "python",
      "nbconvert_exporter": "python",
      "pygments_lexer": "ipython3",
      "version": "3.9.12"
    },
    "vscode": {
      "interpreter": {
        "hash": "b20ff92b575a8ea539dfbc3b545a889469c164f0620e393f7e974863baa629ad"
      }
    }
  },
  "nbformat": 4,
  "nbformat_minor": 0
}