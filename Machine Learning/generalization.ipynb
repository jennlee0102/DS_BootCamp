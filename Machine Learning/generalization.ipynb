{
  "nbformat": 4,
  "nbformat_minor": 0,
  "metadata": {
    "colab": {
      "name": "\bn212a_sol_generalization.ipynb",
      "provenance": [],
      "collapsed_sections": []
    },
    "kernelspec": {
      "name": "python3",
      "display_name": "Python 3"
    },
    "language_info": {
      "name": "python"
    }
  },
  "cells": [
    {
      "cell_type": "markdown",
      "source": [
        "<img align=\"right\" src=\"https://ds-cs-images.s3.ap-northeast-2.amazonaws.com/Codestates_Fulllogo_Color.png\" width=100>\n",
        "\n",
        "## *AIB / SECTION 2 / SPRINT 1 / NOTE 2*\n",
        "\n",
        "# 📝 Assignment\n",
        "---"
      ],
      "metadata": {
        "id": "b2JzhzEzaLC4"
      }
    },
    {
      "cell_type": "markdown",
      "source": [
        "# 🌱 **기본 과제**\n",
        "\n",
        "이번 과제에서도 n211 과제에서 다루었던 housing price dataset을 가지고 배운 내용을 연습해 보겠습니다. \n",
        "\n",
        "과제에서 사용\u001d할 데이터셋은 다음 링크에서 다운로드 받을 수 있습니다.\n",
        "\n",
        "   - [House Sales in King County, USA](https://www.kaggle.com/harlfoxem/housesalesprediction?select=kc_house_data.csv)"
      ],
      "metadata": {
        "id": "kyaj1xiyadVu"
      }
    },
    {
      "cell_type": "markdown",
      "source": [
        "## **Part 1. Validation**"
      ],
      "metadata": {
        "id": "-EH6j1Mxatdo"
      }
    },
    {
      "cell_type": "markdown",
      "source": [
        "### 1-1. 3-way holdout Method\n",
        "\n",
        "- 다운로드 한 훈련 데이터를 훈련/검증/테스트 세트로 나누어 주세요.\n",
        "- 타겟 특성을 확인하고 타겟 변수를 나누어 줍니다.\n",
        "- `train_test_split()`을 사용하여 전체 데이터를 훈련과 테스트 데이터로 나누어 주세요. \n",
        "  - 훈련과 테스트 데이터는 8:2의 비로 나눕니다.\n",
        "  - `random_state=2`로 설정합니다. \n",
        "- `train_test_split()`을 사용하여 훈련 데이터를 훈련과 검증 데이터로 나누어 주세요.\n",
        "  - 훈련과 검증 데이터는 8:2의 비로 나눕니다.\n",
        "  - `random_state=2`로 설정합니다."
      ],
      "metadata": {
        "id": "yQFVbzQslNWQ"
      }
    },
    {
      "cell_type": "markdown",
      "source": [
        "##### **Q1. 데이터를 분리하고 난 후 검증 세트(X_val)의 개수를 제출하세요.**"
      ],
      "metadata": {
        "id": "QeD9J3amrOFo"
      }
    },
    {
      "cell_type": "code",
      "source": [
        "# 데이터셋을 불러옵니다. \n",
        "\n",
        "import pandas as pd\n",
        "import numpy as np\n",
        "\n",
        "df = pd.read_csv('https://ds-lecture-data.s3.ap-northeast-2.amazonaws.com/kc_house_data/kc_house_data.csv')\n",
        "df"
      ],
      "metadata": {
        "colab": {
          "base_uri": "https://localhost:8080/",
          "height": 488
        },
        "id": "OIZcF8pLpv1-",
        "outputId": "b746b0e5-b235-4d14-ef91-6cbc5e7afa4a"
      },
      "execution_count": 1,
      "outputs": [
        {
          "output_type": "execute_result",
          "data": {
            "text/plain": [
              "               id             date     price  bedrooms  bathrooms  \\\n",
              "0      7129300520  20141013T000000  221900.0         3       1.00   \n",
              "1      6414100192  20141209T000000  538000.0         3       2.25   \n",
              "2      5631500400  20150225T000000  180000.0         2       1.00   \n",
              "3      2487200875  20141209T000000  604000.0         4       3.00   \n",
              "4      1954400510  20150218T000000  510000.0         3       2.00   \n",
              "...           ...              ...       ...       ...        ...   \n",
              "21608   263000018  20140521T000000  360000.0         3       2.50   \n",
              "21609  6600060120  20150223T000000  400000.0         4       2.50   \n",
              "21610  1523300141  20140623T000000  402101.0         2       0.75   \n",
              "21611   291310100  20150116T000000  400000.0         3       2.50   \n",
              "21612  1523300157  20141015T000000  325000.0         2       0.75   \n",
              "\n",
              "       sqft_living  sqft_lot  floors  waterfront  view  ...  grade  \\\n",
              "0             1180      5650     1.0           0     0  ...      7   \n",
              "1             2570      7242     2.0           0     0  ...      7   \n",
              "2              770     10000     1.0           0     0  ...      6   \n",
              "3             1960      5000     1.0           0     0  ...      7   \n",
              "4             1680      8080     1.0           0     0  ...      8   \n",
              "...            ...       ...     ...         ...   ...  ...    ...   \n",
              "21608         1530      1131     3.0           0     0  ...      8   \n",
              "21609         2310      5813     2.0           0     0  ...      8   \n",
              "21610         1020      1350     2.0           0     0  ...      7   \n",
              "21611         1600      2388     2.0           0     0  ...      8   \n",
              "21612         1020      1076     2.0           0     0  ...      7   \n",
              "\n",
              "       sqft_above  sqft_basement  yr_built  yr_renovated  zipcode      lat  \\\n",
              "0            1180              0      1955             0    98178  47.5112   \n",
              "1            2170            400      1951          1991    98125  47.7210   \n",
              "2             770              0      1933             0    98028  47.7379   \n",
              "3            1050            910      1965             0    98136  47.5208   \n",
              "4            1680              0      1987             0    98074  47.6168   \n",
              "...           ...            ...       ...           ...      ...      ...   \n",
              "21608        1530              0      2009             0    98103  47.6993   \n",
              "21609        2310              0      2014             0    98146  47.5107   \n",
              "21610        1020              0      2009             0    98144  47.5944   \n",
              "21611        1600              0      2004             0    98027  47.5345   \n",
              "21612        1020              0      2008             0    98144  47.5941   \n",
              "\n",
              "          long  sqft_living15  sqft_lot15  \n",
              "0     -122.257           1340        5650  \n",
              "1     -122.319           1690        7639  \n",
              "2     -122.233           2720        8062  \n",
              "3     -122.393           1360        5000  \n",
              "4     -122.045           1800        7503  \n",
              "...        ...            ...         ...  \n",
              "21608 -122.346           1530        1509  \n",
              "21609 -122.362           1830        7200  \n",
              "21610 -122.299           1020        2007  \n",
              "21611 -122.069           1410        1287  \n",
              "21612 -122.299           1020        1357  \n",
              "\n",
              "[21613 rows x 21 columns]"
            ],
            "text/html": [
              "\n",
              "  <div id=\"df-43cd2f9d-f848-49f4-a4d0-1249082cdf53\">\n",
              "    <div class=\"colab-df-container\">\n",
              "      <div>\n",
              "<style scoped>\n",
              "    .dataframe tbody tr th:only-of-type {\n",
              "        vertical-align: middle;\n",
              "    }\n",
              "\n",
              "    .dataframe tbody tr th {\n",
              "        vertical-align: top;\n",
              "    }\n",
              "\n",
              "    .dataframe thead th {\n",
              "        text-align: right;\n",
              "    }\n",
              "</style>\n",
              "<table border=\"1\" class=\"dataframe\">\n",
              "  <thead>\n",
              "    <tr style=\"text-align: right;\">\n",
              "      <th></th>\n",
              "      <th>id</th>\n",
              "      <th>date</th>\n",
              "      <th>price</th>\n",
              "      <th>bedrooms</th>\n",
              "      <th>bathrooms</th>\n",
              "      <th>sqft_living</th>\n",
              "      <th>sqft_lot</th>\n",
              "      <th>floors</th>\n",
              "      <th>waterfront</th>\n",
              "      <th>view</th>\n",
              "      <th>...</th>\n",
              "      <th>grade</th>\n",
              "      <th>sqft_above</th>\n",
              "      <th>sqft_basement</th>\n",
              "      <th>yr_built</th>\n",
              "      <th>yr_renovated</th>\n",
              "      <th>zipcode</th>\n",
              "      <th>lat</th>\n",
              "      <th>long</th>\n",
              "      <th>sqft_living15</th>\n",
              "      <th>sqft_lot15</th>\n",
              "    </tr>\n",
              "  </thead>\n",
              "  <tbody>\n",
              "    <tr>\n",
              "      <th>0</th>\n",
              "      <td>7129300520</td>\n",
              "      <td>20141013T000000</td>\n",
              "      <td>221900.0</td>\n",
              "      <td>3</td>\n",
              "      <td>1.00</td>\n",
              "      <td>1180</td>\n",
              "      <td>5650</td>\n",
              "      <td>1.0</td>\n",
              "      <td>0</td>\n",
              "      <td>0</td>\n",
              "      <td>...</td>\n",
              "      <td>7</td>\n",
              "      <td>1180</td>\n",
              "      <td>0</td>\n",
              "      <td>1955</td>\n",
              "      <td>0</td>\n",
              "      <td>98178</td>\n",
              "      <td>47.5112</td>\n",
              "      <td>-122.257</td>\n",
              "      <td>1340</td>\n",
              "      <td>5650</td>\n",
              "    </tr>\n",
              "    <tr>\n",
              "      <th>1</th>\n",
              "      <td>6414100192</td>\n",
              "      <td>20141209T000000</td>\n",
              "      <td>538000.0</td>\n",
              "      <td>3</td>\n",
              "      <td>2.25</td>\n",
              "      <td>2570</td>\n",
              "      <td>7242</td>\n",
              "      <td>2.0</td>\n",
              "      <td>0</td>\n",
              "      <td>0</td>\n",
              "      <td>...</td>\n",
              "      <td>7</td>\n",
              "      <td>2170</td>\n",
              "      <td>400</td>\n",
              "      <td>1951</td>\n",
              "      <td>1991</td>\n",
              "      <td>98125</td>\n",
              "      <td>47.7210</td>\n",
              "      <td>-122.319</td>\n",
              "      <td>1690</td>\n",
              "      <td>7639</td>\n",
              "    </tr>\n",
              "    <tr>\n",
              "      <th>2</th>\n",
              "      <td>5631500400</td>\n",
              "      <td>20150225T000000</td>\n",
              "      <td>180000.0</td>\n",
              "      <td>2</td>\n",
              "      <td>1.00</td>\n",
              "      <td>770</td>\n",
              "      <td>10000</td>\n",
              "      <td>1.0</td>\n",
              "      <td>0</td>\n",
              "      <td>0</td>\n",
              "      <td>...</td>\n",
              "      <td>6</td>\n",
              "      <td>770</td>\n",
              "      <td>0</td>\n",
              "      <td>1933</td>\n",
              "      <td>0</td>\n",
              "      <td>98028</td>\n",
              "      <td>47.7379</td>\n",
              "      <td>-122.233</td>\n",
              "      <td>2720</td>\n",
              "      <td>8062</td>\n",
              "    </tr>\n",
              "    <tr>\n",
              "      <th>3</th>\n",
              "      <td>2487200875</td>\n",
              "      <td>20141209T000000</td>\n",
              "      <td>604000.0</td>\n",
              "      <td>4</td>\n",
              "      <td>3.00</td>\n",
              "      <td>1960</td>\n",
              "      <td>5000</td>\n",
              "      <td>1.0</td>\n",
              "      <td>0</td>\n",
              "      <td>0</td>\n",
              "      <td>...</td>\n",
              "      <td>7</td>\n",
              "      <td>1050</td>\n",
              "      <td>910</td>\n",
              "      <td>1965</td>\n",
              "      <td>0</td>\n",
              "      <td>98136</td>\n",
              "      <td>47.5208</td>\n",
              "      <td>-122.393</td>\n",
              "      <td>1360</td>\n",
              "      <td>5000</td>\n",
              "    </tr>\n",
              "    <tr>\n",
              "      <th>4</th>\n",
              "      <td>1954400510</td>\n",
              "      <td>20150218T000000</td>\n",
              "      <td>510000.0</td>\n",
              "      <td>3</td>\n",
              "      <td>2.00</td>\n",
              "      <td>1680</td>\n",
              "      <td>8080</td>\n",
              "      <td>1.0</td>\n",
              "      <td>0</td>\n",
              "      <td>0</td>\n",
              "      <td>...</td>\n",
              "      <td>8</td>\n",
              "      <td>1680</td>\n",
              "      <td>0</td>\n",
              "      <td>1987</td>\n",
              "      <td>0</td>\n",
              "      <td>98074</td>\n",
              "      <td>47.6168</td>\n",
              "      <td>-122.045</td>\n",
              "      <td>1800</td>\n",
              "      <td>7503</td>\n",
              "    </tr>\n",
              "    <tr>\n",
              "      <th>...</th>\n",
              "      <td>...</td>\n",
              "      <td>...</td>\n",
              "      <td>...</td>\n",
              "      <td>...</td>\n",
              "      <td>...</td>\n",
              "      <td>...</td>\n",
              "      <td>...</td>\n",
              "      <td>...</td>\n",
              "      <td>...</td>\n",
              "      <td>...</td>\n",
              "      <td>...</td>\n",
              "      <td>...</td>\n",
              "      <td>...</td>\n",
              "      <td>...</td>\n",
              "      <td>...</td>\n",
              "      <td>...</td>\n",
              "      <td>...</td>\n",
              "      <td>...</td>\n",
              "      <td>...</td>\n",
              "      <td>...</td>\n",
              "      <td>...</td>\n",
              "    </tr>\n",
              "    <tr>\n",
              "      <th>21608</th>\n",
              "      <td>263000018</td>\n",
              "      <td>20140521T000000</td>\n",
              "      <td>360000.0</td>\n",
              "      <td>3</td>\n",
              "      <td>2.50</td>\n",
              "      <td>1530</td>\n",
              "      <td>1131</td>\n",
              "      <td>3.0</td>\n",
              "      <td>0</td>\n",
              "      <td>0</td>\n",
              "      <td>...</td>\n",
              "      <td>8</td>\n",
              "      <td>1530</td>\n",
              "      <td>0</td>\n",
              "      <td>2009</td>\n",
              "      <td>0</td>\n",
              "      <td>98103</td>\n",
              "      <td>47.6993</td>\n",
              "      <td>-122.346</td>\n",
              "      <td>1530</td>\n",
              "      <td>1509</td>\n",
              "    </tr>\n",
              "    <tr>\n",
              "      <th>21609</th>\n",
              "      <td>6600060120</td>\n",
              "      <td>20150223T000000</td>\n",
              "      <td>400000.0</td>\n",
              "      <td>4</td>\n",
              "      <td>2.50</td>\n",
              "      <td>2310</td>\n",
              "      <td>5813</td>\n",
              "      <td>2.0</td>\n",
              "      <td>0</td>\n",
              "      <td>0</td>\n",
              "      <td>...</td>\n",
              "      <td>8</td>\n",
              "      <td>2310</td>\n",
              "      <td>0</td>\n",
              "      <td>2014</td>\n",
              "      <td>0</td>\n",
              "      <td>98146</td>\n",
              "      <td>47.5107</td>\n",
              "      <td>-122.362</td>\n",
              "      <td>1830</td>\n",
              "      <td>7200</td>\n",
              "    </tr>\n",
              "    <tr>\n",
              "      <th>21610</th>\n",
              "      <td>1523300141</td>\n",
              "      <td>20140623T000000</td>\n",
              "      <td>402101.0</td>\n",
              "      <td>2</td>\n",
              "      <td>0.75</td>\n",
              "      <td>1020</td>\n",
              "      <td>1350</td>\n",
              "      <td>2.0</td>\n",
              "      <td>0</td>\n",
              "      <td>0</td>\n",
              "      <td>...</td>\n",
              "      <td>7</td>\n",
              "      <td>1020</td>\n",
              "      <td>0</td>\n",
              "      <td>2009</td>\n",
              "      <td>0</td>\n",
              "      <td>98144</td>\n",
              "      <td>47.5944</td>\n",
              "      <td>-122.299</td>\n",
              "      <td>1020</td>\n",
              "      <td>2007</td>\n",
              "    </tr>\n",
              "    <tr>\n",
              "      <th>21611</th>\n",
              "      <td>291310100</td>\n",
              "      <td>20150116T000000</td>\n",
              "      <td>400000.0</td>\n",
              "      <td>3</td>\n",
              "      <td>2.50</td>\n",
              "      <td>1600</td>\n",
              "      <td>2388</td>\n",
              "      <td>2.0</td>\n",
              "      <td>0</td>\n",
              "      <td>0</td>\n",
              "      <td>...</td>\n",
              "      <td>8</td>\n",
              "      <td>1600</td>\n",
              "      <td>0</td>\n",
              "      <td>2004</td>\n",
              "      <td>0</td>\n",
              "      <td>98027</td>\n",
              "      <td>47.5345</td>\n",
              "      <td>-122.069</td>\n",
              "      <td>1410</td>\n",
              "      <td>1287</td>\n",
              "    </tr>\n",
              "    <tr>\n",
              "      <th>21612</th>\n",
              "      <td>1523300157</td>\n",
              "      <td>20141015T000000</td>\n",
              "      <td>325000.0</td>\n",
              "      <td>2</td>\n",
              "      <td>0.75</td>\n",
              "      <td>1020</td>\n",
              "      <td>1076</td>\n",
              "      <td>2.0</td>\n",
              "      <td>0</td>\n",
              "      <td>0</td>\n",
              "      <td>...</td>\n",
              "      <td>7</td>\n",
              "      <td>1020</td>\n",
              "      <td>0</td>\n",
              "      <td>2008</td>\n",
              "      <td>0</td>\n",
              "      <td>98144</td>\n",
              "      <td>47.5941</td>\n",
              "      <td>-122.299</td>\n",
              "      <td>1020</td>\n",
              "      <td>1357</td>\n",
              "    </tr>\n",
              "  </tbody>\n",
              "</table>\n",
              "<p>21613 rows × 21 columns</p>\n",
              "</div>\n",
              "      <button class=\"colab-df-convert\" onclick=\"convertToInteractive('df-43cd2f9d-f848-49f4-a4d0-1249082cdf53')\"\n",
              "              title=\"Convert this dataframe to an interactive table.\"\n",
              "              style=\"display:none;\">\n",
              "        \n",
              "  <svg xmlns=\"http://www.w3.org/2000/svg\" height=\"24px\"viewBox=\"0 0 24 24\"\n",
              "       width=\"24px\">\n",
              "    <path d=\"M0 0h24v24H0V0z\" fill=\"none\"/>\n",
              "    <path d=\"M18.56 5.44l.94 2.06.94-2.06 2.06-.94-2.06-.94-.94-2.06-.94 2.06-2.06.94zm-11 1L8.5 8.5l.94-2.06 2.06-.94-2.06-.94L8.5 2.5l-.94 2.06-2.06.94zm10 10l.94 2.06.94-2.06 2.06-.94-2.06-.94-.94-2.06-.94 2.06-2.06.94z\"/><path d=\"M17.41 7.96l-1.37-1.37c-.4-.4-.92-.59-1.43-.59-.52 0-1.04.2-1.43.59L10.3 9.45l-7.72 7.72c-.78.78-.78 2.05 0 2.83L4 21.41c.39.39.9.59 1.41.59.51 0 1.02-.2 1.41-.59l7.78-7.78 2.81-2.81c.8-.78.8-2.07 0-2.86zM5.41 20L4 18.59l7.72-7.72 1.47 1.35L5.41 20z\"/>\n",
              "  </svg>\n",
              "      </button>\n",
              "      \n",
              "  <style>\n",
              "    .colab-df-container {\n",
              "      display:flex;\n",
              "      flex-wrap:wrap;\n",
              "      gap: 12px;\n",
              "    }\n",
              "\n",
              "    .colab-df-convert {\n",
              "      background-color: #E8F0FE;\n",
              "      border: none;\n",
              "      border-radius: 50%;\n",
              "      cursor: pointer;\n",
              "      display: none;\n",
              "      fill: #1967D2;\n",
              "      height: 32px;\n",
              "      padding: 0 0 0 0;\n",
              "      width: 32px;\n",
              "    }\n",
              "\n",
              "    .colab-df-convert:hover {\n",
              "      background-color: #E2EBFA;\n",
              "      box-shadow: 0px 1px 2px rgba(60, 64, 67, 0.3), 0px 1px 3px 1px rgba(60, 64, 67, 0.15);\n",
              "      fill: #174EA6;\n",
              "    }\n",
              "\n",
              "    [theme=dark] .colab-df-convert {\n",
              "      background-color: #3B4455;\n",
              "      fill: #D2E3FC;\n",
              "    }\n",
              "\n",
              "    [theme=dark] .colab-df-convert:hover {\n",
              "      background-color: #434B5C;\n",
              "      box-shadow: 0px 1px 3px 1px rgba(0, 0, 0, 0.15);\n",
              "      filter: drop-shadow(0px 1px 2px rgba(0, 0, 0, 0.3));\n",
              "      fill: #FFFFFF;\n",
              "    }\n",
              "  </style>\n",
              "\n",
              "      <script>\n",
              "        const buttonEl =\n",
              "          document.querySelector('#df-43cd2f9d-f848-49f4-a4d0-1249082cdf53 button.colab-df-convert');\n",
              "        buttonEl.style.display =\n",
              "          google.colab.kernel.accessAllowed ? 'block' : 'none';\n",
              "\n",
              "        async function convertToInteractive(key) {\n",
              "          const element = document.querySelector('#df-43cd2f9d-f848-49f4-a4d0-1249082cdf53');\n",
              "          const dataTable =\n",
              "            await google.colab.kernel.invokeFunction('convertToInteractive',\n",
              "                                                     [key], {});\n",
              "          if (!dataTable) return;\n",
              "\n",
              "          const docLinkHtml = 'Like what you see? Visit the ' +\n",
              "            '<a target=\"_blank\" href=https://colab.research.google.com/notebooks/data_table.ipynb>data table notebook</a>'\n",
              "            + ' to learn more about interactive tables.';\n",
              "          element.innerHTML = '';\n",
              "          dataTable['output_type'] = 'display_data';\n",
              "          await google.colab.output.renderOutput(dataTable, element);\n",
              "          const docLink = document.createElement('div');\n",
              "          docLink.innerHTML = docLinkHtml;\n",
              "          element.appendChild(docLink);\n",
              "        }\n",
              "      </script>\n",
              "    </div>\n",
              "  </div>\n",
              "  "
            ]
          },
          "metadata": {},
          "execution_count": 1
        }
      ]
    },
    {
      "cell_type": "code",
      "source": [
        "# 컬럼 확인\n",
        "df.columns"
      ],
      "metadata": {
        "colab": {
          "base_uri": "https://localhost:8080/"
        },
        "id": "zzJndNUIq6sa",
        "outputId": "75d00c46-006b-479f-bf84-a78250d299a2"
      },
      "execution_count": 2,
      "outputs": [
        {
          "output_type": "execute_result",
          "data": {
            "text/plain": [
              "Index(['id', 'date', 'price', 'bedrooms', 'bathrooms', 'sqft_living',\n",
              "       'sqft_lot', 'floors', 'waterfront', 'view', 'condition', 'grade',\n",
              "       'sqft_above', 'sqft_basement', 'yr_built', 'yr_renovated', 'zipcode',\n",
              "       'lat', 'long', 'sqft_living15', 'sqft_lot15'],\n",
              "      dtype='object')"
            ]
          },
          "metadata": {},
          "execution_count": 2
        }
      ]
    },
    {
      "cell_type": "code",
      "source": [
        "from sklearn.model_selection import train_test_split\n",
        "\n",
        "target = 'price'\n",
        "features = ['bedrooms', 'bathrooms', 'sqft_living']"
      ],
      "metadata": {
        "id": "qtjD187tmL8i"
      },
      "execution_count": 3,
      "outputs": []
    },
    {
      "cell_type": "code",
      "source": [
        "# solution\n",
        "X = df[features]\n",
        "y = df[target]\n",
        "\n",
        "X_train, X_test, y_train, y_test = train_test_split(X, y, test_size=0.2, random_state=2)\n",
        "X_train, X_val, y_train, y_val = train_test_split(X_train, y_train, test_size=0.2, random_state=2)\n",
        "\n",
        "\n",
        "print(X_train.shape, y_train.shape)\n",
        "print(X_val.shape, y_val.shape)\n",
        "print(X_test.shape, y_test.shape)"
      ],
      "metadata": {
        "colab": {
          "base_uri": "https://localhost:8080/"
        },
        "id": "IZRZqLD4FRm-",
        "outputId": "ed5cb57f-a892-434f-e89a-64e15dfb7e2f"
      },
      "execution_count": 4,
      "outputs": [
        {
          "output_type": "stream",
          "name": "stdout",
          "text": [
            "(13832, 3) (13832,)\n",
            "(3458, 3) (3458,)\n",
            "(4323, 3) (4323,)\n"
          ]
        }
      ]
    },
    {
      "cell_type": "code",
      "source": [
        "X_val.shape[0]"
      ],
      "metadata": {
        "colab": {
          "base_uri": "https://localhost:8080/"
        },
        "id": "S6pJX1zhoZwm",
        "outputId": "3b2292bd-c546-4e9a-f354-b4f80dffee12"
      },
      "execution_count": 5,
      "outputs": [
        {
          "output_type": "execute_result",
          "data": {
            "text/plain": [
              "3458"
            ]
          },
          "metadata": {},
          "execution_count": 5
        }
      ]
    },
    {
      "cell_type": "markdown",
      "source": [
        "##### **Q2. 선형회귀모델을 만들어보고 RMSE를 사용한 훈련 점수와 검증 점수의 차를 구하고 제출하세요. (소수점 아래 2자리까지)**\n",
        "- 모델을 만들기 전에 평균 기준모델을 만들고 확인해보세요.\n",
        "- 선형회귀모델을 만들어보고 훈련 점수와 검증 점수를 비교해보세요.\n",
        "- 마지막으로 test set를 사용해서 모델의 일반화 성능을 확인해보세요."
      ],
      "metadata": {
        "id": "PSjX2irGyy_R"
      }
    },
    {
      "cell_type": "code",
      "source": [
        "from sklearn.linear_model import LinearRegression\n",
        "from sklearn.metrics import mean_squared_error, mean_absolute_error, r2_score\n",
        "\n",
        "# solution\n",
        "baseline = [y_train.mean()] * len(y_train)\n",
        "\n",
        "model = LinearRegression()\n",
        "model.fit(X_train, y_train)\n",
        "\n",
        "y_train_pred = model.predict(X_train)\n",
        "y_val_pred = model.predict(X_val)\n",
        "y_test_pred = model.predict(X_test)\n",
        "\n",
        "# rmse = mean_squared_error(squared=False)\n",
        "baseline_score = mean_squared_error(baseline, y_train, squared=False)\n",
        "train_score = mean_squared_error(y_train_pred, y_train, squared=False)\n",
        "val_score = mean_squared_error(y_val_pred, y_val, squared=False)\n",
        "test_score = mean_squared_error(y_test_pred, y_test, squared=False)\n",
        "\n",
        "print(baseline_score, train_score, val_score, test_score)\n",
        "round(train_score - val_score, 2)"
      ],
      "metadata": {
        "colab": {
          "base_uri": "https://localhost:8080/"
        },
        "id": "5cK2fTBTs811",
        "outputId": "7cef74e8-ad50-4a1f-a212-d5ade8340668"
      },
      "execution_count": 6,
      "outputs": [
        {
          "output_type": "stream",
          "name": "stdout",
          "text": [
            "367846.0990657101 257653.37363570312 256024.3912741447 259822.31414408985\n"
          ]
        },
        {
          "output_type": "execute_result",
          "data": {
            "text/plain": [
              "1628.98"
            ]
          },
          "metadata": {},
          "execution_count": 6
        }
      ]
    },
    {
      "cell_type": "markdown",
      "source": [
        "### **1-2. Cross_validation**\n",
        "\n",
        "- **1-1**과 동일한 조건으로 데이터를 다시 train set과 test set으로만 나누세요.\n",
        "- 교차검증을 통해 나온 결과를 제출하세요.\n",
        "  - sklearn의 `cross_val_score` 라이브러리를 사용하세요.\n",
        "  - **10-fold** cross validation\u001d을 수행하세요.\n",
        "  - cv 수행 시 scoring metric은 **RMSE** 로 연산하도록 설정해주세요.\n",
        "  \n"
      ],
      "metadata": {
        "id": "SjNNzi1HsKpj"
      }
    },
    {
      "cell_type": "markdown",
      "source": [
        "##### **Q3. 결과를 평균 낸 값의 절대값을 제출해주세요.**"
      ],
      "metadata": {
        "id": "-GRjVxmx25OC"
      }
    },
    {
      "cell_type": "code",
      "source": [
        "# solution\n",
        "X_train_cv, X_test_cv, y_train_cv, y_test_cv = train_test_split(X, y, test_size=0.2, random_state=2)\n",
        "\n",
        "print(X_train_cv.shape, X_test_cv.shape)"
      ],
      "metadata": {
        "colab": {
          "base_uri": "https://localhost:8080/"
        },
        "id": "FzvqpMvP2-kO",
        "outputId": "18c784e7-7390-46ed-bd1f-2f25fb298588"
      },
      "execution_count": 7,
      "outputs": [
        {
          "output_type": "stream",
          "name": "stdout",
          "text": [
            "(17290, 3) (4323, 3)\n"
          ]
        }
      ]
    },
    {
      "cell_type": "code",
      "source": [
        "from sklearn.model_selection import cross_val_score\n",
        "\n",
        "cv_results = cross_val_score(\n",
        "    model, \n",
        "    X_train_cv, \n",
        "    y_train_cv, \n",
        "    cv=10,\n",
        "    scoring=\"neg_root_mean_squared_error\",\n",
        "    n_jobs=-1\n",
        "    )\n",
        "\n",
        "print(np.abs(cv_results.mean()).round(2))\n",
        "print(np.abs(np.mean(cv_results)).round(2))"
      ],
      "metadata": {
        "colab": {
          "base_uri": "https://localhost:8080/"
        },
        "id": "lc1LM6uXAWCO",
        "outputId": "e8c46165-4177-40e6-fc3c-94f4c4f5a632"
      },
      "execution_count": 8,
      "outputs": [
        {
          "output_type": "stream",
          "name": "stdout",
          "text": [
            "257024.15\n",
            "257024.15\n"
          ]
        }
      ]
    },
    {
      "cell_type": "markdown",
      "source": [
        "## **Part 2. Overfit/Underfit**\n",
        "\n"
      ],
      "metadata": {
        "id": "AIqkafZkaxMu"
      }
    },
    {
      "cell_type": "markdown",
      "source": [
        "### **2-1. 과적합**\n",
        "\n",
        "- 다항선형회귀를 만들고 최적의 `차수(degree)`를 찾아보세요.\n",
        "  - 주어진 리스트 `degree` 요소 중에서 검증 에러가 가장 낮은 차수를 찾아보세요.\n",
        "  - 에러를 비교하기 위한 평가지표는 자유롭게 사용해도 좋습니다.\n",
        "  - 훈련 에러와 검증 에러를 `train_error`와 `val_error`에 담아보세요\n",
        "  - 아래 주석을 풀고 `Learning curve`를 그려보세요.\n"
      ],
      "metadata": {
        "id": "eqF4_E9X5TDP"
      }
    },
    {
      "cell_type": "markdown",
      "source": [
        "##### **Q4. 다항선형회귀를 만들고 최적의 차수를 찾아 제출해주세요.**"
      ],
      "metadata": {
        "id": "11i-s50ajR5a"
      }
    },
    {
      "cell_type": "code",
      "source": [
        "from matplotlib import pyplot as plt\n",
        "\n",
        "degrees = [1, 2, 3, 4, 5]\n",
        "\n",
        "best_degree = None\n",
        "\n",
        "# plt.plot(train_error, color='blue');\n",
        "# plt.plot(val_error, color='orange');\n",
        "# plt.xticks(range(len(degrees)), labels=degrees);"
      ],
      "metadata": {
        "id": "raBILCjfhu8y"
      },
      "execution_count": 9,
      "outputs": []
    },
    {
      "cell_type": "code",
      "source": [
        "# solution\n",
        "from sklearn.pipeline import make_pipeline\n",
        "from sklearn.preprocessing import PolynomialFeatures\n",
        "\n",
        "def PolynomialRegression(degree, **kwargs):\n",
        "    return make_pipeline(PolynomialFeatures(degree), \n",
        "                         LinearRegression(**kwargs))\n",
        "\n",
        "def eval_models(y_pred, y_val) :\n",
        "    mse = mean_squared_error(y_val, y_pred)\n",
        "    rmse = np.sqrt(mse)\n",
        "    mae = mean_absolute_error(y_val, y_pred)\n",
        "    r2 = r2_score(y_val, y_pred)\n",
        "\n",
        "    return mse, rmse, mae, r2\n",
        "\n",
        "train_error = [] \n",
        "val_error = []\n",
        "\n",
        "for i in degrees:\n",
        "  poly_ols = PolynomialRegression(degree=i)\n",
        "  poly_ols.fit(X_train, y_train)\n",
        "  y_train_pred_poly = poly_ols.predict(X_train)\n",
        "  y_val_pred_poly = poly_ols.predict(X_val)\n",
        "  print(f\"degree {i}\", eval_models(y_val_pred_poly, y_val))\n",
        "\n",
        "  train_error.append(eval_models(y_train_pred_poly, y_train)[2]) # mae\n",
        "  val_error.append(eval_models(y_val_pred_poly, y_val)[2]) # mae\n",
        "\n",
        "# mse, rmse, mae >> find the index of the min error value + 1\n",
        "best_degree = int(val_error.index(min(val_error)))+1 \n",
        "print(\"best degree :\", best_degree)\n",
        "\n",
        "plt.plot(train_error, color='#6495ED');\n",
        "plt.plot(val_error, color='#FF8C00');\n",
        "plt.xticks(range(len(degrees)), labels=degrees);\n",
        "plt.axvline(best_degree - 1);"
      ],
      "metadata": {
        "id": "csYD_WxRiBOZ",
        "colab": {
          "base_uri": "https://localhost:8080/",
          "height": 372
        },
        "outputId": "f4b61461-4a65-41f7-825d-8630c41a2e65"
      },
      "execution_count": 10,
      "outputs": [
        {
          "output_type": "stream",
          "name": "stdout",
          "text": [
            "degree 1 (65548488927.29533, 256024.39127414272, 170429.06744043276, 0.4819386780307512)\n",
            "degree 2 (62903090387.49583, 250804.88509495946, 163571.37257225608, 0.5028465385641061)\n",
            "degree 3 (63818339359.14725, 252622.91930691333, 163982.1778124932, 0.49561288451739494)\n",
            "degree 4 (68310971961.07161, 261363.6775856041, 164179.12292014298, 0.46010544227175243)\n",
            "degree 5 (73606192461.49886, 271304.61194292083, 166145.79705191738, 0.418254760776825)\n",
            "best degree : 2\n"
          ]
        },
        {
          "output_type": "display_data",
          "data": {
            "text/plain": [
              "<Figure size 432x288 with 1 Axes>"
            ],
            "image/png": "[encoded data removed]"
          },
          "metadata": {
            "needs_background": "light"
          }
        }
      ]
    },
    {
      "cell_type": "code",
      "source": [
        "# r2_score\n",
        "train_error = [] \n",
        "val_error = []\n",
        "best_degree = None\n",
        "\n",
        "for i in degrees:\n",
        "  poly_ols = PolynomialRegression(degree=i)\n",
        "  poly_ols.fit(X_train, y_train)\n",
        "  y_train_pred_poly = poly_ols.predict(X_train)\n",
        "  y_val_pred_poly = poly_ols.predict(X_val)\n",
        "  print(f\"degree {i}\", eval_models(y_val_pred_poly, y_val))\n",
        "\n",
        "  train_error.append(eval_models(y_train_pred_poly, y_train)[3]) # r2_score\n",
        "  val_error.append(eval_models(y_val_pred_poly, y_val)[3]) # r2_score\n",
        "\n",
        "best_degree = int(val_error.index(max(val_error))) + 1\n",
        "# r2_score >>  find the index of the max score value + 1\n",
        "print(\"best degree :\", best_degree)\n",
        "\n",
        "plt.plot(train_error, color='#6495ED');\n",
        "plt.plot(val_error, color='#FF8C00');\n",
        "plt.xticks(range(len(degrees)), labels=degrees);\n",
        "plt.axvline(best_degree - 1);"
      ],
      "metadata": {
        "colab": {
          "base_uri": "https://localhost:8080/",
          "height": 373
        },
        "id": "JlH1qDnMTBGV",
        "outputId": "6b377ef6-d00c-4edf-8cb2-42e01c9af9bc"
      },
      "execution_count": 11,
      "outputs": [
        {
          "output_type": "stream",
          "name": "stdout",
          "text": [
            "degree 1 (65548488927.29533, 256024.39127414272, 170429.06744043276, 0.4819386780307512)\n",
            "degree 2 (62903090387.49583, 250804.88509495946, 163571.37257225608, 0.5028465385641061)\n",
            "degree 3 (63818339359.14725, 252622.91930691333, 163982.1778124932, 0.49561288451739494)\n",
            "degree 4 (68310971961.07161, 261363.6775856041, 164179.12292014298, 0.46010544227175243)\n",
            "degree 5 (73606192461.49886, 271304.61194292083, 166145.79705191738, 0.418254760776825)\n",
            "best degree : 2\n"
          ]
        },
        {
          "output_type": "display_data",
          "data": {
            "text/plain": [
              "<Figure size 432x288 with 1 Axes>"
            ],
            "image/png": "[encoded data removed]"
          },
          "metadata": {
            "needs_background": "light"
          }
        }
      ]
    },
    {
      "cell_type": "markdown",
      "source": [
        "## **Part 3. Generalization**"
      ],
      "metadata": {
        "id": "Z9zsih0GFqlD"
      }
    },
    {
      "cell_type": "markdown",
      "source": [
        "### **3-1. 일반화**\n",
        "\n",
        "- **`Test Set`**을 딱 한 번만 사용해서 모델의 **`일반화`** 성능을 확인하세요.\n",
        "  - 학습시킨 다항선형회귀 모델의 **`훈련 점수와 테스트 점수`**를 구해보세요."
      ],
      "metadata": {
        "id": "gqDDsD_9G2lr"
      }
    },
    {
      "cell_type": "markdown",
      "source": [
        "##### **Q5. MAE를 사용한 테스트 점수와 훈련 점수의 차를 구하고 제출하세요. (소수점 아래 2자리까지)**\n"
      ],
      "metadata": {
        "id": "rKqkuvfJIYgS"
      }
    },
    {
      "cell_type": "code",
      "source": [
        "poly_ols = PolynomialRegression(degree=best_degree)\n",
        "poly_ols.fit(X_train, y_train)\n",
        "y_train_pred_poly = poly_ols.predict(X_train)\n",
        "y_test_pred_poly = poly_ols.predict(X_test)\n",
        "\n",
        "train_score = eval_models(y_train_pred_poly, y_train)[2]\n",
        "test_score = eval_models(y_test_pred_poly, y_test)[2]\n",
        "print(\"train_score :\", train_score, \"\\n\",\n",
        "      \"test_score :\", test_score)"
      ],
      "metadata": {
        "colab": {
          "base_uri": "https://localhost:8080/"
        },
        "id": "gjRPW0tYEk1s",
        "outputId": "fc7610f7-072e-4500-9f1e-63a4ab085410"
      },
      "execution_count": 12,
      "outputs": [
        {
          "output_type": "stream",
          "name": "stdout",
          "text": [
            "train_score : 163162.69103260152 \n",
            " test_score : 166281.6792674509\n"
          ]
        }
      ]
    },
    {
      "cell_type": "code",
      "source": [
        "print(\"테스트 점수와 훈련 점수의 차 :\", round(test_score - train_score, 2))"
      ],
      "metadata": {
        "colab": {
          "base_uri": "https://localhost:8080/"
        },
        "id": "d2n4gU9PJlEo",
        "outputId": "74a8b2bb-c1b0-4a01-9fe6-b2ac38748a6a"
      },
      "execution_count": 13,
      "outputs": [
        {
          "output_type": "stream",
          "name": "stdout",
          "text": [
            "테스트 점수와 훈련 점수의 차 : 3118.99\n"
          ]
        }
      ]
    },
    {
      "cell_type": "markdown",
      "source": [
        "# 🥇 **도전 과제**\n",
        "\n",
        "- **과제에서 만든 모델의 성능을 개선해보세요.**\n",
        "    - **`EDA`**를 통해 추가로 학습에 사용할 특성을 찾고 모델을 새로 학습해보세요.\n",
        "    - 여러분의 다양한 아이디어로 **`특성 공학(Feature Engineering)`**을 수행해 볼 수도 있습니다.\n",
        "    - 마지막에 모델 성능의 개선 여부와 왜 그 결과가 나왔는지에 대한 **`인사이트`**를 공유해주세요.\n"
      ],
      "metadata": {
        "id": "MAdX9sdSUVdQ"
      }
    }
  ]
}