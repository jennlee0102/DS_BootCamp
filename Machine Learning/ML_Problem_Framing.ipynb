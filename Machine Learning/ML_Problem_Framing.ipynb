{
  "nbformat": 4,
  "nbformat_minor": 0,
  "metadata": {
    "colab": {
      "provenance": []
    },
    "kernelspec": {
      "name": "python3",
      "display_name": "Python 3"
    },
    "language_info": {
      "name": "python"
    }
  },
  "cells": [
    {
      "cell_type": "markdown",
      "source": [
        "<img align=\"right\" src=\"https://ds-cs-images.s3.ap-northeast-2.amazonaws.com/Codestates_Fulllogo_Color.png\" width = '100' align = 'right'>\n",
        "\n",
        "## *AIB / SECTION 2 / SPRINT 3 / NOTE 3*\n",
        "\n",
        "# 📝 Assignment"
      ],
      "metadata": {
        "id": "nCc3XZEyG3XV"
      }
    },
    {
      "cell_type": "markdown",
      "source": [
        "# 🌱 **기본 과제**"
      ],
      "metadata": {
        "id": "l3VB63QEq7xo"
      }
    },
    {
      "cell_type": "code",
      "source": [
        "!pip install category_encoders "
      ],
      "metadata": {
        "id": "x-NS_0Lw1hbE"
      },
      "execution_count": null,
      "outputs": []
    },
    {
      "cell_type": "code",
      "source": [
        "import seaborn as sns\n",
        "from sklearn.model_selection import train_test_split\n",
        "from category_encoders import OrdinalEncoder\n",
        "from sklearn.pipeline import make_pipeline\n",
        "from sklearn.tree import DecisionTreeClassifier "
      ],
      "metadata": {
        "id": "_jFQCpaK2X1I"
      },
      "execution_count": null,
      "outputs": []
    },
    {
      "cell_type": "markdown",
      "source": [
        "## **Part 1. 분류/회귀 문제**\n",
        "> 다이아몬드를 보관하기 위해 금고를 만들었습니다. 금고가 너무 작아서 가격이 상위 25% 이상인 것만 보관하려고 합니다. 이를 위해 `price` 특성을 이용해 금고에 보관할 다이아몬드와 그렇지 않은 것으로 분류하는 이진 분류 컬럼을 만들어 타겟 특성으로 사용할 것입니다.\n",
        "\n",
        "- `diamonds` 데이터셋을 불러오세요.\n",
        "- `top25`라는 새로운 타겟 변수(컬럼)를 만들어 주세요. \n",
        "  - `price` 값이 상위 25% 이상이면 `True`, 상위 25% 미만이면 `False`가 되도록 `top25`에 저장하세요. "
      ],
      "metadata": {
        "id": "-RGGs4ND6Bar"
      }
    },
    {
      "cell_type": "markdown",
      "source": [
        "##### **Q1. 타겟 특성의 최빈값의 빈도(샘플 수)를 제출하세요.**"
      ],
      "metadata": {
        "id": "6u4ZdxeA6sf5"
      }
    },
    {
      "cell_type": "code",
      "source": [
        "# 데이터셋 불러오기\n",
        "\n",
        "diamonds = sns.load_dataset('diamonds')"
      ],
      "metadata": {
        "id": "36hStCH_6Sb-"
      },
      "execution_count": null,
      "outputs": []
    },
    {
      "cell_type": "code",
      "source": [
        "top25 = diamonds['price'].quantile(0.75)\n",
        "diamonds['top25'] = diamonds['price'] >= top25"
      ],
      "metadata": {
        "id": "lSx-jeLAoRqu"
      },
      "execution_count": null,
      "outputs": []
    },
    {
      "cell_type": "code",
      "source": [
        "diamonds['top25'].value_counts()"
      ],
      "metadata": {
        "colab": {
          "base_uri": "https://localhost:8080/"
        },
        "id": "xFltYTTMolum",
        "outputId": "4813c01d-5f83-4a2c-ee3a-975325eb1af7"
      },
      "execution_count": null,
      "outputs": [
        {
          "output_type": "execute_result",
          "data": {
            "text/plain": [
              "False    40455\n",
              "True     13485\n",
              "Name: top25, dtype: int64"
            ]
          },
          "metadata": {},
          "execution_count": 5
        }
      ]
    },
    {
      "cell_type": "code",
      "source": [
        "diamonds.head()"
      ],
      "metadata": {
        "colab": {
          "base_uri": "https://localhost:8080/",
          "height": 206
        },
        "id": "ThAnEbO7mc0I",
        "outputId": "fd467531-2578-4fbf-a026-3dbefccde370"
      },
      "execution_count": null,
      "outputs": [
        {
          "output_type": "execute_result",
          "data": {
            "text/plain": [
              "   carat      cut color clarity  depth  table  price     x     y     z  top25\n",
              "0   0.23    Ideal     E     SI2   61.5   55.0    326  3.95  3.98  2.43  False\n",
              "1   0.21  Premium     E     SI1   59.8   61.0    326  3.89  3.84  2.31  False\n",
              "2   0.23     Good     E     VS1   56.9   65.0    327  4.05  4.07  2.31  False\n",
              "3   0.29  Premium     I     VS2   62.4   58.0    334  4.20  4.23  2.63  False\n",
              "4   0.31     Good     J     SI2   63.3   58.0    335  4.34  4.35  2.75  False"
            ],
            "text/html": [
              "\n",
              "  <div id=\"df-bdf5a0ba-cde5-413a-975a-4dd60709737e\">\n",
              "    <div class=\"colab-df-container\">\n",
              "      <div>\n",
              "<style scoped>\n",
              "    .dataframe tbody tr th:only-of-type {\n",
              "        vertical-align: middle;\n",
              "    }\n",
              "\n",
              "    .dataframe tbody tr th {\n",
              "        vertical-align: top;\n",
              "    }\n",
              "\n",
              "    .dataframe thead th {\n",
              "        text-align: right;\n",
              "    }\n",
              "</style>\n",
              "<table border=\"1\" class=\"dataframe\">\n",
              "  <thead>\n",
              "    <tr style=\"text-align: right;\">\n",
              "      <th></th>\n",
              "      <th>carat</th>\n",
              "      <th>cut</th>\n",
              "      <th>color</th>\n",
              "      <th>clarity</th>\n",
              "      <th>depth</th>\n",
              "      <th>table</th>\n",
              "      <th>price</th>\n",
              "      <th>x</th>\n",
              "      <th>y</th>\n",
              "      <th>z</th>\n",
              "      <th>top25</th>\n",
              "    </tr>\n",
              "  </thead>\n",
              "  <tbody>\n",
              "    <tr>\n",
              "      <th>0</th>\n",
              "      <td>0.23</td>\n",
              "      <td>Ideal</td>\n",
              "      <td>E</td>\n",
              "      <td>SI2</td>\n",
              "      <td>61.5</td>\n",
              "      <td>55.0</td>\n",
              "      <td>326</td>\n",
              "      <td>3.95</td>\n",
              "      <td>3.98</td>\n",
              "      <td>2.43</td>\n",
              "      <td>False</td>\n",
              "    </tr>\n",
              "    <tr>\n",
              "      <th>1</th>\n",
              "      <td>0.21</td>\n",
              "      <td>Premium</td>\n",
              "      <td>E</td>\n",
              "      <td>SI1</td>\n",
              "      <td>59.8</td>\n",
              "      <td>61.0</td>\n",
              "      <td>326</td>\n",
              "      <td>3.89</td>\n",
              "      <td>3.84</td>\n",
              "      <td>2.31</td>\n",
              "      <td>False</td>\n",
              "    </tr>\n",
              "    <tr>\n",
              "      <th>2</th>\n",
              "      <td>0.23</td>\n",
              "      <td>Good</td>\n",
              "      <td>E</td>\n",
              "      <td>VS1</td>\n",
              "      <td>56.9</td>\n",
              "      <td>65.0</td>\n",
              "      <td>327</td>\n",
              "      <td>4.05</td>\n",
              "      <td>4.07</td>\n",
              "      <td>2.31</td>\n",
              "      <td>False</td>\n",
              "    </tr>\n",
              "    <tr>\n",
              "      <th>3</th>\n",
              "      <td>0.29</td>\n",
              "      <td>Premium</td>\n",
              "      <td>I</td>\n",
              "      <td>VS2</td>\n",
              "      <td>62.4</td>\n",
              "      <td>58.0</td>\n",
              "      <td>334</td>\n",
              "      <td>4.20</td>\n",
              "      <td>4.23</td>\n",
              "      <td>2.63</td>\n",
              "      <td>False</td>\n",
              "    </tr>\n",
              "    <tr>\n",
              "      <th>4</th>\n",
              "      <td>0.31</td>\n",
              "      <td>Good</td>\n",
              "      <td>J</td>\n",
              "      <td>SI2</td>\n",
              "      <td>63.3</td>\n",
              "      <td>58.0</td>\n",
              "      <td>335</td>\n",
              "      <td>4.34</td>\n",
              "      <td>4.35</td>\n",
              "      <td>2.75</td>\n",
              "      <td>False</td>\n",
              "    </tr>\n",
              "  </tbody>\n",
              "</table>\n",
              "</div>\n",
              "      <button class=\"colab-df-convert\" onclick=\"convertToInteractive('df-bdf5a0ba-cde5-413a-975a-4dd60709737e')\"\n",
              "              title=\"Convert this dataframe to an interactive table.\"\n",
              "              style=\"display:none;\">\n",
              "        \n",
              "  <svg xmlns=\"http://www.w3.org/2000/svg\" height=\"24px\"viewBox=\"0 0 24 24\"\n",
              "       width=\"24px\">\n",
              "    <path d=\"M0 0h24v24H0V0z\" fill=\"none\"/>\n",
              "    <path d=\"M18.56 5.44l.94 2.06.94-2.06 2.06-.94-2.06-.94-.94-2.06-.94 2.06-2.06.94zm-11 1L8.5 8.5l.94-2.06 2.06-.94-2.06-.94L8.5 2.5l-.94 2.06-2.06.94zm10 10l.94 2.06.94-2.06 2.06-.94-2.06-.94-.94-2.06-.94 2.06-2.06.94z\"/><path d=\"M17.41 7.96l-1.37-1.37c-.4-.4-.92-.59-1.43-.59-.52 0-1.04.2-1.43.59L10.3 9.45l-7.72 7.72c-.78.78-.78 2.05 0 2.83L4 21.41c.39.39.9.59 1.41.59.51 0 1.02-.2 1.41-.59l7.78-7.78 2.81-2.81c.8-.78.8-2.07 0-2.86zM5.41 20L4 18.59l7.72-7.72 1.47 1.35L5.41 20z\"/>\n",
              "  </svg>\n",
              "      </button>\n",
              "      \n",
              "  <style>\n",
              "    .colab-df-container {\n",
              "      display:flex;\n",
              "      flex-wrap:wrap;\n",
              "      gap: 12px;\n",
              "    }\n",
              "\n",
              "    .colab-df-convert {\n",
              "      background-color: #E8F0FE;\n",
              "      border: none;\n",
              "      border-radius: 50%;\n",
              "      cursor: pointer;\n",
              "      display: none;\n",
              "      fill: #1967D2;\n",
              "      height: 32px;\n",
              "      padding: 0 0 0 0;\n",
              "      width: 32px;\n",
              "    }\n",
              "\n",
              "    .colab-df-convert:hover {\n",
              "      background-color: #E2EBFA;\n",
              "      box-shadow: 0px 1px 2px rgba(60, 64, 67, 0.3), 0px 1px 3px 1px rgba(60, 64, 67, 0.15);\n",
              "      fill: #174EA6;\n",
              "    }\n",
              "\n",
              "    [theme=dark] .colab-df-convert {\n",
              "      background-color: #3B4455;\n",
              "      fill: #D2E3FC;\n",
              "    }\n",
              "\n",
              "    [theme=dark] .colab-df-convert:hover {\n",
              "      background-color: #434B5C;\n",
              "      box-shadow: 0px 1px 3px 1px rgba(0, 0, 0, 0.15);\n",
              "      filter: drop-shadow(0px 1px 2px rgba(0, 0, 0, 0.3));\n",
              "      fill: #FFFFFF;\n",
              "    }\n",
              "  </style>\n",
              "\n",
              "      <script>\n",
              "        const buttonEl =\n",
              "          document.querySelector('#df-bdf5a0ba-cde5-413a-975a-4dd60709737e button.colab-df-convert');\n",
              "        buttonEl.style.display =\n",
              "          google.colab.kernel.accessAllowed ? 'block' : 'none';\n",
              "\n",
              "        async function convertToInteractive(key) {\n",
              "          const element = document.querySelector('#df-bdf5a0ba-cde5-413a-975a-4dd60709737e');\n",
              "          const dataTable =\n",
              "            await google.colab.kernel.invokeFunction('convertToInteractive',\n",
              "                                                     [key], {});\n",
              "          if (!dataTable) return;\n",
              "\n",
              "          const docLinkHtml = 'Like what you see? Visit the ' +\n",
              "            '<a target=\"_blank\" href=https://colab.research.google.com/notebooks/data_table.ipynb>data table notebook</a>'\n",
              "            + ' to learn more about interactive tables.';\n",
              "          element.innerHTML = '';\n",
              "          dataTable['output_type'] = 'display_data';\n",
              "          await google.colab.output.renderOutput(dataTable, element);\n",
              "          const docLink = document.createElement('div');\n",
              "          docLink.innerHTML = docLinkHtml;\n",
              "          element.appendChild(docLink);\n",
              "        }\n",
              "      </script>\n",
              "    </div>\n",
              "  </div>\n",
              "  "
            ]
          },
          "metadata": {},
          "execution_count": 6
        }
      ]
    },
    {
      "cell_type": "markdown",
      "source": [
        "## **Part 2. 데이터 누수(Data leakage)**\n",
        "- 특성 `X`와 타겟 `y`를 분리하여 저장하세요.\n",
        "  - 특성은 타겟을 제외한 모든 컬럼입니다. \n",
        "- `X`와 `y` 데이터를 train/val set으로 나누세요. \n",
        "  - train/val set의 비는 8:2로 합니다.\n",
        "  - `random_state=2`로 설정합니다. \n",
        "- `DecisionTreeClassifier()`를 사용하여 결정트리 모델을 학습시키세요. \n",
        "  - `random_state=2`로 설정합니다."
      ],
      "metadata": {
        "id": "TE7rEpqq7q2f"
      }
    },
    {
      "cell_type": "markdown",
      "source": [
        "##### **Q2. val set에 대하여 accuracy를 제출하세요.**"
      ],
      "metadata": {
        "id": "yeR1dpRE77Er"
      }
    },
    {
      "cell_type": "markdown",
      "source": [
        "##### **Q3. val set의 accuracy는 적절한가요? 적절하지 않은가요? 그 이유를 한 문장으로 설명하세요.**"
      ],
      "metadata": {
        "id": "n8ULJ1DT8AYD"
      }
    },
    {
      "cell_type": "markdown",
      "source": [
        "##### **Q4. 적절하지 않다면 문제를 파악하여 해결하고, 모델을 다시 학습한 후 val set의 accuracy를 제출하세요.**"
      ],
      "metadata": {
        "id": "f9Md12Ht8Gf6"
      }
    },
    {
      "cell_type": "code",
      "source": [
        "target = 'top25'\n",
        "X = diamonds.drop(target, axis=1)\n",
        "y = diamonds[target]"
      ],
      "metadata": {
        "id": "-Nazb-WZzce4"
      },
      "execution_count": null,
      "outputs": []
    },
    {
      "cell_type": "code",
      "source": [
        "X_train, X_val, y_train, y_val = train_test_split(X, y, test_size=0.2, random_state=2)\n",
        "\n",
        "X_train.shape, X_val.shape, y_train.shape, y_val.shape"
      ],
      "metadata": {
        "colab": {
          "base_uri": "https://localhost:8080/"
        },
        "id": "gfuiNj1VzvE-",
        "outputId": "83a84c80-c8b1-4e2b-ebf7-646729cc5ae2"
      },
      "execution_count": null,
      "outputs": [
        {
          "output_type": "execute_result",
          "data": {
            "text/plain": [
              "((43152, 10), (10788, 10), (43152,), (10788,))"
            ]
          },
          "metadata": {},
          "execution_count": 8
        }
      ]
    },
    {
      "cell_type": "code",
      "source": [
        "pipe = make_pipeline(\n",
        "    OrdinalEncoder(), \n",
        "    DecisionTreeClassifier(random_state=2)\n",
        ")\n",
        "\n",
        "pipe.fit(X_train, y_train)\n",
        "print('검증 정확도:', pipe.score(X_val, y_val))"
      ],
      "metadata": {
        "colab": {
          "base_uri": "https://localhost:8080/"
        },
        "id": "0IP4XCHw0hnF",
        "outputId": "3dbedf2d-6d8a-40de-ebdc-f6804b36bd3e"
      },
      "execution_count": null,
      "outputs": [
        {
          "output_type": "stream",
          "name": "stdout",
          "text": [
            "검증 정확도: 1.0\n"
          ]
        }
      ]
    },
    {
      "cell_type": "code",
      "source": [
        "features = diamonds.drop([target, 'price'], axis=1)\n",
        "X_train, X_val, y_train, y_val = train_test_split(features, y, test_size=0.2, random_state=2)\n",
        "X_train.shape, X_val.shape, y_train.shape, y_val.shape"
      ],
      "metadata": {
        "colab": {
          "base_uri": "https://localhost:8080/"
        },
        "id": "7Jpvts2S3R6E",
        "outputId": "905b019a-7237-4942-c15a-5c1dfceaa757"
      },
      "execution_count": null,
      "outputs": [
        {
          "output_type": "execute_result",
          "data": {
            "text/plain": [
              "((43152, 9), (10788, 9), (43152,), (10788,))"
            ]
          },
          "metadata": {},
          "execution_count": 10
        }
      ]
    },
    {
      "cell_type": "code",
      "source": [
        "pipe = make_pipeline(\n",
        "    OrdinalEncoder(), \n",
        "    DecisionTreeClassifier(random_state=2)\n",
        ")\n",
        "\n",
        "pipe.fit(X_train, y_train)\n",
        "print('검증 정확도:', pipe.score(X_val, y_val))"
      ],
      "metadata": {
        "colab": {
          "base_uri": "https://localhost:8080/"
        },
        "id": "y0iKXVJp3qa9",
        "outputId": "ba939833-1b2a-48cf-e26f-93d63bd74281"
      },
      "execution_count": null,
      "outputs": [
        {
          "output_type": "stream",
          "name": "stdout",
          "text": [
            "검증 정확도: 0.9664441972562106\n"
          ]
        }
      ]
    },
    {
      "cell_type": "markdown",
      "source": [
        "# **🥇 도전 과제**"
      ],
      "metadata": {
        "id": "Y40hriFM8sDI"
      }
    },
    {
      "cell_type": "markdown",
      "source": [
        "## **Part 3. 프로젝트 준비**\n",
        "\n",
        "> 프로젝트에 사용할 데이터셋으로 진행합니다.\n",
        "\n",
        "- 풀고자 하는 문제가 분류와 회귀 중 어느 문제인지 정하세요.\n",
        "- 타겟으로 사용할 특성을 선택하세요.\n",
        "- `df.dtypes`을 사용해서 타겟의 데이터 타입을 확인하세요.\n",
        "- `df.describe()`을 사용해서 타겟의 통계치를 확인하세요. \n",
        "  - 실수형 : 평균값\n",
        "  - 범주형 : 최빈값\n",
        "- 타겟의 분포를 분석해 보세요. 사용할 평가지표를 선택하고, 그 이유를 설명하세요. \n",
        "  - 분류\n",
        "    - 클래스가 몇 개인지? 클래스 비율이 어떤지(balance or imbalance)?\n",
        "    - 다수 클래스(majority class) 비율이 50%~70%인 경우 정확도(accuracy)만 사용해도 무방합니다. 하지만 범위를 넘어설 경우 정확도만을 사용해서는 모델을 잘못 이해할 수 있습니다. 어떤 평가지표를 사용해야 할까요?\n",
        "  - 회귀\n",
        "    - 타겟 분포가 right-skewed인지? log-transform을 사용할 것인지?\n",
        "    - MAE, RMSE, 𝑅2 등을 사용할 수 있습니다."
      ],
      "metadata": {
        "id": "B-BjEAjx8zg-"
      }
    },
    {
      "cell_type": "code",
      "source": [],
      "metadata": {
        "id": "L90Rnhgr_XNR"
      },
      "execution_count": null,
      "outputs": []
    }
  ]
}