{
  "nbformat": 4,
  "nbformat_minor": 0,
  "metadata": {
    "colab": {
      "provenance": [],
      "toc_visible": true
    },
    "kernelspec": {
      "name": "python3",
      "display_name": "Python 3"
    },
    "language_info": {
      "name": "python"
    }
  },
  "cells": [
    {
      "cell_type": "markdown",
      "metadata": {
        "id": "eKz7lIFFHrXl"
      },
      "source": [
        "<img align=\"right\" src=\"https://ds-cs-images.s3.ap-northeast-2.amazonaws.com/Codestates_Fulllogo_Color.png\" width=100>\n",
        "\n",
        "## *AIB / SECTION 2 / SPRINT 3 / NOTE 4*\n",
        "\n",
        "# 📝 Assignment\n",
        "---"
      ]
    },
    {
      "cell_type": "markdown",
      "source": [
        "# 🌱 **기본 과제**"
      ],
      "metadata": {
        "id": "l3VB63QEq7xo"
      }
    },
    {
      "cell_type": "code",
      "source": [
        "!pip install category_encoders "
      ],
      "metadata": {
        "id": "cXqUqZA8caTi"
      },
      "execution_count": null,
      "outputs": []
    },
    {
      "cell_type": "code",
      "source": [
        "!pip3 install xgboost==1.7.2"
      ],
      "metadata": {
        "id": "Q9B83zqVmtxI"
      },
      "execution_count": null,
      "outputs": []
    },
    {
      "cell_type": "code",
      "source": [
        "import warnings\n",
        "warnings.filterwarnings(action='ignore')"
      ],
      "metadata": {
        "id": "8WceO4715sqn"
      },
      "execution_count": null,
      "outputs": []
    },
    {
      "cell_type": "code",
      "source": [
        "import pandas as pd\n",
        "import numpy as np\n",
        "from sklearn.model_selection import train_test_split\n",
        "from category_encoders import OrdinalEncoder\n",
        "from xgboost import XGBClassifier\n",
        "from sklearn.metrics import classification_report\n",
        "from sklearn.metrics import roc_curve, roc_auc_score\n",
        "from sklearn.metrics import confusion_matrix, ConfusionMatrixDisplay\n",
        "import seaborn as sns\n",
        "import matplotlib.pyplot as plt\n",
        "from imblearn.under_sampling import RandomUnderSampler\n",
        "from imblearn.over_sampling import SMOTE"
      ],
      "metadata": {
        "id": "YwaLpQ6NuJ3E"
      },
      "execution_count": null,
      "outputs": []
    },
    {
      "cell_type": "markdown",
      "source": [
        "## **Part 1. 데이터 준비**\n",
        "- 데이터셋을 불러오세요.\n",
        "  - 데이터셋에 대한 정보는 다음 링크에서 확인할 수 있습니다. <br>\n",
        "    https://www.kaggle.com/datasets/ifteshanajnin/carinsuranceclaimprediction-classification?select=train.csv \n",
        "  - 결측치 및 중복된 데이터는 확인 후 제거해 주세요. \n",
        "- 불필요한 column은 제거해 주세요.\n",
        "  - `policy_id`, `area_cluster`, `make`, `model`, `fuel_type`, `airbags`, `cylinder` column을 제거합니다. \n",
        "- target의 분포를 확인하세요.\n",
        "  - target은 `is_claim`입니다. \n",
        "- train/val set으로 분리하세요.  \n",
        "  - train/val set의 비율은 8:2로 설정하세요.\n",
        "  - `random_state=42`로 설정하세요. \n",
        "  - target의 class 비율이 유지되도록 분리하세요. "
      ],
      "metadata": {
        "id": "qP9C7ChevKIO"
      }
    },
    {
      "cell_type": "code",
      "source": [
        "# 데이터셋 불러오기 \n",
        "\n",
        "df = pd.read_csv('https://ds-lecture-data.s3.ap-northeast-2.amazonaws.com/temp/train.csv')\n",
        "df"
      ],
      "metadata": {
        "colab": {
          "base_uri": "https://localhost:8080/",
          "height": 488
        },
        "id": "XI8UHpn2uCAI",
        "outputId": "138af1de-eab4-4d57-f0de-e0419f24fedb"
      },
      "execution_count": null,
      "outputs": [
        {
          "output_type": "execute_result",
          "data": {
            "text/plain": [
              "      policy_id  policy_tenure  age_of_car  age_of_policyholder area_cluster  \\\n",
              "0       ID00001       0.515874        0.05             0.644231           C1   \n",
              "1       ID00002       0.672619        0.02             0.375000           C2   \n",
              "2       ID00003       0.841110        0.02             0.384615           C3   \n",
              "3       ID00004       0.900277        0.11             0.432692           C4   \n",
              "4       ID00005       0.596403        0.11             0.634615           C5   \n",
              "...         ...            ...         ...                  ...          ...   \n",
              "58587   ID58588       0.355089        0.13             0.644231           C8   \n",
              "58588   ID58589       1.199642        0.02             0.519231          C14   \n",
              "58589   ID58590       1.162273        0.05             0.451923           C5   \n",
              "58590   ID58591       1.236307        0.14             0.557692           C8   \n",
              "58591   ID58592       0.124429        0.02             0.442308           C8   \n",
              "\n",
              "       population_density  make segment model fuel_type  ... is_brake_assist  \\\n",
              "0                    4990     1       A    M1       CNG  ...              No   \n",
              "1                   27003     1       A    M1       CNG  ...              No   \n",
              "2                    4076     1       A    M1       CNG  ...              No   \n",
              "3                   21622     1      C1    M2    Petrol  ...             Yes   \n",
              "4                   34738     2       A    M3    Petrol  ...              No   \n",
              "...                   ...   ...     ...   ...       ...  ...             ...   \n",
              "58587                8794     2       A    M3    Petrol  ...              No   \n",
              "58588                7788     1       A    M1       CNG  ...              No   \n",
              "58589               34738     1       A    M1       CNG  ...              No   \n",
              "58590                8794     1      B2    M6    Petrol  ...             Yes   \n",
              "58591                8794     3      C2    M4    Diesel  ...             Yes   \n",
              "\n",
              "      is_power_door_locks is_central_locking  is_power_steering  \\\n",
              "0                      No                 No                Yes   \n",
              "1                      No                 No                Yes   \n",
              "2                      No                 No                Yes   \n",
              "3                     Yes                Yes                Yes   \n",
              "4                     Yes                Yes                Yes   \n",
              "...                   ...                ...                ...   \n",
              "58587                 Yes                Yes                Yes   \n",
              "58588                  No                 No                Yes   \n",
              "58589                  No                 No                Yes   \n",
              "58590                 Yes                Yes                Yes   \n",
              "58591                 Yes                Yes                Yes   \n",
              "\n",
              "      is_driver_seat_height_adjustable is_day_night_rear_view_mirror is_ecw  \\\n",
              "0                                   No                            No     No   \n",
              "1                                   No                            No     No   \n",
              "2                                   No                            No     No   \n",
              "3                                  Yes                           Yes    Yes   \n",
              "4                                   No                           Yes    Yes   \n",
              "...                                ...                           ...    ...   \n",
              "58587                               No                           Yes    Yes   \n",
              "58588                               No                            No     No   \n",
              "58589                               No                            No     No   \n",
              "58590                              Yes                           Yes    Yes   \n",
              "58591                              Yes                            No    Yes   \n",
              "\n",
              "      is_speed_alert ncap_rating is_claim  \n",
              "0                Yes           0        0  \n",
              "1                Yes           0        0  \n",
              "2                Yes           0        0  \n",
              "3                Yes           2        0  \n",
              "4                Yes           2        0  \n",
              "...              ...         ...      ...  \n",
              "58587            Yes           2        0  \n",
              "58588            Yes           0        0  \n",
              "58589            Yes           0        0  \n",
              "58590            Yes           2        0  \n",
              "58591            Yes           3        0  \n",
              "\n",
              "[58592 rows x 44 columns]"
            ],
            "text/html": [
              "\n",
              "  <div id=\"df-632d7c20-4c03-4571-8d84-59c1e0465027\">\n",
              "    <div class=\"colab-df-container\">\n",
              "      <div>\n",
              "<style scoped>\n",
              "    .dataframe tbody tr th:only-of-type {\n",
              "        vertical-align: middle;\n",
              "    }\n",
              "\n",
              "    .dataframe tbody tr th {\n",
              "        vertical-align: top;\n",
              "    }\n",
              "\n",
              "    .dataframe thead th {\n",
              "        text-align: right;\n",
              "    }\n",
              "</style>\n",
              "<table border=\"1\" class=\"dataframe\">\n",
              "  <thead>\n",
              "    <tr style=\"text-align: right;\">\n",
              "      <th></th>\n",
              "      <th>policy_id</th>\n",
              "      <th>policy_tenure</th>\n",
              "      <th>age_of_car</th>\n",
              "      <th>age_of_policyholder</th>\n",
              "      <th>area_cluster</th>\n",
              "      <th>population_density</th>\n",
              "      <th>make</th>\n",
              "      <th>segment</th>\n",
              "      <th>model</th>\n",
              "      <th>fuel_type</th>\n",
              "      <th>...</th>\n",
              "      <th>is_brake_assist</th>\n",
              "      <th>is_power_door_locks</th>\n",
              "      <th>is_central_locking</th>\n",
              "      <th>is_power_steering</th>\n",
              "      <th>is_driver_seat_height_adjustable</th>\n",
              "      <th>is_day_night_rear_view_mirror</th>\n",
              "      <th>is_ecw</th>\n",
              "      <th>is_speed_alert</th>\n",
              "      <th>ncap_rating</th>\n",
              "      <th>is_claim</th>\n",
              "    </tr>\n",
              "  </thead>\n",
              "  <tbody>\n",
              "    <tr>\n",
              "      <th>0</th>\n",
              "      <td>ID00001</td>\n",
              "      <td>0.515874</td>\n",
              "      <td>0.05</td>\n",
              "      <td>0.644231</td>\n",
              "      <td>C1</td>\n",
              "      <td>4990</td>\n",
              "      <td>1</td>\n",
              "      <td>A</td>\n",
              "      <td>M1</td>\n",
              "      <td>CNG</td>\n",
              "      <td>...</td>\n",
              "      <td>No</td>\n",
              "      <td>No</td>\n",
              "      <td>No</td>\n",
              "      <td>Yes</td>\n",
              "      <td>No</td>\n",
              "      <td>No</td>\n",
              "      <td>No</td>\n",
              "      <td>Yes</td>\n",
              "      <td>0</td>\n",
              "      <td>0</td>\n",
              "    </tr>\n",
              "    <tr>\n",
              "      <th>1</th>\n",
              "      <td>ID00002</td>\n",
              "      <td>0.672619</td>\n",
              "      <td>0.02</td>\n",
              "      <td>0.375000</td>\n",
              "      <td>C2</td>\n",
              "      <td>27003</td>\n",
              "      <td>1</td>\n",
              "      <td>A</td>\n",
              "      <td>M1</td>\n",
              "      <td>CNG</td>\n",
              "      <td>...</td>\n",
              "      <td>No</td>\n",
              "      <td>No</td>\n",
              "      <td>No</td>\n",
              "      <td>Yes</td>\n",
              "      <td>No</td>\n",
              "      <td>No</td>\n",
              "      <td>No</td>\n",
              "      <td>Yes</td>\n",
              "      <td>0</td>\n",
              "      <td>0</td>\n",
              "    </tr>\n",
              "    <tr>\n",
              "      <th>2</th>\n",
              "      <td>ID00003</td>\n",
              "      <td>0.841110</td>\n",
              "      <td>0.02</td>\n",
              "      <td>0.384615</td>\n",
              "      <td>C3</td>\n",
              "      <td>4076</td>\n",
              "      <td>1</td>\n",
              "      <td>A</td>\n",
              "      <td>M1</td>\n",
              "      <td>CNG</td>\n",
              "      <td>...</td>\n",
              "      <td>No</td>\n",
              "      <td>No</td>\n",
              "      <td>No</td>\n",
              "      <td>Yes</td>\n",
              "      <td>No</td>\n",
              "      <td>No</td>\n",
              "      <td>No</td>\n",
              "      <td>Yes</td>\n",
              "      <td>0</td>\n",
              "      <td>0</td>\n",
              "    </tr>\n",
              "    <tr>\n",
              "      <th>3</th>\n",
              "      <td>ID00004</td>\n",
              "      <td>0.900277</td>\n",
              "      <td>0.11</td>\n",
              "      <td>0.432692</td>\n",
              "      <td>C4</td>\n",
              "      <td>21622</td>\n",
              "      <td>1</td>\n",
              "      <td>C1</td>\n",
              "      <td>M2</td>\n",
              "      <td>Petrol</td>\n",
              "      <td>...</td>\n",
              "      <td>Yes</td>\n",
              "      <td>Yes</td>\n",
              "      <td>Yes</td>\n",
              "      <td>Yes</td>\n",
              "      <td>Yes</td>\n",
              "      <td>Yes</td>\n",
              "      <td>Yes</td>\n",
              "      <td>Yes</td>\n",
              "      <td>2</td>\n",
              "      <td>0</td>\n",
              "    </tr>\n",
              "    <tr>\n",
              "      <th>4</th>\n",
              "      <td>ID00005</td>\n",
              "      <td>0.596403</td>\n",
              "      <td>0.11</td>\n",
              "      <td>0.634615</td>\n",
              "      <td>C5</td>\n",
              "      <td>34738</td>\n",
              "      <td>2</td>\n",
              "      <td>A</td>\n",
              "      <td>M3</td>\n",
              "      <td>Petrol</td>\n",
              "      <td>...</td>\n",
              "      <td>No</td>\n",
              "      <td>Yes</td>\n",
              "      <td>Yes</td>\n",
              "      <td>Yes</td>\n",
              "      <td>No</td>\n",
              "      <td>Yes</td>\n",
              "      <td>Yes</td>\n",
              "      <td>Yes</td>\n",
              "      <td>2</td>\n",
              "      <td>0</td>\n",
              "    </tr>\n",
              "    <tr>\n",
              "      <th>...</th>\n",
              "      <td>...</td>\n",
              "      <td>...</td>\n",
              "      <td>...</td>\n",
              "      <td>...</td>\n",
              "      <td>...</td>\n",
              "      <td>...</td>\n",
              "      <td>...</td>\n",
              "      <td>...</td>\n",
              "      <td>...</td>\n",
              "      <td>...</td>\n",
              "      <td>...</td>\n",
              "      <td>...</td>\n",
              "      <td>...</td>\n",
              "      <td>...</td>\n",
              "      <td>...</td>\n",
              "      <td>...</td>\n",
              "      <td>...</td>\n",
              "      <td>...</td>\n",
              "      <td>...</td>\n",
              "      <td>...</td>\n",
              "      <td>...</td>\n",
              "    </tr>\n",
              "    <tr>\n",
              "      <th>58587</th>\n",
              "      <td>ID58588</td>\n",
              "      <td>0.355089</td>\n",
              "      <td>0.13</td>\n",
              "      <td>0.644231</td>\n",
              "      <td>C8</td>\n",
              "      <td>8794</td>\n",
              "      <td>2</td>\n",
              "      <td>A</td>\n",
              "      <td>M3</td>\n",
              "      <td>Petrol</td>\n",
              "      <td>...</td>\n",
              "      <td>No</td>\n",
              "      <td>Yes</td>\n",
              "      <td>Yes</td>\n",
              "      <td>Yes</td>\n",
              "      <td>No</td>\n",
              "      <td>Yes</td>\n",
              "      <td>Yes</td>\n",
              "      <td>Yes</td>\n",
              "      <td>2</td>\n",
              "      <td>0</td>\n",
              "    </tr>\n",
              "    <tr>\n",
              "      <th>58588</th>\n",
              "      <td>ID58589</td>\n",
              "      <td>1.199642</td>\n",
              "      <td>0.02</td>\n",
              "      <td>0.519231</td>\n",
              "      <td>C14</td>\n",
              "      <td>7788</td>\n",
              "      <td>1</td>\n",
              "      <td>A</td>\n",
              "      <td>M1</td>\n",
              "      <td>CNG</td>\n",
              "      <td>...</td>\n",
              "      <td>No</td>\n",
              "      <td>No</td>\n",
              "      <td>No</td>\n",
              "      <td>Yes</td>\n",
              "      <td>No</td>\n",
              "      <td>No</td>\n",
              "      <td>No</td>\n",
              "      <td>Yes</td>\n",
              "      <td>0</td>\n",
              "      <td>0</td>\n",
              "    </tr>\n",
              "    <tr>\n",
              "      <th>58589</th>\n",
              "      <td>ID58590</td>\n",
              "      <td>1.162273</td>\n",
              "      <td>0.05</td>\n",
              "      <td>0.451923</td>\n",
              "      <td>C5</td>\n",
              "      <td>34738</td>\n",
              "      <td>1</td>\n",
              "      <td>A</td>\n",
              "      <td>M1</td>\n",
              "      <td>CNG</td>\n",
              "      <td>...</td>\n",
              "      <td>No</td>\n",
              "      <td>No</td>\n",
              "      <td>No</td>\n",
              "      <td>Yes</td>\n",
              "      <td>No</td>\n",
              "      <td>No</td>\n",
              "      <td>No</td>\n",
              "      <td>Yes</td>\n",
              "      <td>0</td>\n",
              "      <td>0</td>\n",
              "    </tr>\n",
              "    <tr>\n",
              "      <th>58590</th>\n",
              "      <td>ID58591</td>\n",
              "      <td>1.236307</td>\n",
              "      <td>0.14</td>\n",
              "      <td>0.557692</td>\n",
              "      <td>C8</td>\n",
              "      <td>8794</td>\n",
              "      <td>1</td>\n",
              "      <td>B2</td>\n",
              "      <td>M6</td>\n",
              "      <td>Petrol</td>\n",
              "      <td>...</td>\n",
              "      <td>Yes</td>\n",
              "      <td>Yes</td>\n",
              "      <td>Yes</td>\n",
              "      <td>Yes</td>\n",
              "      <td>Yes</td>\n",
              "      <td>Yes</td>\n",
              "      <td>Yes</td>\n",
              "      <td>Yes</td>\n",
              "      <td>2</td>\n",
              "      <td>0</td>\n",
              "    </tr>\n",
              "    <tr>\n",
              "      <th>58591</th>\n",
              "      <td>ID58592</td>\n",
              "      <td>0.124429</td>\n",
              "      <td>0.02</td>\n",
              "      <td>0.442308</td>\n",
              "      <td>C8</td>\n",
              "      <td>8794</td>\n",
              "      <td>3</td>\n",
              "      <td>C2</td>\n",
              "      <td>M4</td>\n",
              "      <td>Diesel</td>\n",
              "      <td>...</td>\n",
              "      <td>Yes</td>\n",
              "      <td>Yes</td>\n",
              "      <td>Yes</td>\n",
              "      <td>Yes</td>\n",
              "      <td>Yes</td>\n",
              "      <td>No</td>\n",
              "      <td>Yes</td>\n",
              "      <td>Yes</td>\n",
              "      <td>3</td>\n",
              "      <td>0</td>\n",
              "    </tr>\n",
              "  </tbody>\n",
              "</table>\n",
              "<p>58592 rows × 44 columns</p>\n",
              "</div>\n",
              "      <button class=\"colab-df-convert\" onclick=\"convertToInteractive('df-632d7c20-4c03-4571-8d84-59c1e0465027')\"\n",
              "              title=\"Convert this dataframe to an interactive table.\"\n",
              "              style=\"display:none;\">\n",
              "        \n",
              "  <svg xmlns=\"http://www.w3.org/2000/svg\" height=\"24px\"viewBox=\"0 0 24 24\"\n",
              "       width=\"24px\">\n",
              "    <path d=\"M0 0h24v24H0V0z\" fill=\"none\"/>\n",
              "    <path d=\"M18.56 5.44l.94 2.06.94-2.06 2.06-.94-2.06-.94-.94-2.06-.94 2.06-2.06.94zm-11 1L8.5 8.5l.94-2.06 2.06-.94-2.06-.94L8.5 2.5l-.94 2.06-2.06.94zm10 10l.94 2.06.94-2.06 2.06-.94-2.06-.94-.94-2.06-.94 2.06-2.06.94z\"/><path d=\"M17.41 7.96l-1.37-1.37c-.4-.4-.92-.59-1.43-.59-.52 0-1.04.2-1.43.59L10.3 9.45l-7.72 7.72c-.78.78-.78 2.05 0 2.83L4 21.41c.39.39.9.59 1.41.59.51 0 1.02-.2 1.41-.59l7.78-7.78 2.81-2.81c.8-.78.8-2.07 0-2.86zM5.41 20L4 18.59l7.72-7.72 1.47 1.35L5.41 20z\"/>\n",
              "  </svg>\n",
              "      </button>\n",
              "      \n",
              "  <style>\n",
              "    .colab-df-container {\n",
              "      display:flex;\n",
              "      flex-wrap:wrap;\n",
              "      gap: 12px;\n",
              "    }\n",
              "\n",
              "    .colab-df-convert {\n",
              "      background-color: #E8F0FE;\n",
              "      border: none;\n",
              "      border-radius: 50%;\n",
              "      cursor: pointer;\n",
              "      display: none;\n",
              "      fill: #1967D2;\n",
              "      height: 32px;\n",
              "      padding: 0 0 0 0;\n",
              "      width: 32px;\n",
              "    }\n",
              "\n",
              "    .colab-df-convert:hover {\n",
              "      background-color: #E2EBFA;\n",
              "      box-shadow: 0px 1px 2px rgba(60, 64, 67, 0.3), 0px 1px 3px 1px rgba(60, 64, 67, 0.15);\n",
              "      fill: #174EA6;\n",
              "    }\n",
              "\n",
              "    [theme=dark] .colab-df-convert {\n",
              "      background-color: #3B4455;\n",
              "      fill: #D2E3FC;\n",
              "    }\n",
              "\n",
              "    [theme=dark] .colab-df-convert:hover {\n",
              "      background-color: #434B5C;\n",
              "      box-shadow: 0px 1px 3px 1px rgba(0, 0, 0, 0.15);\n",
              "      filter: drop-shadow(0px 1px 2px rgba(0, 0, 0, 0.3));\n",
              "      fill: #FFFFFF;\n",
              "    }\n",
              "  </style>\n",
              "\n",
              "      <script>\n",
              "        const buttonEl =\n",
              "          document.querySelector('#df-632d7c20-4c03-4571-8d84-59c1e0465027 button.colab-df-convert');\n",
              "        buttonEl.style.display =\n",
              "          google.colab.kernel.accessAllowed ? 'block' : 'none';\n",
              "\n",
              "        async function convertToInteractive(key) {\n",
              "          const element = document.querySelector('#df-632d7c20-4c03-4571-8d84-59c1e0465027');\n",
              "          const dataTable =\n",
              "            await google.colab.kernel.invokeFunction('convertToInteractive',\n",
              "                                                     [key], {});\n",
              "          if (!dataTable) return;\n",
              "\n",
              "          const docLinkHtml = 'Like what you see? Visit the ' +\n",
              "            '<a target=\"_blank\" href=https://colab.research.google.com/notebooks/data_table.ipynb>data table notebook</a>'\n",
              "            + ' to learn more about interactive tables.';\n",
              "          element.innerHTML = '';\n",
              "          dataTable['output_type'] = 'display_data';\n",
              "          await google.colab.output.renderOutput(dataTable, element);\n",
              "          const docLink = document.createElement('div');\n",
              "          docLink.innerHTML = docLinkHtml;\n",
              "          element.appendChild(docLink);\n",
              "        }\n",
              "      </script>\n",
              "    </div>\n",
              "  </div>\n",
              "  "
            ]
          },
          "metadata": {},
          "execution_count": 4
        }
      ]
    },
    {
      "cell_type": "code",
      "source": [
        "df.info() # 결측치는 없습니다. "
      ],
      "metadata": {
        "colab": {
          "base_uri": "https://localhost:8080/"
        },
        "id": "D2CNpw4WuWG1",
        "outputId": "31bac639-9c82-4679-e9f2-fc1a26cba8f4"
      },
      "execution_count": null,
      "outputs": [
        {
          "output_type": "stream",
          "name": "stdout",
          "text": [
            "<class 'pandas.core.frame.DataFrame'>\n",
            "RangeIndex: 58592 entries, 0 to 58591\n",
            "Data columns (total 44 columns):\n",
            " #   Column                            Non-Null Count  Dtype  \n",
            "---  ------                            --------------  -----  \n",
            " 0   policy_id                         58592 non-null  object \n",
            " 1   policy_tenure                     58592 non-null  float64\n",
            " 2   age_of_car                        58592 non-null  float64\n",
            " 3   age_of_policyholder               58592 non-null  float64\n",
            " 4   area_cluster                      58592 non-null  object \n",
            " 5   population_density                58592 non-null  int64  \n",
            " 6   make                              58592 non-null  int64  \n",
            " 7   segment                           58592 non-null  object \n",
            " 8   model                             58592 non-null  object \n",
            " 9   fuel_type                         58592 non-null  object \n",
            " 10  max_torque                        58592 non-null  object \n",
            " 11  max_power                         58592 non-null  object \n",
            " 12  engine_type                       58592 non-null  object \n",
            " 13  airbags                           58592 non-null  int64  \n",
            " 14  is_esc                            58592 non-null  object \n",
            " 15  is_adjustable_steering            58592 non-null  object \n",
            " 16  is_tpms                           58592 non-null  object \n",
            " 17  is_parking_sensors                58592 non-null  object \n",
            " 18  is_parking_camera                 58592 non-null  object \n",
            " 19  rear_brakes_type                  58592 non-null  object \n",
            " 20  displacement                      58592 non-null  int64  \n",
            " 21  cylinder                          58592 non-null  int64  \n",
            " 22  transmission_type                 58592 non-null  object \n",
            " 23  gear_box                          58592 non-null  int64  \n",
            " 24  steering_type                     58592 non-null  object \n",
            " 25  turning_radius                    58592 non-null  float64\n",
            " 26  length                            58592 non-null  int64  \n",
            " 27  width                             58592 non-null  int64  \n",
            " 28  height                            58592 non-null  int64  \n",
            " 29  gross_weight                      58592 non-null  int64  \n",
            " 30  is_front_fog_lights               58592 non-null  object \n",
            " 31  is_rear_window_wiper              58592 non-null  object \n",
            " 32  is_rear_window_washer             58592 non-null  object \n",
            " 33  is_rear_window_defogger           58592 non-null  object \n",
            " 34  is_brake_assist                   58592 non-null  object \n",
            " 35  is_power_door_locks               58592 non-null  object \n",
            " 36  is_central_locking                58592 non-null  object \n",
            " 37  is_power_steering                 58592 non-null  object \n",
            " 38  is_driver_seat_height_adjustable  58592 non-null  object \n",
            " 39  is_day_night_rear_view_mirror     58592 non-null  object \n",
            " 40  is_ecw                            58592 non-null  object \n",
            " 41  is_speed_alert                    58592 non-null  object \n",
            " 42  ncap_rating                       58592 non-null  int64  \n",
            " 43  is_claim                          58592 non-null  int64  \n",
            "dtypes: float64(4), int64(12), object(28)\n",
            "memory usage: 19.7+ MB\n"
          ]
        }
      ]
    },
    {
      "cell_type": "code",
      "source": [
        "df.duplicated().sum() # 중복된 데이터는 없습니다."
      ],
      "metadata": {
        "colab": {
          "base_uri": "https://localhost:8080/"
        },
        "id": "U_ThkAxSubVg",
        "outputId": "c24ce966-3a25-428c-a8da-89bdd7ecd38e"
      },
      "execution_count": null,
      "outputs": [
        {
          "output_type": "execute_result",
          "data": {
            "text/plain": [
              "0"
            ]
          },
          "metadata": {},
          "execution_count": 4
        }
      ]
    },
    {
      "cell_type": "code",
      "source": [
        "df.drop(columns=[\"policy_id\", \"area_cluster\", \"make\", \"model\", \"fuel_type\", \"airbags\", \"cylinder\"], inplace=True)\n",
        "\n",
        "df.shape"
      ],
      "metadata": {
        "colab": {
          "base_uri": "https://localhost:8080/"
        },
        "id": "VcvaCdCJu_Yy",
        "outputId": "1b53b5ba-6d9b-4efb-f115-df1f8626e047"
      },
      "execution_count": null,
      "outputs": [
        {
          "output_type": "execute_result",
          "data": {
            "text/plain": [
              "(58592, 37)"
            ]
          },
          "metadata": {},
          "execution_count": 5
        }
      ]
    },
    {
      "cell_type": "code",
      "source": [
        "target = 'is_claim'\n",
        "df[target].value_counts(normalize=True) # 타겟 데이터 비율이 매우 불균형합니다. "
      ],
      "metadata": {
        "colab": {
          "base_uri": "https://localhost:8080/"
        },
        "id": "gnwlOh8euqnZ",
        "outputId": "77095c3e-aa56-4aa1-e7d1-5df38cbec8ff"
      },
      "execution_count": null,
      "outputs": [
        {
          "output_type": "execute_result",
          "data": {
            "text/plain": [
              "0    0.936032\n",
              "1    0.063968\n",
              "Name: is_claim, dtype: float64"
            ]
          },
          "metadata": {},
          "execution_count": 9
        }
      ]
    },
    {
      "cell_type": "code",
      "source": [
        "print('Baseline Accuracy:', max(df[target].value_counts(normalize=True)))"
      ],
      "metadata": {
        "colab": {
          "base_uri": "https://localhost:8080/"
        },
        "id": "Al05z23pt9R-",
        "outputId": "fdb8ec32-fa58-48bc-fc7a-c7e40dcbd43b"
      },
      "execution_count": null,
      "outputs": [
        {
          "output_type": "stream",
          "name": "stdout",
          "text": [
            "Baseline Accuracy: 0.9360322228290552\n"
          ]
        }
      ]
    },
    {
      "cell_type": "code",
      "source": [
        "# train/val set 분리\n",
        "train, val = train_test_split(df, test_size=0.2, stratify=df[target], random_state=42)\n",
        "print(train.shape, val.shape)"
      ],
      "metadata": {
        "colab": {
          "base_uri": "https://localhost:8080/"
        },
        "id": "x12KvnGUvRl2",
        "outputId": "a76fa15e-98dc-421a-a851-e95205990a05"
      },
      "execution_count": null,
      "outputs": [
        {
          "output_type": "stream",
          "name": "stdout",
          "text": [
            "(46873, 37) (11719, 37)\n"
          ]
        }
      ]
    },
    {
      "cell_type": "code",
      "source": [
        "# target의 class 비율 확인\n",
        "print(\"Train target distribution:\\n\", train[target].value_counts(normalize=True), \"\\n\")\n",
        "print(\"Val target distribution:\\n\", val[target].value_counts(normalize=True))"
      ],
      "metadata": {
        "colab": {
          "base_uri": "https://localhost:8080/"
        },
        "id": "IRVjPCX1vdIq",
        "outputId": "c9fc5b3e-e979-481b-cf05-fd06ed69f945"
      },
      "execution_count": null,
      "outputs": [
        {
          "output_type": "stream",
          "name": "stdout",
          "text": [
            "Train target distribution:\n",
            " 0    0.93604\n",
            "1    0.06396\n",
            "Name: is_claim, dtype: float64 \n",
            "\n",
            "Val target distribution:\n",
            " 0    0.936001\n",
            "1    0.063999\n",
            "Name: is_claim, dtype: float64\n"
          ]
        }
      ]
    },
    {
      "cell_type": "markdown",
      "source": [
        "## **Part 2. Modeling**  "
      ],
      "metadata": {
        "id": "pEjy9iu9vP9N"
      }
    },
    {
      "cell_type": "markdown",
      "source": [
        "### **2-1. 모델 학습**\n",
        "- train/val set을 각각 feature와 target으로 분리하세요. \n",
        "- 범주형 데이터는 `OrdinalEncoder()`를 적용하여 변환해 주세요.\n",
        "- `XGBClassifier()`을 사용하여 GBDT 모델을 학습하세요. \n",
        "  - `objective=\"binary:logistic\"`으로 설정합니다. \n",
        "  - 평가지표는 `\"auc\"`를 사용합니다. \n",
        "  - `n_estimators`는 1000 이상으로 설정합니다. \n",
        "  - `random_state=42`로 지정합니다.\n",
        "- early stopping을 적용하세요.\n",
        "  - 50 rounds 동안 성능 개선이 없으면 학습을 중지합니다. "
      ],
      "metadata": {
        "id": "jRLmFzDA4HM5"
      }
    },
    {
      "cell_type": "markdown",
      "source": [
        "##### **Q1. early stopping을 적용하였을 때, best iteration을 구하세요.**"
      ],
      "metadata": {
        "id": "4OwRT7pA2JXv"
      }
    },
    {
      "cell_type": "code",
      "source": [
        "# feature/target 분리\n",
        "X_train, y_train = train.drop(columns=[target]), train[target]\n",
        "X_val, y_val = val.drop(columns=[target]), val[target]"
      ],
      "metadata": {
        "id": "2FHYY6s01Fpi"
      },
      "execution_count": null,
      "outputs": []
    },
    {
      "cell_type": "code",
      "source": [
        "# Ordinal Encoding\n",
        "encoder = OrdinalEncoder()\n",
        "X_train_encoded = encoder.fit_transform(X_train)\n",
        "X_val_encoded = encoder.transform(X_val)"
      ],
      "metadata": {
        "id": "OAp-7ish1Fpi"
      },
      "execution_count": null,
      "outputs": []
    },
    {
      "cell_type": "code",
      "source": [
        "# model 학습\n",
        "model = XGBClassifier(\n",
        "    objective=\"binary:logistic\",\n",
        "    eval_metric=\"auc\",\n",
        "    n_estimators=987654321,\n",
        "    random_state=42\n",
        ")\n",
        "\n",
        "watchlist = [(X_train_encoded, y_train), (X_val_encoded, y_val)]\n",
        "\n",
        "model.fit(\n",
        "    X_train_encoded,\n",
        "    y_train,\n",
        "    eval_set=watchlist,\n",
        "    early_stopping_rounds=50,  # 50 rounds 동안 성능 개선이 없으면 학습을 중지합니다.\n",
        ")"
      ],
      "metadata": {
        "colab": {
          "base_uri": "https://localhost:8080/"
        },
        "id": "2stnbTO6laB0",
        "outputId": "90c78add-924d-4355-f1f3-0215607cb5d6"
      },
      "execution_count": null,
      "outputs": [
        {
          "output_type": "stream",
          "name": "stdout",
          "text": [
            "[0]\tvalidation_0-auc:0.65184\tvalidation_1-auc:0.64320\n",
            "[1]\tvalidation_0-auc:0.66366\tvalidation_1-auc:0.65032\n",
            "[2]\tvalidation_0-auc:0.67150\tvalidation_1-auc:0.65483\n",
            "[3]\tvalidation_0-auc:0.67767\tvalidation_1-auc:0.65297\n",
            "[4]\tvalidation_0-auc:0.68283\tvalidation_1-auc:0.65152\n",
            "[5]\tvalidation_0-auc:0.68825\tvalidation_1-auc:0.65407\n",
            "[6]\tvalidation_0-auc:0.69292\tvalidation_1-auc:0.65261\n",
            "[7]\tvalidation_0-auc:0.69979\tvalidation_1-auc:0.65250\n",
            "[8]\tvalidation_0-auc:0.70336\tvalidation_1-auc:0.65448\n",
            "[9]\tvalidation_0-auc:0.70724\tvalidation_1-auc:0.65577\n",
            "[10]\tvalidation_0-auc:0.70996\tvalidation_1-auc:0.65645\n",
            "[11]\tvalidation_0-auc:0.71411\tvalidation_1-auc:0.65769\n",
            "[12]\tvalidation_0-auc:0.71734\tvalidation_1-auc:0.65592\n",
            "[13]\tvalidation_0-auc:0.71969\tvalidation_1-auc:0.65510\n",
            "[14]\tvalidation_0-auc:0.72043\tvalidation_1-auc:0.65477\n",
            "[15]\tvalidation_0-auc:0.72430\tvalidation_1-auc:0.65724\n",
            "[16]\tvalidation_0-auc:0.72640\tvalidation_1-auc:0.65730\n",
            "[17]\tvalidation_0-auc:0.72769\tvalidation_1-auc:0.65680\n",
            "[18]\tvalidation_0-auc:0.73034\tvalidation_1-auc:0.65532\n",
            "[19]\tvalidation_0-auc:0.73248\tvalidation_1-auc:0.65515\n",
            "[20]\tvalidation_0-auc:0.73384\tvalidation_1-auc:0.65633\n",
            "[21]\tvalidation_0-auc:0.73959\tvalidation_1-auc:0.65492\n",
            "[22]\tvalidation_0-auc:0.74236\tvalidation_1-auc:0.65501\n",
            "[23]\tvalidation_0-auc:0.74329\tvalidation_1-auc:0.65489\n",
            "[24]\tvalidation_0-auc:0.74797\tvalidation_1-auc:0.65447\n",
            "[25]\tvalidation_0-auc:0.74866\tvalidation_1-auc:0.65441\n",
            "[26]\tvalidation_0-auc:0.75035\tvalidation_1-auc:0.65459\n",
            "[27]\tvalidation_0-auc:0.75148\tvalidation_1-auc:0.65385\n",
            "[28]\tvalidation_0-auc:0.75240\tvalidation_1-auc:0.65313\n",
            "[29]\tvalidation_0-auc:0.75590\tvalidation_1-auc:0.65102\n",
            "[30]\tvalidation_0-auc:0.75654\tvalidation_1-auc:0.65043\n",
            "[31]\tvalidation_0-auc:0.75732\tvalidation_1-auc:0.65040\n",
            "[32]\tvalidation_0-auc:0.75771\tvalidation_1-auc:0.64986\n",
            "[33]\tvalidation_0-auc:0.75876\tvalidation_1-auc:0.64932\n",
            "[34]\tvalidation_0-auc:0.76341\tvalidation_1-auc:0.64983\n",
            "[35]\tvalidation_0-auc:0.76533\tvalidation_1-auc:0.64914\n",
            "[36]\tvalidation_0-auc:0.76560\tvalidation_1-auc:0.64907\n",
            "[37]\tvalidation_0-auc:0.76696\tvalidation_1-auc:0.64934\n",
            "[38]\tvalidation_0-auc:0.76790\tvalidation_1-auc:0.64946\n",
            "[39]\tvalidation_0-auc:0.77007\tvalidation_1-auc:0.64875\n",
            "[40]\tvalidation_0-auc:0.77409\tvalidation_1-auc:0.64657\n",
            "[41]\tvalidation_0-auc:0.77679\tvalidation_1-auc:0.64606\n",
            "[42]\tvalidation_0-auc:0.77863\tvalidation_1-auc:0.64422\n",
            "[43]\tvalidation_0-auc:0.77954\tvalidation_1-auc:0.64389\n",
            "[44]\tvalidation_0-auc:0.78164\tvalidation_1-auc:0.64437\n",
            "[45]\tvalidation_0-auc:0.78407\tvalidation_1-auc:0.64570\n",
            "[46]\tvalidation_0-auc:0.78641\tvalidation_1-auc:0.64440\n",
            "[47]\tvalidation_0-auc:0.78904\tvalidation_1-auc:0.64333\n",
            "[48]\tvalidation_0-auc:0.78945\tvalidation_1-auc:0.64363\n",
            "[49]\tvalidation_0-auc:0.78962\tvalidation_1-auc:0.64348\n",
            "[50]\tvalidation_0-auc:0.79137\tvalidation_1-auc:0.64306\n",
            "[51]\tvalidation_0-auc:0.79162\tvalidation_1-auc:0.64277\n",
            "[52]\tvalidation_0-auc:0.79280\tvalidation_1-auc:0.64257\n",
            "[53]\tvalidation_0-auc:0.79303\tvalidation_1-auc:0.64250\n",
            "[54]\tvalidation_0-auc:0.79455\tvalidation_1-auc:0.64254\n",
            "[55]\tvalidation_0-auc:0.79540\tvalidation_1-auc:0.64246\n",
            "[56]\tvalidation_0-auc:0.79890\tvalidation_1-auc:0.64182\n",
            "[57]\tvalidation_0-auc:0.80039\tvalidation_1-auc:0.64185\n",
            "[58]\tvalidation_0-auc:0.80230\tvalidation_1-auc:0.64083\n",
            "[59]\tvalidation_0-auc:0.80367\tvalidation_1-auc:0.64052\n",
            "[60]\tvalidation_0-auc:0.80683\tvalidation_1-auc:0.64024\n"
          ]
        },
        {
          "output_type": "execute_result",
          "data": {
            "text/plain": [
              "XGBClassifier(base_score=0.5, booster='gbtree', callbacks=None,\n",
              "              colsample_bylevel=1, colsample_bynode=1, colsample_bytree=1,\n",
              "              early_stopping_rounds=None, enable_categorical=False,\n",
              "              eval_metric='auc', feature_types=None, gamma=0, gpu_id=-1,\n",
              "              grow_policy='depthwise', importance_type=None,\n",
              "              interaction_constraints='', learning_rate=0.300000012,\n",
              "              max_bin=256, max_cat_threshold=64, max_cat_to_onehot=4,\n",
              "              max_delta_step=0, max_depth=6, max_leaves=0, min_child_weight=1,\n",
              "              missing=nan, monotone_constraints='()', n_estimators=987654321,\n",
              "              n_jobs=0, num_parallel_tree=1, predictor='auto', random_state=42, ...)"
            ]
          },
          "metadata": {},
          "execution_count": 20
        }
      ]
    },
    {
      "cell_type": "code",
      "source": [
        "model.best_iteration"
      ],
      "metadata": {
        "colab": {
          "base_uri": "https://localhost:8080/"
        },
        "id": "6X6fg0S82B-P",
        "outputId": "3eb59945-2b0d-4398-dd3c-e4997b9dd249"
      },
      "execution_count": null,
      "outputs": [
        {
          "output_type": "execute_result",
          "data": {
            "text/plain": [
              "11"
            ]
          },
          "metadata": {},
          "execution_count": 21
        }
      ]
    },
    {
      "cell_type": "markdown",
      "source": [
        "### **2-2. 성능 평가**\n",
        "- val set에 대하여 AUC score를 구하세요.\n",
        "- `classification_report()`를 사용하여 성능을 확인하세요.\n",
        "- confusion matrix를 그려 보세요."
      ],
      "metadata": {
        "id": "SsUjphyN4O6R"
      }
    },
    {
      "cell_type": "markdown",
      "source": [
        "##### **Q2. confusion matrix에서 TP 개수를 제출하세요.**"
      ],
      "metadata": {
        "id": "uOJEXk_u4zlc"
      }
    },
    {
      "cell_type": "code",
      "source": [
        "def evaluation(model, X_val_encoded, y_val):\n",
        "\n",
        "    y_pred_proba = model.predict_proba(X_val_encoded, iteration_range=(0, model.best_iteration))[:, 1]\n",
        "    print(\"AUC Score:\", roc_auc_score(y_val, y_pred_proba), '\\n')\n",
        "\n",
        "    y_pred = model.predict(X_val_encoded, iteration_range=(0, model.best_iteration))\n",
        "    print(classification_report(y_val, y_pred), '\\n')  \n",
        "\n",
        "    cm = confusion_matrix(y_val, y_pred)\n",
        "    disp = ConfusionMatrixDisplay(cm)\n",
        "    disp.plot(cmap='Blues')\n",
        "    plt.show()"
      ],
      "metadata": {
        "id": "A8bkQcPg2ZGY"
      },
      "execution_count": null,
      "outputs": []
    },
    {
      "cell_type": "code",
      "source": [
        "evaluation(model, X_val_encoded, y_val)"
      ],
      "metadata": {
        "colab": {
          "base_uri": "https://localhost:8080/",
          "height": 493
        },
        "id": "MxMKy15B3qNK",
        "outputId": "12dd9985-f767-439f-9cad-be7936ed6de7"
      },
      "execution_count": null,
      "outputs": [
        {
          "output_type": "stream",
          "name": "stdout",
          "text": [
            "AUC Score: 0.6564490837815662 \n",
            "\n",
            "              precision    recall  f1-score   support\n",
            "\n",
            "           0       0.94      1.00      0.97     10969\n",
            "           1       0.00      0.00      0.00       750\n",
            "\n",
            "    accuracy                           0.94     11719\n",
            "   macro avg       0.47      0.50      0.48     11719\n",
            "weighted avg       0.88      0.94      0.91     11719\n",
            " \n",
            "\n"
          ]
        },
        {
          "output_type": "display_data",
          "data": {
            "text/plain": [
              "<Figure size 432x288 with 2 Axes>"
            ],
            "image/png": "[encoded data removed]"
          },
          "metadata": {
            "needs_background": "light"
          }
        }
      ]
    },
    {
      "cell_type": "markdown",
      "source": [
        "## **Part 3. scale_pos_weight**\n",
        "- `scale_pos_weight`를 설정하여 GBDT 모델을 다시 학습하세요. \n",
        "  - 그 외 하이퍼파라미터 설정은 **Part 2**와 동일합니다. \n",
        "  - **Part 2**와 동일하게 early stopping을 적용하세요. \n",
        "- 모델의 성능을 확인하세요.\n",
        "  - val set에 대하여 AUC score를 구하세요.\n",
        "  - `classification_report()`를 사용하여 성능을 확인하세요.\n",
        "  - confusion matrix를 그려 보세요.\n"
      ],
      "metadata": {
        "id": "7X5Li_kXv9Hd"
      }
    },
    {
      "cell_type": "markdown",
      "source": [
        "##### **Q3. confusion matrix에서 TP 개수를 제출하세요.**"
      ],
      "metadata": {
        "id": "e_aYEvcn7Cd_"
      }
    },
    {
      "cell_type": "code",
      "source": [
        "model = XGBClassifier(\n",
        "    objective=\"binary:logistic\",\n",
        "    eval_metric=\"auc\",\n",
        "    n_estimators=987654321,\n",
        "    random_state=42,\n",
        "    scale_pos_weight=(y_val == 0).sum() / (y_val == 1).sum(),\n",
        ")\n",
        "\n",
        "watchlist = [(X_train_encoded, y_train), (X_val_encoded, y_val)]\n",
        "\n",
        "model.fit(\n",
        "    X_train_encoded,\n",
        "    y_train,\n",
        "    eval_set=watchlist,\n",
        "    early_stopping_rounds=50,  # 50 rounds 동안 성능 개선이 없으면 학습을 중지합니다.\n",
        ")"
      ],
      "metadata": {
        "colab": {
          "base_uri": "https://localhost:8080/"
        },
        "id": "jmviq6-jq87d",
        "outputId": "0fcc2fc3-6647-4ec4-a797-a61b7da50dfb"
      },
      "execution_count": null,
      "outputs": [
        {
          "output_type": "stream",
          "name": "stdout",
          "text": [
            "[0]\tvalidation_0-auc:0.67583\tvalidation_1-auc:0.63959\n",
            "[1]\tvalidation_0-auc:0.69300\tvalidation_1-auc:0.64531\n",
            "[2]\tvalidation_0-auc:0.70140\tvalidation_1-auc:0.64980\n",
            "[3]\tvalidation_0-auc:0.70508\tvalidation_1-auc:0.65244\n",
            "[4]\tvalidation_0-auc:0.70839\tvalidation_1-auc:0.64981\n",
            "[5]\tvalidation_0-auc:0.71611\tvalidation_1-auc:0.65439\n",
            "[6]\tvalidation_0-auc:0.72154\tvalidation_1-auc:0.65178\n",
            "[7]\tvalidation_0-auc:0.72539\tvalidation_1-auc:0.65120\n",
            "[8]\tvalidation_0-auc:0.73051\tvalidation_1-auc:0.65058\n",
            "[9]\tvalidation_0-auc:0.73381\tvalidation_1-auc:0.64984\n",
            "[10]\tvalidation_0-auc:0.73666\tvalidation_1-auc:0.64796\n",
            "[11]\tvalidation_0-auc:0.73824\tvalidation_1-auc:0.64620\n",
            "[12]\tvalidation_0-auc:0.74381\tvalidation_1-auc:0.64599\n",
            "[13]\tvalidation_0-auc:0.74580\tvalidation_1-auc:0.64616\n",
            "[14]\tvalidation_0-auc:0.74642\tvalidation_1-auc:0.64639\n",
            "[15]\tvalidation_0-auc:0.74934\tvalidation_1-auc:0.64599\n",
            "[16]\tvalidation_0-auc:0.75273\tvalidation_1-auc:0.64254\n",
            "[17]\tvalidation_0-auc:0.75499\tvalidation_1-auc:0.64262\n",
            "[18]\tvalidation_0-auc:0.75814\tvalidation_1-auc:0.64480\n",
            "[19]\tvalidation_0-auc:0.76065\tvalidation_1-auc:0.64390\n",
            "[20]\tvalidation_0-auc:0.76102\tvalidation_1-auc:0.64384\n",
            "[21]\tvalidation_0-auc:0.76522\tvalidation_1-auc:0.64144\n",
            "[22]\tvalidation_0-auc:0.76538\tvalidation_1-auc:0.64182\n",
            "[23]\tvalidation_0-auc:0.76735\tvalidation_1-auc:0.64075\n",
            "[24]\tvalidation_0-auc:0.77148\tvalidation_1-auc:0.64253\n",
            "[25]\tvalidation_0-auc:0.77198\tvalidation_1-auc:0.64271\n",
            "[26]\tvalidation_0-auc:0.77529\tvalidation_1-auc:0.64322\n",
            "[27]\tvalidation_0-auc:0.77793\tvalidation_1-auc:0.64231\n",
            "[28]\tvalidation_0-auc:0.77987\tvalidation_1-auc:0.64215\n",
            "[29]\tvalidation_0-auc:0.78218\tvalidation_1-auc:0.64060\n",
            "[30]\tvalidation_0-auc:0.78406\tvalidation_1-auc:0.64024\n",
            "[31]\tvalidation_0-auc:0.78475\tvalidation_1-auc:0.63890\n",
            "[32]\tvalidation_0-auc:0.78674\tvalidation_1-auc:0.63937\n",
            "[33]\tvalidation_0-auc:0.78723\tvalidation_1-auc:0.63920\n",
            "[34]\tvalidation_0-auc:0.78805\tvalidation_1-auc:0.63904\n",
            "[35]\tvalidation_0-auc:0.79061\tvalidation_1-auc:0.63849\n",
            "[36]\tvalidation_0-auc:0.79260\tvalidation_1-auc:0.63802\n",
            "[37]\tvalidation_0-auc:0.79450\tvalidation_1-auc:0.63889\n",
            "[38]\tvalidation_0-auc:0.79478\tvalidation_1-auc:0.63905\n",
            "[39]\tvalidation_0-auc:0.79713\tvalidation_1-auc:0.63800\n",
            "[40]\tvalidation_0-auc:0.80212\tvalidation_1-auc:0.63519\n",
            "[41]\tvalidation_0-auc:0.80409\tvalidation_1-auc:0.63459\n",
            "[42]\tvalidation_0-auc:0.80640\tvalidation_1-auc:0.63463\n",
            "[43]\tvalidation_0-auc:0.80769\tvalidation_1-auc:0.63390\n",
            "[44]\tvalidation_0-auc:0.80892\tvalidation_1-auc:0.63335\n",
            "[45]\tvalidation_0-auc:0.81099\tvalidation_1-auc:0.63221\n",
            "[46]\tvalidation_0-auc:0.81220\tvalidation_1-auc:0.63221\n",
            "[47]\tvalidation_0-auc:0.81528\tvalidation_1-auc:0.63323\n",
            "[48]\tvalidation_0-auc:0.81542\tvalidation_1-auc:0.63279\n",
            "[49]\tvalidation_0-auc:0.82087\tvalidation_1-auc:0.63099\n",
            "[50]\tvalidation_0-auc:0.82159\tvalidation_1-auc:0.63064\n",
            "[51]\tvalidation_0-auc:0.82505\tvalidation_1-auc:0.63171\n",
            "[52]\tvalidation_0-auc:0.82549\tvalidation_1-auc:0.63119\n",
            "[53]\tvalidation_0-auc:0.82773\tvalidation_1-auc:0.63088\n",
            "[54]\tvalidation_0-auc:0.83118\tvalidation_1-auc:0.62979\n",
            "[55]\tvalidation_0-auc:0.83250\tvalidation_1-auc:0.63017\n"
          ]
        },
        {
          "output_type": "execute_result",
          "data": {
            "text/plain": [
              "XGBClassifier(base_score=0.5, booster='gbtree', callbacks=None,\n",
              "              colsample_bylevel=1, colsample_bynode=1, colsample_bytree=1,\n",
              "              early_stopping_rounds=None, enable_categorical=False,\n",
              "              eval_metric='auc', feature_types=None, gamma=0, gpu_id=-1,\n",
              "              grow_policy='depthwise', importance_type=None,\n",
              "              interaction_constraints='', learning_rate=0.300000012,\n",
              "              max_bin=256, max_cat_threshold=64, max_cat_to_onehot=4,\n",
              "              max_delta_step=0, max_depth=6, max_leaves=0, min_child_weight=1,\n",
              "              missing=nan, monotone_constraints='()', n_estimators=987654321,\n",
              "              n_jobs=0, num_parallel_tree=1, predictor='auto', random_state=42, ...)"
            ]
          },
          "metadata": {},
          "execution_count": 31
        }
      ]
    },
    {
      "cell_type": "code",
      "source": [
        "evaluation(model, X_val_encoded, y_val)"
      ],
      "metadata": {
        "colab": {
          "base_uri": "https://localhost:8080/",
          "height": 497
        },
        "id": "QwS6PM3c6yps",
        "outputId": "a94bd263-b2ea-4ac9-e825-f0ab8b2e6fef"
      },
      "execution_count": null,
      "outputs": [
        {
          "output_type": "stream",
          "name": "stdout",
          "text": [
            "AUC Score: 0.6498072750478621 \n",
            "\n",
            "              precision    recall  f1-score   support\n",
            "\n",
            "           0       0.96      0.55      0.70     10969\n",
            "           1       0.09      0.68      0.16       750\n",
            "\n",
            "    accuracy                           0.56     11719\n",
            "   macro avg       0.53      0.61      0.43     11719\n",
            "weighted avg       0.91      0.56      0.66     11719\n",
            " \n",
            "\n"
          ]
        },
        {
          "output_type": "display_data",
          "data": {
            "text/plain": [
              "<Figure size 432x288 with 2 Axes>"
            ],
            "image/png": "[encoded data removed]"
          },
          "metadata": {
            "needs_background": "light"
          }
        }
      ]
    },
    {
      "cell_type": "markdown",
      "source": [
        "## **Part 4. Undersampling**\n",
        "- `RandomUnderSampler`를 사용하여 GBDT 모델을 다시 학습하세요.\n",
        "  - `random_state=42`로 설정합니다.\n",
        "  - 모델 학습 시 하이퍼파라미터는 **Part 2**와 동일하게 설정합니다. \n",
        "  - **Part 2**와 동일하게 early stopping을 적용하세요. \n",
        "- 모델의 성능을 확인하세요.\n",
        "  - val set에 대하여 AUC score를 구하세요.\n",
        "  - `classification_report()`를 사용하여 성능을 확인하세요.\n",
        "  - confusion matrix를 그려 보세요."
      ],
      "metadata": {
        "id": "itP2McVswFUT"
      }
    },
    {
      "cell_type": "markdown",
      "source": [
        "##### **Q4. confusion matrix에서 TP 개수를 제출하세요.**"
      ],
      "metadata": {
        "id": "ZEA_k3RN8r2p"
      }
    },
    {
      "cell_type": "code",
      "source": [
        "# undersampling 적용\n",
        "X_train_sampled, y_train_sampled = RandomUnderSampler(random_state=42).fit_resample(\n",
        "    X_train_encoded, y_train\n",
        ")"
      ],
      "metadata": {
        "id": "0MBWk4Tp7oC2"
      },
      "execution_count": null,
      "outputs": []
    },
    {
      "cell_type": "code",
      "source": [
        "# 기존 target class \n",
        "y_train.value_counts()"
      ],
      "metadata": {
        "colab": {
          "base_uri": "https://localhost:8080/"
        },
        "id": "3ZggVPif7vdM",
        "outputId": "b233d3bb-29e5-4b8d-cbac-b037922d0874"
      },
      "execution_count": null,
      "outputs": [
        {
          "output_type": "execute_result",
          "data": {
            "text/plain": [
              "0    43875\n",
              "1     2998\n",
              "Name: is_claim, dtype: int64"
            ]
          },
          "metadata": {},
          "execution_count": 35
        }
      ]
    },
    {
      "cell_type": "code",
      "source": [
        "# undersampling 후 target class\n",
        "y_train_sampled.value_counts()"
      ],
      "metadata": {
        "colab": {
          "base_uri": "https://localhost:8080/"
        },
        "id": "Mt9l5P6b7yPl",
        "outputId": "092a7e42-dfb8-409f-b968-dfb58f6ff90b"
      },
      "execution_count": null,
      "outputs": [
        {
          "output_type": "execute_result",
          "data": {
            "text/plain": [
              "0    2998\n",
              "1    2998\n",
              "Name: is_claim, dtype: int64"
            ]
          },
          "metadata": {},
          "execution_count": 36
        }
      ]
    },
    {
      "cell_type": "code",
      "source": [
        "# 모델 학습\n",
        "\n",
        "model = XGBClassifier(\n",
        "    objective=\"binary:logistic\",\n",
        "    eval_metric=\"auc\",\n",
        "    n_estimators=987654321,\n",
        "    random_state=42\n",
        ")\n",
        "\n",
        "watchlist = [(X_train_sampled, y_train_sampled), (X_val_encoded, y_val)]\n",
        "\n",
        "model.fit(\n",
        "    X_train_sampled,\n",
        "    y_train_sampled,\n",
        "    eval_set=watchlist,\n",
        "    early_stopping_rounds=50,  # 50 rounds 동안 성능 개선이 없으면 학습을 중지합니다.\n",
        ")"
      ],
      "metadata": {
        "id": "JxLfy5rMrz3V",
        "colab": {
          "base_uri": "https://localhost:8080/"
        },
        "outputId": "16e91d01-cc3c-4901-8d06-1d084cf374d9"
      },
      "execution_count": null,
      "outputs": [
        {
          "output_type": "stream",
          "name": "stdout",
          "text": [
            "[0]\tvalidation_0-auc:0.69952\tvalidation_1-auc:0.62872\n",
            "[1]\tvalidation_0-auc:0.71296\tvalidation_1-auc:0.62442\n",
            "[2]\tvalidation_0-auc:0.72679\tvalidation_1-auc:0.63029\n",
            "[3]\tvalidation_0-auc:0.73414\tvalidation_1-auc:0.63646\n",
            "[4]\tvalidation_0-auc:0.74132\tvalidation_1-auc:0.63579\n",
            "[5]\tvalidation_0-auc:0.74913\tvalidation_1-auc:0.63553\n",
            "[6]\tvalidation_0-auc:0.75481\tvalidation_1-auc:0.63670\n",
            "[7]\tvalidation_0-auc:0.75830\tvalidation_1-auc:0.63675\n",
            "[8]\tvalidation_0-auc:0.75959\tvalidation_1-auc:0.63649\n",
            "[9]\tvalidation_0-auc:0.76855\tvalidation_1-auc:0.63352\n",
            "[10]\tvalidation_0-auc:0.77288\tvalidation_1-auc:0.63230\n",
            "[11]\tvalidation_0-auc:0.78215\tvalidation_1-auc:0.63352\n",
            "[12]\tvalidation_0-auc:0.78593\tvalidation_1-auc:0.63156\n",
            "[13]\tvalidation_0-auc:0.79019\tvalidation_1-auc:0.63059\n",
            "[14]\tvalidation_0-auc:0.79361\tvalidation_1-auc:0.63275\n",
            "[15]\tvalidation_0-auc:0.79782\tvalidation_1-auc:0.63069\n",
            "[16]\tvalidation_0-auc:0.80032\tvalidation_1-auc:0.63142\n",
            "[17]\tvalidation_0-auc:0.80528\tvalidation_1-auc:0.62956\n",
            "[18]\tvalidation_0-auc:0.80736\tvalidation_1-auc:0.62975\n",
            "[19]\tvalidation_0-auc:0.81006\tvalidation_1-auc:0.63006\n",
            "[20]\tvalidation_0-auc:0.81320\tvalidation_1-auc:0.63067\n",
            "[21]\tvalidation_0-auc:0.81855\tvalidation_1-auc:0.63037\n",
            "[22]\tvalidation_0-auc:0.82570\tvalidation_1-auc:0.62839\n",
            "[23]\tvalidation_0-auc:0.82659\tvalidation_1-auc:0.62823\n",
            "[24]\tvalidation_0-auc:0.82862\tvalidation_1-auc:0.62833\n",
            "[25]\tvalidation_0-auc:0.82953\tvalidation_1-auc:0.62727\n",
            "[26]\tvalidation_0-auc:0.83005\tvalidation_1-auc:0.62699\n",
            "[27]\tvalidation_0-auc:0.83170\tvalidation_1-auc:0.62623\n",
            "[28]\tvalidation_0-auc:0.83381\tvalidation_1-auc:0.62619\n",
            "[29]\tvalidation_0-auc:0.83668\tvalidation_1-auc:0.62551\n",
            "[30]\tvalidation_0-auc:0.83886\tvalidation_1-auc:0.62459\n",
            "[31]\tvalidation_0-auc:0.84106\tvalidation_1-auc:0.62446\n",
            "[32]\tvalidation_0-auc:0.84587\tvalidation_1-auc:0.62187\n",
            "[33]\tvalidation_0-auc:0.84755\tvalidation_1-auc:0.62152\n",
            "[34]\tvalidation_0-auc:0.85003\tvalidation_1-auc:0.62057\n",
            "[35]\tvalidation_0-auc:0.85241\tvalidation_1-auc:0.62018\n",
            "[36]\tvalidation_0-auc:0.85566\tvalidation_1-auc:0.62008\n",
            "[37]\tvalidation_0-auc:0.85588\tvalidation_1-auc:0.61983\n",
            "[38]\tvalidation_0-auc:0.85832\tvalidation_1-auc:0.62027\n",
            "[39]\tvalidation_0-auc:0.86002\tvalidation_1-auc:0.61986\n",
            "[40]\tvalidation_0-auc:0.86403\tvalidation_1-auc:0.61797\n",
            "[41]\tvalidation_0-auc:0.86657\tvalidation_1-auc:0.61778\n",
            "[42]\tvalidation_0-auc:0.87023\tvalidation_1-auc:0.61652\n",
            "[43]\tvalidation_0-auc:0.87280\tvalidation_1-auc:0.61649\n",
            "[44]\tvalidation_0-auc:0.87454\tvalidation_1-auc:0.61657\n",
            "[45]\tvalidation_0-auc:0.87533\tvalidation_1-auc:0.61645\n",
            "[46]\tvalidation_0-auc:0.87617\tvalidation_1-auc:0.61619\n",
            "[47]\tvalidation_0-auc:0.87661\tvalidation_1-auc:0.61607\n",
            "[48]\tvalidation_0-auc:0.87861\tvalidation_1-auc:0.61527\n",
            "[49]\tvalidation_0-auc:0.87947\tvalidation_1-auc:0.61520\n",
            "[50]\tvalidation_0-auc:0.88004\tvalidation_1-auc:0.61507\n",
            "[51]\tvalidation_0-auc:0.88176\tvalidation_1-auc:0.61524\n",
            "[52]\tvalidation_0-auc:0.88408\tvalidation_1-auc:0.61505\n",
            "[53]\tvalidation_0-auc:0.88500\tvalidation_1-auc:0.61479\n",
            "[54]\tvalidation_0-auc:0.88528\tvalidation_1-auc:0.61475\n",
            "[55]\tvalidation_0-auc:0.88603\tvalidation_1-auc:0.61486\n",
            "[56]\tvalidation_0-auc:0.88685\tvalidation_1-auc:0.61363\n",
            "[57]\tvalidation_0-auc:0.88657\tvalidation_1-auc:0.61396\n"
          ]
        },
        {
          "output_type": "execute_result",
          "data": {
            "text/plain": [
              "XGBClassifier(base_score=0.5, booster='gbtree', callbacks=None,\n",
              "              colsample_bylevel=1, colsample_bynode=1, colsample_bytree=1,\n",
              "              early_stopping_rounds=None, enable_categorical=False,\n",
              "              eval_metric='auc', feature_types=None, gamma=0, gpu_id=-1,\n",
              "              grow_policy='depthwise', importance_type=None,\n",
              "              interaction_constraints='', learning_rate=0.300000012,\n",
              "              max_bin=256, max_cat_threshold=64, max_cat_to_onehot=4,\n",
              "              max_delta_step=0, max_depth=6, max_leaves=0, min_child_weight=1,\n",
              "              missing=nan, monotone_constraints='()', n_estimators=987654321,\n",
              "              n_jobs=0, num_parallel_tree=1, predictor='auto', random_state=42, ...)"
            ]
          },
          "metadata": {},
          "execution_count": 37
        }
      ]
    },
    {
      "cell_type": "code",
      "source": [
        "evaluation(model, X_val_encoded, y_val)"
      ],
      "metadata": {
        "colab": {
          "base_uri": "https://localhost:8080/",
          "height": 493
        },
        "id": "do6HRdif8hB3",
        "outputId": "ef346dab-3762-4ad4-ac2a-c4f672244e50"
      },
      "execution_count": null,
      "outputs": [
        {
          "output_type": "stream",
          "name": "stdout",
          "text": [
            "AUC Score: 0.6367030115173063 \n",
            "\n",
            "              precision    recall  f1-score   support\n",
            "\n",
            "           0       0.96      0.51      0.66     10969\n",
            "           1       0.09      0.69      0.16       750\n",
            "\n",
            "    accuracy                           0.52     11719\n",
            "   macro avg       0.52      0.60      0.41     11719\n",
            "weighted avg       0.90      0.52      0.63     11719\n",
            " \n",
            "\n"
          ]
        },
        {
          "output_type": "display_data",
          "data": {
            "text/plain": [
              "<Figure size 432x288 with 2 Axes>"
            ],
            "image/png": "[encoded data removed]"
          },
          "metadata": {
            "needs_background": "light"
          }
        }
      ]
    },
    {
      "cell_type": "markdown",
      "source": [
        "## **Part 5. Oversampling**\n",
        "- `SMOTE`를 사용하여 GBDT 모델을 다시 학습하세요.\n",
        "  - `random_state=42`로 설정합니다.\n",
        "  - 모델 학습 시 하이퍼파라미터는 **Part 2**와 동일하게 설정합니다. \n",
        "  - **Part 2**와 동일하게 early stopping을 적용하세요. \n",
        "- 모델의 성능을 확인하세요.\n",
        "  - val set에 대하여 AUC score를 구하세요.\n",
        "  - `classification_report()`를 사용하여 성능을 확인하세요.\n",
        "  - confusion matrix를 그려 보세요."
      ],
      "metadata": {
        "id": "TNpWHLeEwSKp"
      }
    },
    {
      "cell_type": "markdown",
      "source": [
        "##### **Q5. confusion matrix에서 TP 개수를 제출하세요.**"
      ],
      "metadata": {
        "id": "ZMEdK20K-nAS"
      }
    },
    {
      "cell_type": "code",
      "source": [
        "X_train_sampled, y_train_sampled = SMOTE(random_state=42).fit_resample(\n",
        "    X_train_encoded, y_train\n",
        ")"
      ],
      "metadata": {
        "id": "OIfZ0F_Wto9N"
      },
      "execution_count": null,
      "outputs": []
    },
    {
      "cell_type": "code",
      "source": [
        "y_train.value_counts()"
      ],
      "metadata": {
        "colab": {
          "base_uri": "https://localhost:8080/"
        },
        "id": "ySh2Nz2ItxeJ",
        "outputId": "3f525df4-3f4a-4976-a062-a97f45178e5b"
      },
      "execution_count": null,
      "outputs": [
        {
          "output_type": "execute_result",
          "data": {
            "text/plain": [
              "0    43875\n",
              "1     2998\n",
              "Name: is_claim, dtype: int64"
            ]
          },
          "metadata": {},
          "execution_count": 40
        }
      ]
    },
    {
      "cell_type": "code",
      "source": [
        "y_train_sampled.value_counts()"
      ],
      "metadata": {
        "colab": {
          "base_uri": "https://localhost:8080/"
        },
        "id": "EWKFtz5Vttwl",
        "outputId": "dede0a28-e189-4e3c-ae1a-0cf680fec367"
      },
      "execution_count": null,
      "outputs": [
        {
          "output_type": "execute_result",
          "data": {
            "text/plain": [
              "0    43875\n",
              "1    43875\n",
              "Name: is_claim, dtype: int64"
            ]
          },
          "metadata": {},
          "execution_count": 41
        }
      ]
    },
    {
      "cell_type": "code",
      "source": [
        "model = XGBClassifier(\n",
        "    objective=\"binary:logistic\",\n",
        "    eval_metric=\"auc\",\n",
        "    n_estimators=987654321,\n",
        "    random_state=42\n",
        ")\n",
        "\n",
        "watchlist = [(X_train_sampled, y_train_sampled), (X_val_encoded, y_val)]\n",
        "\n",
        "model.fit(\n",
        "    X_train_sampled,\n",
        "    y_train_sampled,\n",
        "    eval_set=watchlist,\n",
        "    early_stopping_rounds=50,  # 50 rounds 동안 성능 개선이 없으면 학습을 중지합니다.\n",
        ")"
      ],
      "metadata": {
        "colab": {
          "base_uri": "https://localhost:8080/"
        },
        "id": "h09weEDjt6Kb",
        "outputId": "0d3bc774-75e1-47e8-e2fb-449d441a4711"
      },
      "execution_count": null,
      "outputs": [
        {
          "output_type": "stream",
          "name": "stdout",
          "text": [
            "[0]\tvalidation_0-auc:0.77261\tvalidation_1-auc:0.59908\n",
            "[1]\tvalidation_0-auc:0.81384\tvalidation_1-auc:0.61104\n",
            "[2]\tvalidation_0-auc:0.82345\tvalidation_1-auc:0.61333\n",
            "[3]\tvalidation_0-auc:0.84998\tvalidation_1-auc:0.60829\n",
            "[4]\tvalidation_0-auc:0.87009\tvalidation_1-auc:0.61158\n",
            "[5]\tvalidation_0-auc:0.89226\tvalidation_1-auc:0.61564\n",
            "[6]\tvalidation_0-auc:0.92088\tvalidation_1-auc:0.61804\n",
            "[7]\tvalidation_0-auc:0.93446\tvalidation_1-auc:0.62612\n",
            "[8]\tvalidation_0-auc:0.93997\tvalidation_1-auc:0.62468\n",
            "[9]\tvalidation_0-auc:0.94291\tvalidation_1-auc:0.62317\n",
            "[10]\tvalidation_0-auc:0.94343\tvalidation_1-auc:0.61893\n",
            "[11]\tvalidation_0-auc:0.94982\tvalidation_1-auc:0.62303\n",
            "[12]\tvalidation_0-auc:0.95461\tvalidation_1-auc:0.62775\n",
            "[13]\tvalidation_0-auc:0.95526\tvalidation_1-auc:0.62830\n",
            "[14]\tvalidation_0-auc:0.95815\tvalidation_1-auc:0.62880\n",
            "[15]\tvalidation_0-auc:0.96062\tvalidation_1-auc:0.63125\n",
            "[16]\tvalidation_0-auc:0.96217\tvalidation_1-auc:0.62914\n",
            "[17]\tvalidation_0-auc:0.96266\tvalidation_1-auc:0.63154\n",
            "[18]\tvalidation_0-auc:0.96505\tvalidation_1-auc:0.63181\n",
            "[19]\tvalidation_0-auc:0.96564\tvalidation_1-auc:0.63392\n",
            "[20]\tvalidation_0-auc:0.96652\tvalidation_1-auc:0.63515\n",
            "[21]\tvalidation_0-auc:0.96743\tvalidation_1-auc:0.63467\n",
            "[22]\tvalidation_0-auc:0.96759\tvalidation_1-auc:0.63566\n",
            "[23]\tvalidation_0-auc:0.96838\tvalidation_1-auc:0.63800\n",
            "[24]\tvalidation_0-auc:0.96897\tvalidation_1-auc:0.63704\n",
            "[25]\tvalidation_0-auc:0.96905\tvalidation_1-auc:0.63676\n",
            "[26]\tvalidation_0-auc:0.96930\tvalidation_1-auc:0.63594\n",
            "[27]\tvalidation_0-auc:0.96971\tvalidation_1-auc:0.63739\n",
            "[28]\tvalidation_0-auc:0.97086\tvalidation_1-auc:0.63682\n",
            "[29]\tvalidation_0-auc:0.97133\tvalidation_1-auc:0.63760\n",
            "[30]\tvalidation_0-auc:0.97151\tvalidation_1-auc:0.63880\n",
            "[31]\tvalidation_0-auc:0.97232\tvalidation_1-auc:0.63762\n",
            "[32]\tvalidation_0-auc:0.97253\tvalidation_1-auc:0.63775\n",
            "[33]\tvalidation_0-auc:0.97290\tvalidation_1-auc:0.63739\n",
            "[34]\tvalidation_0-auc:0.97317\tvalidation_1-auc:0.63687\n",
            "[35]\tvalidation_0-auc:0.97360\tvalidation_1-auc:0.63729\n",
            "[36]\tvalidation_0-auc:0.97377\tvalidation_1-auc:0.63789\n",
            "[37]\tvalidation_0-auc:0.97487\tvalidation_1-auc:0.63933\n",
            "[38]\tvalidation_0-auc:0.97526\tvalidation_1-auc:0.64019\n",
            "[39]\tvalidation_0-auc:0.97553\tvalidation_1-auc:0.64136\n",
            "[40]\tvalidation_0-auc:0.97588\tvalidation_1-auc:0.64030\n",
            "[41]\tvalidation_0-auc:0.97610\tvalidation_1-auc:0.63847\n",
            "[42]\tvalidation_0-auc:0.97628\tvalidation_1-auc:0.63749\n",
            "[43]\tvalidation_0-auc:0.97643\tvalidation_1-auc:0.63694\n",
            "[44]\tvalidation_0-auc:0.97673\tvalidation_1-auc:0.63605\n",
            "[45]\tvalidation_0-auc:0.97770\tvalidation_1-auc:0.63783\n",
            "[46]\tvalidation_0-auc:0.97869\tvalidation_1-auc:0.63628\n",
            "[47]\tvalidation_0-auc:0.97893\tvalidation_1-auc:0.63664\n",
            "[48]\tvalidation_0-auc:0.97946\tvalidation_1-auc:0.63509\n",
            "[49]\tvalidation_0-auc:0.97968\tvalidation_1-auc:0.63502\n",
            "[50]\tvalidation_0-auc:0.97989\tvalidation_1-auc:0.63562\n",
            "[51]\tvalidation_0-auc:0.98028\tvalidation_1-auc:0.63626\n",
            "[52]\tvalidation_0-auc:0.98039\tvalidation_1-auc:0.63633\n",
            "[53]\tvalidation_0-auc:0.98048\tvalidation_1-auc:0.63714\n",
            "[54]\tvalidation_0-auc:0.98063\tvalidation_1-auc:0.63708\n",
            "[55]\tvalidation_0-auc:0.98069\tvalidation_1-auc:0.63677\n",
            "[56]\tvalidation_0-auc:0.98098\tvalidation_1-auc:0.63698\n",
            "[57]\tvalidation_0-auc:0.98104\tvalidation_1-auc:0.63542\n",
            "[58]\tvalidation_0-auc:0.98119\tvalidation_1-auc:0.63485\n",
            "[59]\tvalidation_0-auc:0.98139\tvalidation_1-auc:0.63396\n",
            "[60]\tvalidation_0-auc:0.98152\tvalidation_1-auc:0.63409\n",
            "[61]\tvalidation_0-auc:0.98175\tvalidation_1-auc:0.63518\n",
            "[62]\tvalidation_0-auc:0.98204\tvalidation_1-auc:0.63525\n",
            "[63]\tvalidation_0-auc:0.98215\tvalidation_1-auc:0.63521\n",
            "[64]\tvalidation_0-auc:0.98219\tvalidation_1-auc:0.63394\n",
            "[65]\tvalidation_0-auc:0.98245\tvalidation_1-auc:0.63362\n",
            "[66]\tvalidation_0-auc:0.98255\tvalidation_1-auc:0.63336\n",
            "[67]\tvalidation_0-auc:0.98268\tvalidation_1-auc:0.63286\n",
            "[68]\tvalidation_0-auc:0.98271\tvalidation_1-auc:0.63309\n",
            "[69]\tvalidation_0-auc:0.98285\tvalidation_1-auc:0.63323\n",
            "[70]\tvalidation_0-auc:0.98301\tvalidation_1-auc:0.63392\n",
            "[71]\tvalidation_0-auc:0.98315\tvalidation_1-auc:0.63431\n",
            "[72]\tvalidation_0-auc:0.98332\tvalidation_1-auc:0.63471\n",
            "[73]\tvalidation_0-auc:0.98343\tvalidation_1-auc:0.63370\n",
            "[74]\tvalidation_0-auc:0.98353\tvalidation_1-auc:0.63208\n",
            "[75]\tvalidation_0-auc:0.98364\tvalidation_1-auc:0.63277\n",
            "[76]\tvalidation_0-auc:0.98371\tvalidation_1-auc:0.63305\n",
            "[77]\tvalidation_0-auc:0.98386\tvalidation_1-auc:0.63209\n",
            "[78]\tvalidation_0-auc:0.98395\tvalidation_1-auc:0.63116\n",
            "[79]\tvalidation_0-auc:0.98401\tvalidation_1-auc:0.63132\n",
            "[80]\tvalidation_0-auc:0.98409\tvalidation_1-auc:0.63104\n",
            "[81]\tvalidation_0-auc:0.98417\tvalidation_1-auc:0.63049\n",
            "[82]\tvalidation_0-auc:0.98424\tvalidation_1-auc:0.63045\n",
            "[83]\tvalidation_0-auc:0.98431\tvalidation_1-auc:0.62975\n",
            "[84]\tvalidation_0-auc:0.98438\tvalidation_1-auc:0.62829\n",
            "[85]\tvalidation_0-auc:0.98446\tvalidation_1-auc:0.62853\n",
            "[86]\tvalidation_0-auc:0.98462\tvalidation_1-auc:0.62771\n",
            "[87]\tvalidation_0-auc:0.98474\tvalidation_1-auc:0.62797\n",
            "[88]\tvalidation_0-auc:0.98483\tvalidation_1-auc:0.62848\n"
          ]
        },
        {
          "output_type": "execute_result",
          "data": {
            "text/plain": [
              "XGBClassifier(base_score=0.5, booster='gbtree', callbacks=None,\n",
              "              colsample_bylevel=1, colsample_bynode=1, colsample_bytree=1,\n",
              "              early_stopping_rounds=None, enable_categorical=False,\n",
              "              eval_metric='auc', feature_types=None, gamma=0, gpu_id=-1,\n",
              "              grow_policy='depthwise', importance_type=None,\n",
              "              interaction_constraints='', learning_rate=0.300000012,\n",
              "              max_bin=256, max_cat_threshold=64, max_cat_to_onehot=4,\n",
              "              max_delta_step=0, max_depth=6, max_leaves=0, min_child_weight=1,\n",
              "              missing=nan, monotone_constraints='()', n_estimators=987654321,\n",
              "              n_jobs=0, num_parallel_tree=1, predictor='auto', random_state=42, ...)"
            ]
          },
          "metadata": {},
          "execution_count": 42
        }
      ]
    },
    {
      "cell_type": "code",
      "source": [
        "evaluation(model, X_val_encoded, y_val)"
      ],
      "metadata": {
        "colab": {
          "base_uri": "https://localhost:8080/",
          "height": 493
        },
        "id": "7mNWRAZ49emb",
        "outputId": "10e4d706-828c-4566-cd7c-29d38d24fe55"
      },
      "execution_count": null,
      "outputs": [
        {
          "output_type": "stream",
          "name": "stdout",
          "text": [
            "AUC Score: 0.6401930288388489 \n",
            "\n",
            "              precision    recall  f1-score   support\n",
            "\n",
            "           0       0.94      0.98      0.96     10969\n",
            "           1       0.13      0.05      0.07       750\n",
            "\n",
            "    accuracy                           0.92     11719\n",
            "   macro avg       0.54      0.51      0.51     11719\n",
            "weighted avg       0.89      0.92      0.90     11719\n",
            " \n",
            "\n"
          ]
        },
        {
          "output_type": "display_data",
          "data": {
            "text/plain": [
              "<Figure size 432x288 with 2 Axes>"
            ],
            "image/png": "[encoded data removed]"
          },
          "metadata": {
            "needs_background": "light"
          }
        }
      ]
    },
    {
      "cell_type": "markdown",
      "source": [
        "## **Part 6. Oversampling + Undersampling**\n",
        "\n",
        "- `SMOTEENN`을 사용하여 GBDT 모델을 다시 학습하세요.\n",
        "  - `random_state=42`로 설정합니다.\n",
        "  - 모델 학습 시 하이퍼파라미터는 **Part 2**와 동일하게 설정하고, `scale_pos_weight`를 사용하세요.  \n",
        "  - **Part 2**와 동일하게 early stopping을 적용하세요. \n",
        "- 모델의 성능을 확인하세요.\n",
        "  - val set에 대하여 AUC score를 구하세요.\n",
        "  - `classification_report()`를 사용하여 성능을 확인하세요.\n",
        "  - confusion matrix를 그려 보세요."
      ],
      "metadata": {
        "id": "hXOeqg_LwXbJ"
      }
    },
    {
      "cell_type": "markdown",
      "source": [
        "##### **Q6. confusion matrix에서 TP 개수를 제출하세요.**"
      ],
      "metadata": {
        "id": "fY7TWOTTAM_R"
      }
    },
    {
      "cell_type": "code",
      "source": [
        "from imblearn.combine import SMOTEENN\n",
        "\n",
        "X_train_sampled, y_train_sampled = SMOTEENN(random_state=42).fit_resample(\n",
        "    X_train_encoded, y_train\n",
        ")"
      ],
      "metadata": {
        "id": "4RxEvE8i-4qK"
      },
      "execution_count": null,
      "outputs": []
    },
    {
      "cell_type": "code",
      "source": [
        "y_train.value_counts()"
      ],
      "metadata": {
        "colab": {
          "base_uri": "https://localhost:8080/"
        },
        "id": "gX14cZrz-9kf",
        "outputId": "fd3e247b-6b8f-4742-b1f5-a5d60a10a721"
      },
      "execution_count": null,
      "outputs": [
        {
          "output_type": "execute_result",
          "data": {
            "text/plain": [
              "0    43875\n",
              "1     2998\n",
              "Name: is_claim, dtype: int64"
            ]
          },
          "metadata": {},
          "execution_count": 45
        }
      ]
    },
    {
      "cell_type": "code",
      "source": [
        "y_train_sampled.value_counts()"
      ],
      "metadata": {
        "colab": {
          "base_uri": "https://localhost:8080/"
        },
        "id": "yYyX5adTuXTw",
        "outputId": "9a60127e-2a56-4336-de6a-3b9414a1655d"
      },
      "execution_count": null,
      "outputs": [
        {
          "output_type": "execute_result",
          "data": {
            "text/plain": [
              "1    32722\n",
              "0    26266\n",
              "Name: is_claim, dtype: int64"
            ]
          },
          "metadata": {},
          "execution_count": 46
        }
      ]
    },
    {
      "cell_type": "code",
      "source": [
        "model = XGBClassifier(\n",
        "    objective=\"binary:logistic\",\n",
        "    eval_metric=\"auc\",\n",
        "    n_estimators=987654321,\n",
        "    random_state=42,\n",
        "    scale_pos_weight=(y_train_sampled == 0).sum() / (y_train_sampled == 1).sum(),\n",
        ")\n",
        "\n",
        "watchlist = [(X_train_sampled, y_train_sampled), (X_val_encoded, y_val)]\n",
        "\n",
        "model.fit(\n",
        "    X_train_sampled,\n",
        "    y_train_sampled,\n",
        "    eval_set=watchlist,\n",
        "    early_stopping_rounds=50,  # 50 rounds 동안 성능 개선이 없으면 학습을 중지합니다.\n",
        ")"
      ],
      "metadata": {
        "id": "3TzqRBePuNz9",
        "colab": {
          "base_uri": "https://localhost:8080/"
        },
        "outputId": "6369759d-25e0-4343-92cf-def2842e6771"
      },
      "execution_count": null,
      "outputs": [
        {
          "output_type": "stream",
          "name": "stdout",
          "text": [
            "[0]\tvalidation_0-auc:0.80551\tvalidation_1-auc:0.60315\n",
            "[1]\tvalidation_0-auc:0.84047\tvalidation_1-auc:0.61698\n",
            "[2]\tvalidation_0-auc:0.87014\tvalidation_1-auc:0.61837\n",
            "[3]\tvalidation_0-auc:0.88950\tvalidation_1-auc:0.62442\n",
            "[4]\tvalidation_0-auc:0.89472\tvalidation_1-auc:0.62498\n",
            "[5]\tvalidation_0-auc:0.89916\tvalidation_1-auc:0.62334\n",
            "[6]\tvalidation_0-auc:0.90579\tvalidation_1-auc:0.62651\n",
            "[7]\tvalidation_0-auc:0.91279\tvalidation_1-auc:0.62484\n",
            "[8]\tvalidation_0-auc:0.92265\tvalidation_1-auc:0.62189\n",
            "[9]\tvalidation_0-auc:0.93810\tvalidation_1-auc:0.62703\n",
            "[10]\tvalidation_0-auc:0.94295\tvalidation_1-auc:0.62820\n",
            "[11]\tvalidation_0-auc:0.94881\tvalidation_1-auc:0.62709\n",
            "[12]\tvalidation_0-auc:0.95035\tvalidation_1-auc:0.62402\n",
            "[13]\tvalidation_0-auc:0.95092\tvalidation_1-auc:0.62613\n",
            "[14]\tvalidation_0-auc:0.96060\tvalidation_1-auc:0.62872\n",
            "[15]\tvalidation_0-auc:0.96585\tvalidation_1-auc:0.63106\n",
            "[16]\tvalidation_0-auc:0.96819\tvalidation_1-auc:0.63237\n",
            "[17]\tvalidation_0-auc:0.96890\tvalidation_1-auc:0.63188\n",
            "[18]\tvalidation_0-auc:0.96909\tvalidation_1-auc:0.63039\n",
            "[19]\tvalidation_0-auc:0.97092\tvalidation_1-auc:0.63082\n",
            "[20]\tvalidation_0-auc:0.97141\tvalidation_1-auc:0.63268\n",
            "[21]\tvalidation_0-auc:0.97218\tvalidation_1-auc:0.63307\n",
            "[22]\tvalidation_0-auc:0.97274\tvalidation_1-auc:0.63214\n",
            "[23]\tvalidation_0-auc:0.97323\tvalidation_1-auc:0.63278\n",
            "[24]\tvalidation_0-auc:0.97395\tvalidation_1-auc:0.63153\n",
            "[25]\tvalidation_0-auc:0.97447\tvalidation_1-auc:0.63131\n",
            "[26]\tvalidation_0-auc:0.97483\tvalidation_1-auc:0.63189\n",
            "[27]\tvalidation_0-auc:0.97511\tvalidation_1-auc:0.63193\n",
            "[28]\tvalidation_0-auc:0.97579\tvalidation_1-auc:0.63210\n",
            "[29]\tvalidation_0-auc:0.97593\tvalidation_1-auc:0.63168\n",
            "[30]\tvalidation_0-auc:0.97673\tvalidation_1-auc:0.63394\n",
            "[31]\tvalidation_0-auc:0.97701\tvalidation_1-auc:0.63434\n",
            "[32]\tvalidation_0-auc:0.97736\tvalidation_1-auc:0.63643\n",
            "[33]\tvalidation_0-auc:0.97753\tvalidation_1-auc:0.63589\n",
            "[34]\tvalidation_0-auc:0.97788\tvalidation_1-auc:0.63606\n",
            "[35]\tvalidation_0-auc:0.97883\tvalidation_1-auc:0.63493\n",
            "[36]\tvalidation_0-auc:0.97924\tvalidation_1-auc:0.63588\n",
            "[37]\tvalidation_0-auc:0.97941\tvalidation_1-auc:0.63536\n",
            "[38]\tvalidation_0-auc:0.97954\tvalidation_1-auc:0.63590\n",
            "[39]\tvalidation_0-auc:0.98007\tvalidation_1-auc:0.63764\n",
            "[40]\tvalidation_0-auc:0.98015\tvalidation_1-auc:0.63679\n",
            "[41]\tvalidation_0-auc:0.98079\tvalidation_1-auc:0.63705\n",
            "[42]\tvalidation_0-auc:0.98115\tvalidation_1-auc:0.63625\n",
            "[43]\tvalidation_0-auc:0.98145\tvalidation_1-auc:0.63670\n",
            "[44]\tvalidation_0-auc:0.98176\tvalidation_1-auc:0.63690\n",
            "[45]\tvalidation_0-auc:0.98188\tvalidation_1-auc:0.63605\n",
            "[46]\tvalidation_0-auc:0.98266\tvalidation_1-auc:0.63738\n",
            "[47]\tvalidation_0-auc:0.98303\tvalidation_1-auc:0.63728\n",
            "[48]\tvalidation_0-auc:0.98361\tvalidation_1-auc:0.63897\n",
            "[49]\tvalidation_0-auc:0.98394\tvalidation_1-auc:0.63826\n",
            "[50]\tvalidation_0-auc:0.98403\tvalidation_1-auc:0.63870\n",
            "[51]\tvalidation_0-auc:0.98427\tvalidation_1-auc:0.63874\n",
            "[52]\tvalidation_0-auc:0.98446\tvalidation_1-auc:0.63832\n",
            "[53]\tvalidation_0-auc:0.98468\tvalidation_1-auc:0.63784\n",
            "[54]\tvalidation_0-auc:0.98489\tvalidation_1-auc:0.63822\n",
            "[55]\tvalidation_0-auc:0.98500\tvalidation_1-auc:0.63692\n",
            "[56]\tvalidation_0-auc:0.98505\tvalidation_1-auc:0.63676\n",
            "[57]\tvalidation_0-auc:0.98515\tvalidation_1-auc:0.63643\n",
            "[58]\tvalidation_0-auc:0.98524\tvalidation_1-auc:0.63632\n",
            "[59]\tvalidation_0-auc:0.98532\tvalidation_1-auc:0.63527\n",
            "[60]\tvalidation_0-auc:0.98557\tvalidation_1-auc:0.63483\n",
            "[61]\tvalidation_0-auc:0.98574\tvalidation_1-auc:0.63442\n",
            "[62]\tvalidation_0-auc:0.98583\tvalidation_1-auc:0.63482\n",
            "[63]\tvalidation_0-auc:0.98604\tvalidation_1-auc:0.63403\n",
            "[64]\tvalidation_0-auc:0.98620\tvalidation_1-auc:0.63409\n",
            "[65]\tvalidation_0-auc:0.98634\tvalidation_1-auc:0.63267\n",
            "[66]\tvalidation_0-auc:0.98640\tvalidation_1-auc:0.63291\n",
            "[67]\tvalidation_0-auc:0.98647\tvalidation_1-auc:0.63281\n",
            "[68]\tvalidation_0-auc:0.98659\tvalidation_1-auc:0.63384\n",
            "[69]\tvalidation_0-auc:0.98669\tvalidation_1-auc:0.63262\n",
            "[70]\tvalidation_0-auc:0.98683\tvalidation_1-auc:0.63224\n",
            "[71]\tvalidation_0-auc:0.98694\tvalidation_1-auc:0.63214\n",
            "[72]\tvalidation_0-auc:0.98707\tvalidation_1-auc:0.63258\n",
            "[73]\tvalidation_0-auc:0.98714\tvalidation_1-auc:0.63278\n",
            "[74]\tvalidation_0-auc:0.98721\tvalidation_1-auc:0.63232\n",
            "[75]\tvalidation_0-auc:0.98730\tvalidation_1-auc:0.63252\n",
            "[76]\tvalidation_0-auc:0.98731\tvalidation_1-auc:0.63278\n",
            "[77]\tvalidation_0-auc:0.98747\tvalidation_1-auc:0.63323\n",
            "[78]\tvalidation_0-auc:0.98764\tvalidation_1-auc:0.63385\n",
            "[79]\tvalidation_0-auc:0.98774\tvalidation_1-auc:0.63412\n",
            "[80]\tvalidation_0-auc:0.98783\tvalidation_1-auc:0.63411\n",
            "[81]\tvalidation_0-auc:0.98791\tvalidation_1-auc:0.63330\n",
            "[82]\tvalidation_0-auc:0.98795\tvalidation_1-auc:0.63323\n",
            "[83]\tvalidation_0-auc:0.98815\tvalidation_1-auc:0.63473\n",
            "[84]\tvalidation_0-auc:0.98827\tvalidation_1-auc:0.63381\n",
            "[85]\tvalidation_0-auc:0.98841\tvalidation_1-auc:0.63284\n",
            "[86]\tvalidation_0-auc:0.98845\tvalidation_1-auc:0.63287\n",
            "[87]\tvalidation_0-auc:0.98849\tvalidation_1-auc:0.63226\n",
            "[88]\tvalidation_0-auc:0.98854\tvalidation_1-auc:0.63216\n",
            "[89]\tvalidation_0-auc:0.98862\tvalidation_1-auc:0.63183\n",
            "[90]\tvalidation_0-auc:0.98869\tvalidation_1-auc:0.63170\n",
            "[91]\tvalidation_0-auc:0.98874\tvalidation_1-auc:0.63153\n",
            "[92]\tvalidation_0-auc:0.98876\tvalidation_1-auc:0.63109\n",
            "[93]\tvalidation_0-auc:0.98886\tvalidation_1-auc:0.63182\n",
            "[94]\tvalidation_0-auc:0.98895\tvalidation_1-auc:0.63236\n",
            "[95]\tvalidation_0-auc:0.98903\tvalidation_1-auc:0.63223\n",
            "[96]\tvalidation_0-auc:0.98914\tvalidation_1-auc:0.63101\n",
            "[97]\tvalidation_0-auc:0.98921\tvalidation_1-auc:0.63007\n"
          ]
        },
        {
          "output_type": "execute_result",
          "data": {
            "text/plain": [
              "XGBClassifier(base_score=0.5, booster='gbtree', callbacks=None,\n",
              "              colsample_bylevel=1, colsample_bynode=1, colsample_bytree=1,\n",
              "              early_stopping_rounds=None, enable_categorical=False,\n",
              "              eval_metric='auc', feature_types=None, gamma=0, gpu_id=-1,\n",
              "              grow_policy='depthwise', importance_type=None,\n",
              "              interaction_constraints='', learning_rate=0.300000012,\n",
              "              max_bin=256, max_cat_threshold=64, max_cat_to_onehot=4,\n",
              "              max_delta_step=0, max_depth=6, max_leaves=0, min_child_weight=1,\n",
              "              missing=nan, monotone_constraints='()', n_estimators=987654321,\n",
              "              n_jobs=0, num_parallel_tree=1, predictor='auto', random_state=42, ...)"
            ]
          },
          "metadata": {},
          "execution_count": 47
        }
      ]
    },
    {
      "cell_type": "code",
      "source": [
        "evaluation(model, X_val_encoded, y_val)"
      ],
      "metadata": {
        "colab": {
          "base_uri": "https://localhost:8080/",
          "height": 493
        },
        "id": "RsFh_Irt_YqZ",
        "outputId": "6acfa16d-28d6-4d26-d3af-b7b009d31ae8"
      },
      "execution_count": null,
      "outputs": [
        {
          "output_type": "stream",
          "name": "stdout",
          "text": [
            "AUC Score: 0.637283860576777 \n",
            "\n",
            "              precision    recall  f1-score   support\n",
            "\n",
            "           0       0.94      0.97      0.95     10969\n",
            "           1       0.14      0.07      0.09       750\n",
            "\n",
            "    accuracy                           0.91     11719\n",
            "   macro avg       0.54      0.52      0.52     11719\n",
            "weighted avg       0.89      0.91      0.90     11719\n",
            " \n",
            "\n"
          ]
        },
        {
          "output_type": "display_data",
          "data": {
            "text/plain": [
              "<Figure size 432x288 with 2 Axes>"
            ],
            "image/png": "[encoded data removed]"
          },
          "metadata": {
            "needs_background": "light"
          }
        }
      ]
    },
    {
      "cell_type": "markdown",
      "source": [
        "# **🥇 도전 과제**\n",
        "\n",
        "지금까지 sprint3의 모든 도전과제를 수행하였다면, 의미있는 인사이트를 도출할 수 있도록 EDA나 다양한 모델 학습, 하이퍼파라미터 튜닝 등을 추가하여 더 develop 해 보시기 바랍니다. \n",
        "또한 Readme를 보완(또는 작성)하여 sprint3 내용을 복습해 보세요.\n",
        "\n",
        "여러분의 프로젝트를 응원합니다!"
      ],
      "metadata": {
        "id": "Y40hriFM8sDI"
      }
    }
  ]
}